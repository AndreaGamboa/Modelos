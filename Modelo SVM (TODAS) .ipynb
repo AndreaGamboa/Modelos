{
 "cells": [
  {
   "cell_type": "markdown",
   "metadata": {},
   "source": [
    "## MÁQUINAS DE SOPORTE VECTORIAL"
   ]
  },
  {
   "cell_type": "code",
   "execution_count": 1,
   "metadata": {},
   "outputs": [
    {
     "name": "stderr",
     "output_type": "stream",
     "text": [
      "C:\\Users\\andrea\\A\\lib\\site-packages\\sklearn\\cross_validation.py:41: DeprecationWarning: This module was deprecated in version 0.18 in favor of the model_selection module into which all the refactored classes and functions are moved. Also note that the interface of the new CV iterators are different from that of this module. This module will be removed in 0.20.\n",
      "  \"This module will be removed in 0.20.\", DeprecationWarning)\n",
      "C:\\Users\\andrea\\A\\lib\\site-packages\\sklearn\\grid_search.py:42: DeprecationWarning: This module was deprecated in version 0.18 in favor of the model_selection module into which all the refactored classes and functions are moved. This module will be removed in 0.20.\n",
      "  DeprecationWarning)\n"
     ]
    }
   ],
   "source": [
    "%matplotlib inline\n",
    "import pandas as pd\n",
    "import numpy as np\n",
    "import matplotlib.pyplot as plt\n",
    "from sklearn import svm\n",
    "from sklearn.svm import SVR # \"Support vector regression\"\n",
    "from sklearn.model_selection import GridSearchCV\n",
    "from sklearn import preprocessing\n",
    "\n",
    "from sklearn.preprocessing import MinMaxScaler\n",
    "from statsmodels.graphics.api import abline_plot\n",
    "from scipy import stats\n",
    "from statsmodels import graphics\n",
    "from sklearn import cross_validation \n",
    "from sklearn import grid_search\n",
    "\n",
    "from sklearn.model_selection import train_test_split, cross_val_predict, cross_validate, RepeatedKFold, ShuffleSplit, learning_curve\n",
    "from sklearn.metrics import r2_score, median_absolute_error,mean_squared_error\n",
    "\n",
    "from sklearn.model_selection import train_test_split\n",
    "from statsmodels.tools.eval_measures import rmse\n",
    "pd.set_option(\"display.max_rows\", 10)"
   ]
  },
  {
   "cell_type": "code",
   "execution_count": 2,
   "metadata": {},
   "outputs": [],
   "source": [
    "#Importando conjunto de datos\n",
    "\n",
    "cacao=pd.read_excel(\"TODAS LAS VARIABLES Y TOTAL.xlsx\")"
   ]
  },
  {
   "cell_type": "code",
   "execution_count": 3,
   "metadata": {},
   "outputs": [],
   "source": [
    "#Eliminar valores faltantes del conjunto de datos\n",
    "\n",
    "cacao=cacao.dropna()"
   ]
  },
  {
   "cell_type": "code",
   "execution_count": 4,
   "metadata": {},
   "outputs": [],
   "source": [
    "#Definir variables exógenas\n",
    "\n",
    "x=cacao[[   \"Uso eficiente del agua\", \"Transpiracion\",\n",
    "            \"Diametro tronco (cm)\",\n",
    "            \"P\", \"MO\", \"Na\", \"Mg\",\n",
    "            \"%A\", \"%Hum/Grav\",\n",
    "            \"Radiacion\", \"Temperatura\", \"Humedad\", \"Lluvias acumuladas (mms)\" ]]"
   ]
  },
  {
   "cell_type": "code",
   "execution_count": 5,
   "metadata": {},
   "outputs": [],
   "source": [
    "#Definir variable endógena\n",
    "\n",
    "y=cacao[\"Rendimiento\"]"
   ]
  },
  {
   "cell_type": "markdown",
   "metadata": {},
   "source": [
    "### Histograma variable respuesta"
   ]
  },
  {
   "cell_type": "code",
   "execution_count": 6,
   "metadata": {
    "scrolled": false
   },
   "outputs": [
    {
     "data": {
      "image/png": "[encoded data removed]",
      "text/plain": [
       "<Figure size 432x288 with 1 Axes>"
      ]
     },
     "metadata": {},
     "output_type": "display_data"
    }
   ],
   "source": [
    "Respuesta=[\"Rendimiento\"]\n",
    "cacao.hist(Respuesta);"
   ]
  },
  {
   "cell_type": "code",
   "execution_count": 7,
   "metadata": {},
   "outputs": [],
   "source": [
    "#Dividir el conjunto de datos entre entrenamiento y prueba\n",
    "X_train, X_test, y_train, y_test = train_test_split(x, y, test_size=0.2) \n",
    "   \n",
    "# Normalización de los atributos\n",
    "scaler= preprocessing.StandardScaler().fit(X_train)\n",
    "X_train_scaled=scaler.transform(X_train)\n",
    "X_test_scaled=scaler.transform(X_test)"
   ]
  },
  {
   "cell_type": "markdown",
   "metadata": {},
   "source": [
    "#### Búsqueda de parámetros"
   ]
  },
  {
   "cell_type": "code",
   "execution_count": 8,
   "metadata": {},
   "outputs": [],
   "source": [
    "#Búsqueda de los mejores parámetros para el modelo SVM con kernel lineal\n",
    "\n",
    "svr = GridSearchCV(SVR(kernel='linear', gamma=1, epsilon=0.1), cv=5,\n",
    "                   param_grid = {'C':[1e1, 1e2, 1e3, 1e4],\n",
    "                             \"gamma\":np.logspace(-2,2,5),\n",
    "                             \"epsilon\": np.logspace(0,1,5)})\n",
    "svr.fit(X_train_scaled, y_train);"
   ]
  },
  {
   "cell_type": "code",
   "execution_count": 9,
   "metadata": {},
   "outputs": [
    {
     "name": "stdout",
     "output_type": "stream",
     "text": [
      "Los mejores parámetros para el modelo SVM con kernel lineal son:\n"
     ]
    },
    {
     "data": {
      "text/plain": [
       "{'C': 10000.0, 'epsilon': 10.0, 'gamma': 0.01}"
      ]
     },
     "execution_count": 9,
     "metadata": {},
     "output_type": "execute_result"
    }
   ],
   "source": [
    "print(\"Los mejores parámetros para el modelo SVM con kernel lineal son:\")\n",
    "svr.best_params_"
   ]
  },
  {
   "cell_type": "code",
   "execution_count": 10,
   "metadata": {},
   "outputs": [],
   "source": [
    "#Búsqueda de los mejores parámetros para el modelo SVM con kernel rbf\n",
    "\n",
    "svr = GridSearchCV(SVR(kernel='rbf', gamma=1, epsilon=0.1), cv=5,\n",
    "                   param_grid = {'C':[1e1, 1e2, 1e3, 1e4],\n",
    "                             \"gamma\":np.logspace(-2,2,5),\n",
    "                             \"epsilon\": np.logspace(0,1,5)})\n",
    "svr.fit(X_train_scaled, y_train);"
   ]
  },
  {
   "cell_type": "code",
   "execution_count": 11,
   "metadata": {
    "scrolled": true
   },
   "outputs": [
    {
     "name": "stdout",
     "output_type": "stream",
     "text": [
      "Los mejores parámetros para el modelo SVM con kernel rbf son:\n"
     ]
    },
    {
     "data": {
      "text/plain": [
       "{'C': 10000.0, 'epsilon': 1.0, 'gamma': 0.01}"
      ]
     },
     "execution_count": 11,
     "metadata": {},
     "output_type": "execute_result"
    }
   ],
   "source": [
    "print(\"Los mejores parámetros para el modelo SVM con kernel rbf son:\")\n",
    "svr.best_params_"
   ]
  },
  {
   "cell_type": "markdown",
   "metadata": {},
   "source": [
    "#### Predicción modelo SVM"
   ]
  },
  {
   "cell_type": "code",
   "execution_count": 12,
   "metadata": {
    "scrolled": true
   },
   "outputs": [
    {
     "name": "stdout",
     "output_type": "stream",
     "text": [
      "[ 643.24399791 1279.99401821 1986.28786823 1040.28568494 3025.98511828\n",
      " 1441.52174643  518.37682397 1779.35037721  941.3207126  2297.40929151\n",
      " 2131.39035696 1764.37666198 1663.29894215 1481.09412296 2719.48870554\n",
      " 2231.96809142 2918.57824352  797.58228022 1050.63129029 2466.16399704\n",
      "  149.33418549 1785.02398618 2574.72906497 2525.28674691 2580.74781579\n",
      "  985.71416596 1829.6024912   447.49485562 1291.04122664  903.55490394\n",
      " 1315.62088511  831.66240121 1392.00819709 1052.32293322 1137.08772602\n",
      " 1150.87944047 1277.53270267 2847.5579941  1762.51926325 1000.03231985\n",
      "  288.60565832 1485.53145634 2006.8822577  1109.48731801 1061.889328\n",
      " 2674.77283656 2535.82582404 1212.17856234 2432.665345   2264.67652638\n",
      " 1126.88591722 2738.01221266 2658.13146637 2819.72509008 1126.98213737\n",
      " 2800.32103169 2191.47054575 1558.39630235  649.11874123  555.67204407\n",
      " 1002.17244984  853.90663592 2660.91699436 2408.42978606 2539.73861899\n",
      "  782.28300577 1070.86915957  737.16235033 1968.20516863 2161.72134075\n",
      " 2582.07763164 1449.88201875 1930.31498529 2234.24409513 2236.64260441\n",
      " 1406.66294751 1647.54418592  922.86730539  692.10078441  552.58032749\n",
      " 1261.38368913 2514.07097036 2929.24414773 1120.15260702  485.3678627\n",
      " 2635.80995402 1838.69246626 1946.50265546 2699.03330948 2257.18573162\n",
      " 1461.09386604 2449.8535813   568.21172035 1289.06904973 1310.55887298\n",
      " 2702.83064186 2741.68610061 1642.28551542 1913.80377048 2293.71686766\n",
      "  816.30752168 1326.75064287 2449.5426383   813.27980778 2441.29212715\n",
      "  736.86105431  447.23968403 1880.5944463   995.05964026 2161.16610397\n",
      " 1269.65675605  650.01623689 2673.91430616 2747.30093073 1450.14812843\n",
      " 1346.0048205  1255.5142362  1791.84186493 1482.52205569  694.68230825\n",
      " 2431.43586315 2513.01246826 2854.77481881  607.71364286 2432.19270505\n",
      " 1465.85369787 2672.72239644  929.55982395 1107.36178855 2166.21776011\n",
      " 3143.52789418 1126.14742792 1214.71682908 1021.39666876 1951.99999253\n",
      " 2681.17310228 2613.21909146 1712.64598108  284.89610029  693.30252582\n",
      " 2364.52206688 2287.31887957 2292.13060875 1968.90958977 1755.76663976\n",
      " 1502.31912111  843.09849448 1126.07141226 1269.1136492  2412.93188987\n",
      " 1031.00594259 2519.75838444  592.22623649  911.98553644 1209.3526316\n",
      "  387.30373054 2468.73347141 1156.90397867  884.01552469 1542.38819377\n",
      " 1083.52192557 1529.31143772 1205.31690167 2678.81550263  613.10605891\n",
      "  611.11094323 2265.50241425 2457.47387974  776.93533005  526.71246316\n",
      " 2514.26578942  771.21822812  751.23261181 2809.60645248 1429.97192081\n",
      " 1910.96270863 2804.00474932 1383.15878703  435.51618902 1045.73461864\n",
      " 1873.0016269  2147.82038405 2711.39606036 1373.97843649 1179.9495588\n",
      " 2173.85504654  -80.71395267  270.43050812 2703.82767773 1630.58930427\n",
      "  999.03570627 1089.07893997  151.54062728 1344.85698812 2528.0300609\n",
      "  878.09219511 1983.06038428 1214.01293763 1761.49009121 1150.21437562\n",
      " 1839.35811609 1996.78565294 1637.71446914 2066.29316564 1477.52191569\n",
      "  664.97206081 1105.03147636  216.82985729 2123.90038842 2701.79764049\n",
      " 2513.02292484 2050.9060179   613.61264205 2052.066758   2386.67639645\n",
      " 1495.02897809 1040.98440846 1771.71897998 1213.08231352  917.57748973\n",
      " 2005.20389521 2473.14448813 2853.40487984 2628.86319861 2861.9099758\n",
      "  956.0539725  2617.81114334 2349.84542807 1035.80094372 1792.98706779\n",
      " 1313.64817275   36.06104377 1880.36212573 2353.53708131 1679.2945197\n",
      " 1374.23013568 1546.97952116 1236.6512418  2464.39284253 2721.66143699\n",
      " 1533.12546011 2882.41756966 1687.22715632 2616.57861683 1153.87423018\n",
      " 2750.54998014  951.10592669 1871.9535851  1090.17300895 2488.52919099\n",
      " 1730.85018104 2078.16794139  984.68039011 1431.71196552 1177.77610009\n",
      " 2968.74562393  341.03616463 2274.94806659 1998.03376957 1478.35985886\n",
      " 1606.95800561 1203.06725008 1611.22721395 2578.73525988 1931.291299\n",
      " 1243.80720855  895.48184125  320.75157116  941.72861363 2334.81488687\n",
      "  716.48205595 2727.06476048  940.16243989 2208.48495899 2440.89113029\n",
      " 2368.23194395 2371.57708199  859.92014606 1718.36252104 2502.16389622\n",
      "  950.89431052  616.86047039  978.00037634 2048.96482465 1312.51960162\n",
      "  703.85765286 2835.42282966  724.27918065  988.22331577 1416.40298703\n",
      "  785.49863977 2645.87351213 1133.34849349  742.56941919  991.20815797\n",
      "  959.57296136 2191.91544181 1491.53526892 2571.10225894  321.81415053\n",
      " 2180.65276625 2640.3577142  1210.38007673 1178.88737736 2715.62955411\n",
      " 2214.13528289  873.4282607   830.12744761  870.19144608 2076.20723598\n",
      " 1494.74978601 1092.02488162]\n"
     ]
    }
   ],
   "source": [
    "#Modelo SVM con kernel lineal\n",
    "\n",
    "svr_lin = SVR(kernel='linear', C=1e4, epsilon=1e1, gamma=0.01).fit(X_train_scaled, y_train)\n",
    "y_lin = svr_lin.predict(X_train_scaled)\n",
    "print(y_lin)"
   ]
  },
  {
   "cell_type": "code",
   "execution_count": 23,
   "metadata": {},
   "outputs": [
    {
     "name": "stdout",
     "output_type": "stream",
     "text": [
      "Coeficientes: \n",
      " [[   84.10225885   214.59916475   339.51660724  1532.28596532\n",
      "  -1224.81151674 -1028.53624607  1488.32261022 -1692.32226347\n",
      "   1310.92592423   853.98390326  -423.24662462 -2258.29931896\n",
      "   2218.63165155]]\n"
     ]
    }
   ],
   "source": [
    "print('Coeficientes: \\n',svr_lin.coef_)"
   ]
  },
  {
   "cell_type": "code",
   "execution_count": 15,
   "metadata": {},
   "outputs": [
    {
     "data": {
      "text/plain": [
       "0.14112831946711368"
      ]
     },
     "execution_count": 15,
     "metadata": {},
     "output_type": "execute_result"
    }
   ],
   "source": [
    "#R^2 predicción GLM con kernel lineal\n",
    "\n",
    "r2_score(y_train,y_lin)"
   ]
  },
  {
   "cell_type": "code",
   "execution_count": 16,
   "metadata": {
    "scrolled": true
   },
   "outputs": [
    {
     "name": "stdout",
     "output_type": "stream",
     "text": [
      "[ 643.24399791 1279.99401821 1986.28786823 1040.28568494 3025.98511828\n",
      " 1441.52174643  518.37682397 1779.35037721  941.3207126  2297.40929151\n",
      " 2131.39035696 1764.37666198 1663.29894215 1481.09412296 2719.48870554\n",
      " 2231.96809142 2918.57824352  797.58228022 1050.63129029 2466.16399704\n",
      "  149.33418549 1785.02398618 2574.72906497 2525.28674691 2580.74781579\n",
      "  985.71416596 1829.6024912   447.49485562 1291.04122664  903.55490394\n",
      " 1315.62088511  831.66240121 1392.00819709 1052.32293322 1137.08772602\n",
      " 1150.87944047 1277.53270267 2847.5579941  1762.51926325 1000.03231985\n",
      "  288.60565832 1485.53145634 2006.8822577  1109.48731801 1061.889328\n",
      " 2674.77283656 2535.82582404 1212.17856234 2432.665345   2264.67652638\n",
      " 1126.88591722 2738.01221266 2658.13146637 2819.72509008 1126.98213737\n",
      " 2800.32103169 2191.47054575 1558.39630235  649.11874123  555.67204407\n",
      " 1002.17244984  853.90663592 2660.91699436 2408.42978606 2539.73861899\n",
      "  782.28300577 1070.86915957  737.16235033 1968.20516863 2161.72134075\n",
      " 2582.07763164 1449.88201875 1930.31498529 2234.24409513 2236.64260441\n",
      " 1406.66294751 1647.54418592  922.86730539  692.10078441  552.58032749\n",
      " 1261.38368913 2514.07097036 2929.24414773 1120.15260702  485.3678627\n",
      " 2635.80995402 1838.69246626 1946.50265546 2699.03330948 2257.18573162\n",
      " 1461.09386604 2449.8535813   568.21172035 1289.06904973 1310.55887298\n",
      " 2702.83064186 2741.68610061 1642.28551542 1913.80377048 2293.71686766\n",
      "  816.30752168 1326.75064287 2449.5426383   813.27980778 2441.29212715\n",
      "  736.86105431  447.23968403 1880.5944463   995.05964026 2161.16610397\n",
      " 1269.65675605  650.01623689 2673.91430616 2747.30093073 1450.14812843\n",
      " 1346.0048205  1255.5142362  1791.84186493 1482.52205569  694.68230825\n",
      " 2431.43586315 2513.01246826 2854.77481881  607.71364286 2432.19270505\n",
      " 1465.85369787 2672.72239644  929.55982395 1107.36178855 2166.21776011\n",
      " 3143.52789418 1126.14742792 1214.71682908 1021.39666876 1951.99999253\n",
      " 2681.17310228 2613.21909146 1712.64598108  284.89610029  693.30252582\n",
      " 2364.52206688 2287.31887957 2292.13060875 1968.90958977 1755.76663976\n",
      " 1502.31912111  843.09849448 1126.07141226 1269.1136492  2412.93188987\n",
      " 1031.00594259 2519.75838444  592.22623649  911.98553644 1209.3526316\n",
      "  387.30373054 2468.73347141 1156.90397867  884.01552469 1542.38819377\n",
      " 1083.52192557 1529.31143772 1205.31690167 2678.81550263  613.10605891\n",
      "  611.11094323 2265.50241425 2457.47387974  776.93533005  526.71246316\n",
      " 2514.26578942  771.21822812  751.23261181 2809.60645248 1429.97192081\n",
      " 1910.96270863 2804.00474932 1383.15878703  435.51618902 1045.73461864\n",
      " 1873.0016269  2147.82038405 2711.39606036 1373.97843649 1179.9495588\n",
      " 2173.85504654  -80.71395267  270.43050812 2703.82767773 1630.58930427\n",
      "  999.03570627 1089.07893997  151.54062728 1344.85698812 2528.0300609\n",
      "  878.09219511 1983.06038428 1214.01293763 1761.49009121 1150.21437562\n",
      " 1839.35811609 1996.78565294 1637.71446914 2066.29316564 1477.52191569\n",
      "  664.97206081 1105.03147636  216.82985729 2123.90038842 2701.79764049\n",
      " 2513.02292484 2050.9060179   613.61264205 2052.066758   2386.67639645\n",
      " 1495.02897809 1040.98440846 1771.71897998 1213.08231352  917.57748973\n",
      " 2005.20389521 2473.14448813 2853.40487984 2628.86319861 2861.9099758\n",
      "  956.0539725  2617.81114334 2349.84542807 1035.80094372 1792.98706779\n",
      " 1313.64817275   36.06104377 1880.36212573 2353.53708131 1679.2945197\n",
      " 1374.23013568 1546.97952116 1236.6512418  2464.39284253 2721.66143699\n",
      " 1533.12546011 2882.41756966 1687.22715632 2616.57861683 1153.87423018\n",
      " 2750.54998014  951.10592669 1871.9535851  1090.17300895 2488.52919099\n",
      " 1730.85018104 2078.16794139  984.68039011 1431.71196552 1177.77610009\n",
      " 2968.74562393  341.03616463 2274.94806659 1998.03376957 1478.35985886\n",
      " 1606.95800561 1203.06725008 1611.22721395 2578.73525988 1931.291299\n",
      " 1243.80720855  895.48184125  320.75157116  941.72861363 2334.81488687\n",
      "  716.48205595 2727.06476048  940.16243989 2208.48495899 2440.89113029\n",
      " 2368.23194395 2371.57708199  859.92014606 1718.36252104 2502.16389622\n",
      "  950.89431052  616.86047039  978.00037634 2048.96482465 1312.51960162\n",
      "  703.85765286 2835.42282966  724.27918065  988.22331577 1416.40298703\n",
      "  785.49863977 2645.87351213 1133.34849349  742.56941919  991.20815797\n",
      "  959.57296136 2191.91544181 1491.53526892 2571.10225894  321.81415053\n",
      " 2180.65276625 2640.3577142  1210.38007673 1178.88737736 2715.62955411\n",
      " 2214.13528289  873.4282607   830.12744761  870.19144608 2076.20723598\n",
      " 1494.74978601 1092.02488162]\n"
     ]
    }
   ],
   "source": [
    "#Modelo SVM con kernel rbf\n",
    "\n",
    "svr_rbf = SVR(kernel='rbf', C=1e4, epsilon=1e1, gamma=0.01)\n",
    "y_rbf = svr_lin.fit(X_train_scaled, y_train).predict(X_train_scaled)\n",
    "print(y_rbf)"
   ]
  },
  {
   "cell_type": "code",
   "execution_count": 17,
   "metadata": {},
   "outputs": [
    {
     "data": {
      "text/plain": [
       "0.14112831946711368"
      ]
     },
     "execution_count": 17,
     "metadata": {},
     "output_type": "execute_result"
    }
   ],
   "source": [
    "#R^2 predicción GLM con kernel rbf\n",
    "\n",
    "r2_score(y_train,y_lin)"
   ]
  },
  {
   "cell_type": "code",
   "execution_count": 18,
   "metadata": {
    "scrolled": true
   },
   "outputs": [
    {
     "name": "stdout",
     "output_type": "stream",
     "text": [
      "GridSearchCV(cv=None, error_score='raise',\n",
      "       estimator=SVR(C=1.0, cache_size=200, coef0=0.0, degree=3, epsilon=0.1, gamma='auto',\n",
      "  kernel='rbf', max_iter=-1, shrinking=True, tol=0.001, verbose=False),\n",
      "       fit_params={}, iid=True, n_jobs=1,\n",
      "       param_grid={'kernel': ('linear', 'rbf'), 'C': [10000.0, 1000000.0, 1000.0]},\n",
      "       pre_dispatch='2*n_jobs', refit=True, scoring=None, verbose=0)\n"
     ]
    }
   ],
   "source": [
    "parameters = {'kernel':('linear', 'rbf'), 'C':[1e4,1e6, 1e3]} \n",
    "svr = svm.SVR () \n",
    "reg = grid_search.GridSearchCV(svr, parameters) \n",
    "print(reg.fit(X_train_scaled, y_train)) "
   ]
  },
  {
   "cell_type": "code",
   "execution_count": 19,
   "metadata": {},
   "outputs": [
    {
     "data": {
      "text/plain": [
       "{'C': 10000.0, 'kernel': 'linear'}"
      ]
     },
     "execution_count": 19,
     "metadata": {},
     "output_type": "execute_result"
    }
   ],
   "source": [
    "reg.best_params_"
   ]
  },
  {
   "cell_type": "markdown",
   "metadata": {},
   "source": [
    "### Cross Validation"
   ]
  },
  {
   "cell_type": "code",
   "execution_count": 20,
   "metadata": {},
   "outputs": [
    {
     "name": "stdout",
     "output_type": "stream",
     "text": [
      "R^2: -2592001942955.6797\n",
      "RMSE: 2771643426.5810\n",
      "MAE: 2570629681.9264\n"
     ]
    }
   ],
   "source": [
    "rkf=RepeatedKFold(n_splits=10,n_repeats=10) #la función RepeatkFolds permite crear una particion de datos y repetirla\n",
    "R_2=[]\n",
    "RMSE=[]\n",
    "MAE=[]\n",
    "for train_index, test_index in rkf.split(x):\n",
    "    x2_train, x2_test = x.iloc[train_index], x.iloc[test_index]\n",
    "    y2_train, y2_test = y.iloc[train_index], y.iloc[test_index] # Values toma la transformación de box-cox\n",
    "    \n",
    "    # Ajuste de los modelos\n",
    "    svr_lin = SVR(kernel='linear', C=1e4, epsilon=1e1, gamma=0.01).fit(X_train_scaled, y_train)\n",
    "    y_lin = svr_lin.predict(x2_test)\n",
    "    \n",
    "    R_2.append(r2_score(y2_test,y_lin))\n",
    "    RMSE.append(np.linalg.norm((y2_test-y_lin),2)/np.sqrt(len(y2_test)))\n",
    "    MAE.append(median_absolute_error(y2_test,y_lin))\n",
    " \n",
    "    \n",
    "print(\"R^2: %.4f\" % np.mean(R_2))\n",
    "print(\"RMSE: %.4f\" % np.mean(RMSE))\n",
    "print(\"MAE: %.4f\" % np.mean(MAE))"
   ]
  },
  {
   "cell_type": "markdown",
   "metadata": {},
   "source": [
    "### Hold Out Validation"
   ]
  },
  {
   "cell_type": "code",
   "execution_count": 21,
   "metadata": {},
   "outputs": [
    {
     "name": "stdout",
     "output_type": "stream",
     "text": [
      "R^2: -1600244746579.4780\n",
      "RMSE: 295236005.6328\n",
      "MAE: 2639256088.2407\n"
     ]
    }
   ],
   "source": [
    "R_2=[]\n",
    "RMSE=[]\n",
    "MAE=[]\n",
    "pred=[0]\n",
    "obs=[0]\n",
    "\n",
    "for i in range(20):\n",
    "    X1_train,X1_test,y1_train,y1_test=train_test_split(x,y,test_size=0.2, random_state=12) #Hacer partición de datos en entrenamiento y prueba\n",
    "\n",
    "    # Ajuste de los modelos\n",
    "    svr_lin = SVR(kernel='linear', C=1e4, epsilon=1e1, gamma=0.01).fit(X_train_scaled, y_train)\n",
    "    y_lin = svr_lin.predict(X1_test)\n",
    "    \n",
    "    r_2=r2_score(y1_test, y_lin)\n",
    "    R_2.append(r_2)\n",
    "    RMSE.append(np.linalg.norm((y1_test-y_lin,2)/np.sqrt(len(y1_test))))\n",
    "    MAE.append(median_absolute_error(y1_test,y_lin))\n",
    "    \n",
    "    if r_2 >= max(R_2):\n",
    "        pred[0] = y_lin\n",
    "        obs[0] = y1_test\n",
    "    \n",
    "print(\"R^2: %.4f\" % np.mean(R_2))\n",
    "print(\"RMSE: %.4f\" % np.mean(RMSE))\n",
    "print(\"MAE: %.4f\" % np.mean(MAE))"
   ]
  }
 ],
 "metadata": {
  "kernelspec": {
   "display_name": "Python 3",
   "language": "python",
   "name": "python3"
  },
  "language_info": {
   "codemirror_mode": {
    "name": "ipython",
    "version": 3
   },
   "file_extension": ".py",
   "mimetype": "text/x-python",
   "name": "python",
   "nbconvert_exporter": "python",
   "pygments_lexer": "ipython3",
   "version": "3.6.5"
  }
 },
 "nbformat": 4,
 "nbformat_minor": 2
}
