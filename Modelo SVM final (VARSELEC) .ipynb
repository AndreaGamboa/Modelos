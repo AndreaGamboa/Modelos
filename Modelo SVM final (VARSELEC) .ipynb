{
 "cells": [
  {
   "cell_type": "markdown",
   "metadata": {},
   "source": [
    "## MÁQUINAS DE SOPORTE VECTORIAL"
   ]
  },
  {
   "cell_type": "code",
   "execution_count": 1,
   "metadata": {},
   "outputs": [
    {
     "name": "stderr",
     "output_type": "stream",
     "text": [
      "C:\\Users\\USUARIO\\Anaconda3\\lib\\site-packages\\sklearn\\cross_validation.py:41: DeprecationWarning: This module was deprecated in version 0.18 in favor of the model_selection module into which all the refactored classes and functions are moved. Also note that the interface of the new CV iterators are different from that of this module. This module will be removed in 0.20.\n",
      "  \"This module will be removed in 0.20.\", DeprecationWarning)\n",
      "C:\\Users\\USUARIO\\Anaconda3\\lib\\site-packages\\sklearn\\grid_search.py:42: DeprecationWarning: This module was deprecated in version 0.18 in favor of the model_selection module into which all the refactored classes and functions are moved. This module will be removed in 0.20.\n",
      "  DeprecationWarning)\n"
     ]
    }
   ],
   "source": [
    "%matplotlib inline\n",
    "import pandas as pd\n",
    "import numpy as np\n",
    "import matplotlib.pyplot as plt\n",
    "from sklearn import svm\n",
    "from sklearn.svm import SVR # \"Support vector regression\"\n",
    "from sklearn.model_selection import GridSearchCV\n",
    "from sklearn import preprocessing\n",
    "\n",
    "from sklearn.preprocessing import MinMaxScaler\n",
    "from statsmodels.graphics.api import abline_plot\n",
    "from scipy import stats\n",
    "from statsmodels import graphics\n",
    "from sklearn import cross_validation \n",
    "from sklearn import grid_search\n",
    "\n",
    "from sklearn.model_selection import train_test_split, cross_val_predict, cross_validate, RepeatedKFold, ShuffleSplit, learning_curve\n",
    "from sklearn.metrics import r2_score, median_absolute_error,mean_squared_error\n",
    "\n",
    "from sklearn.model_selection import train_test_split\n",
    "from statsmodels.tools.eval_measures import rmse\n",
    "pd.set_option(\"display.max_rows\", 10)"
   ]
  },
  {
   "cell_type": "code",
   "execution_count": 2,
   "metadata": {},
   "outputs": [],
   "source": [
    "#Importando conjunto de datos\n",
    "\n",
    "cacao=pd.read_excel(\"TODAS LAS VARIABLES Y TOTAL.xlsx\")"
   ]
  },
  {
   "cell_type": "code",
   "execution_count": 3,
   "metadata": {},
   "outputs": [],
   "source": [
    "#Eliminar valores faltantes del conjunto de datos\n",
    "\n",
    "cacao=cacao.dropna()"
   ]
  },
  {
   "cell_type": "code",
   "execution_count": 4,
   "metadata": {},
   "outputs": [],
   "source": [
    "#Definir variables exógenas\n",
    "\n",
    "x=cacao[[   \"Diametro tronco (cm)\",\n",
    "            \"P\", \"Mg\",\n",
    "            \"%A\", \"%Hum/Grav\",\n",
    "            \"Radiacion\", \"Temperatura\", \"Humedad\", \"Lluvias acumuladas (mms)\" ]]"
   ]
  },
  {
   "cell_type": "code",
   "execution_count": 5,
   "metadata": {},
   "outputs": [],
   "source": [
    "#Definir variable endógena\n",
    "\n",
    "y=cacao[\"Rendimiento\"]"
   ]
  },
  {
   "cell_type": "markdown",
   "metadata": {},
   "source": [
    "### Histograma variable respuesta"
   ]
  },
  {
   "cell_type": "code",
   "execution_count": 6,
   "metadata": {
    "scrolled": false
   },
   "outputs": [
    {
     "data": {
      "image/png": "[encoded data removed]",
      "text/plain": [
       "<Figure size 432x288 with 1 Axes>"
      ]
     },
     "metadata": {
      "needs_background": "light"
     },
     "output_type": "display_data"
    }
   ],
   "source": [
    "Respuesta=[\"Rendimiento\"]\n",
    "cacao.hist(Respuesta);"
   ]
  },
  {
   "cell_type": "code",
   "execution_count": 7,
   "metadata": {},
   "outputs": [],
   "source": [
    "#Dividir el conjunto de datos entre entrenamiento y prueba\n",
    "X_train, X_test, y_train, y_test = train_test_split(x, y, test_size=0.2) \n",
    "   \n",
    "# Normalización de los atributos\n",
    "scaler= preprocessing.StandardScaler().fit(X_train)\n",
    "X_train_scaled=scaler.transform(X_train)\n",
    "X_test_scaled=scaler.transform(X_test)"
   ]
  },
  {
   "cell_type": "markdown",
   "metadata": {},
   "source": [
    "#### Búsqueda de parámetros"
   ]
  },
  {
   "cell_type": "code",
   "execution_count": 8,
   "metadata": {},
   "outputs": [],
   "source": [
    "#Búsqueda de los mejores parámetros para el modelo SVM con kernel lineal\n",
    "\n",
    "svr = GridSearchCV(SVR(kernel='linear', gamma=1, epsilon=0.1), cv=5,\n",
    "                   param_grid = {'C':[1e1, 1e2, 1e3, 1e4],\n",
    "                             \"gamma\":np.logspace(-2,2,5),\n",
    "                             \"epsilon\": np.logspace(0,1,5)})\n",
    "svr.fit(X_train_scaled, y_train);"
   ]
  },
  {
   "cell_type": "code",
   "execution_count": 9,
   "metadata": {},
   "outputs": [
    {
     "name": "stdout",
     "output_type": "stream",
     "text": [
      "Los mejores parámetros para el modelo SVM con kernel lineal son:\n"
     ]
    },
    {
     "data": {
      "text/plain": [
       "{'C': 10000.0, 'epsilon': 3.1622776601683795, 'gamma': 0.01}"
      ]
     },
     "execution_count": 9,
     "metadata": {},
     "output_type": "execute_result"
    }
   ],
   "source": [
    "print(\"Los mejores parámetros para el modelo SVM con kernel lineal son:\")\n",
    "svr.best_params_"
   ]
  },
  {
   "cell_type": "code",
   "execution_count": 10,
   "metadata": {},
   "outputs": [],
   "source": [
    "#Búsqueda de los mejores parámetros para el modelo SVM con kernel rbf\n",
    "\n",
    "svr = GridSearchCV(SVR(kernel='rbf', gamma=1, epsilon=0.1), cv=5,\n",
    "                   param_grid = {'C':[1e1, 1e2, 1e3, 1e4],\n",
    "                             \"gamma\":np.logspace(-2,2,5),\n",
    "                             \"epsilon\": np.logspace(0,1,5)})\n",
    "svr.fit(X_train_scaled, y_train);"
   ]
  },
  {
   "cell_type": "code",
   "execution_count": 11,
   "metadata": {
    "scrolled": true
   },
   "outputs": [
    {
     "name": "stdout",
     "output_type": "stream",
     "text": [
      "Los mejores parámetros para el modelo SVM con kernel rbf son:\n"
     ]
    },
    {
     "data": {
      "text/plain": [
       "{'C': 10000.0, 'epsilon': 10.0, 'gamma': 0.01}"
      ]
     },
     "execution_count": 11,
     "metadata": {},
     "output_type": "execute_result"
    }
   ],
   "source": [
    "print(\"Los mejores parámetros para el modelo SVM con kernel rbf son:\")\n",
    "svr.best_params_"
   ]
  },
  {
   "cell_type": "markdown",
   "metadata": {},
   "source": [
    "#### Predicción modelo SVM"
   ]
  },
  {
   "cell_type": "code",
   "execution_count": 12,
   "metadata": {
    "scrolled": true
   },
   "outputs": [
    {
     "name": "stdout",
     "output_type": "stream",
     "text": [
      "[2181.20012642  605.94184751 1525.17681178 2503.07289923  583.03711894\n",
      "  923.33344871  863.96168494 1733.53205531 1901.82377418  378.23507529\n",
      " 1976.95096309 1653.63490817  623.12039394 2146.78686687 2214.53135536\n",
      "  596.20733787 1634.13318322 2648.79949637 2465.8527153  1261.39143135\n",
      " 2677.48657378  415.99517178 1333.16697972 2340.50736251 1660.11755137\n",
      " 1476.12326172 1466.39905046  679.24063966 1658.6199438  2256.84706707\n",
      " 1510.86135642 2764.24484112 1413.13525815 1422.48099242 2287.96006701\n",
      " 2169.69159544 2205.31142778 2076.09132771 1352.74094278 2268.00838384\n",
      " 1999.79952498 1538.387835   2084.82672194 1510.48035458  504.58842357\n",
      " 2299.50238563 2634.54020771 2065.17887598 1949.28974961 1431.07026563\n",
      " 2245.01370094 2520.25144566 2136.59724205 2415.91742761 1189.81415455\n",
      " 2087.63364632 1256.20516176 2194.54588454 2764.24484112 1744.11888441\n",
      " 2424.50670082 2192.59632401 2299.50238563 2167.710242   2302.42164339\n",
      " 1396.71317277 2129.60832044 1443.33321142 1939.20286883 3149.84043392\n",
      " 2199.58524563 2774.77550353 2895.02532854 2442.65693921  741.47682511\n",
      " 1544.09630094  500.34911884 2442.94798673 1263.31121828 2126.044935\n",
      " 1145.92448434 1687.25085452 2353.81116166 1735.92340274 1668.70682458\n",
      " 1398.60656661 1542.35535821 2726.10295531  909.61223137 1444.41602376\n",
      "  865.34155932 1435.77058386 1330.10561707 1217.50176113  771.01846467\n",
      " 2433.97771167 1084.26078674 1753.6298595  1371.72767716 2099.37705812\n",
      " 1532.64393665  508.59675107 1174.17439322 1137.55508497  836.32964676\n",
      " 2050.7045099  2093.41599516  129.52715389  519.06645036 2136.59724205\n",
      " 1986.50993354 2670.73253299 1176.66666801 1888.13897318  438.16471071\n",
      "  636.4531843  2863.82237426 2267.91842951  684.9668218  1647.63932316\n",
      " 1376.29607605  415.45525922 1501.67784519 2202.21345588 1361.38638268\n",
      " 2229.81650795 1388.12389956  826.39986003 1955.98762371 1838.99468132\n",
      " 2588.58462954 1713.60900859 2568.92399388  270.96019212 2012.27775319\n",
      " 1850.97495594 2117.18625892 1582.81409243 1953.51832419 1637.21282279\n",
      "  863.62004396 2530.44107047 1261.17819517 1015.54660102   81.99618139\n",
      " 2786.2840345   678.48882154 1056.416843   1736.39514638  989.18454336\n",
      " 3247.18553036  839.19273783 2666.26909032 1297.88818498  641.2686376\n",
      "  555.74672173 1482.23044571 1824.28543442 1118.02364159  967.03296352\n",
      " 1623.8690594   981.97647513 1289.28119556 2408.20989203 1310.82044062\n",
      " 1456.08162422  823.87840994 1704.95731128 1953.06836596 2090.40678307\n",
      "  753.83991824 1888.19513987 1065.00611621  935.53896173 1052.38578311\n",
      " 1604.23892965  889.72950459 2618.24253001  422.29251117 1724.48875466\n",
      "  970.52411085 2416.88911957  873.17901441 1076.4584805  1507.99826535\n",
      " 2288.34106885 1835.59167769 2723.23986424 1266.37646698 1727.80587317\n",
      " 2019.36941884 1241.73079568 2800.54332317 1933.94843033 1718.74485631\n",
      " 1547.70053851 3058.22151963 1839.46642496  181.2217039  1476.50426356\n",
      " 1304.87770998 2880.70987318  215.57879676 2498.94706868  499.80920628\n",
      " 1573.25512199  337.38390499  929.81277959  566.20021348 1526.91775451\n",
      " 1218.44506527 2333.91564518  748.1137361  1473.10935857 2270.78152058\n",
      " 2177.58057429 1620.03427637 2663.11495173 1253.18315997  853.88919503\n",
      " 2352.92942403 1327.99898705 1881.40113484 2209.83103713 2096.51396705\n",
      "  908.28792539  622.13772894 1810.3637706   764.75236997 2164.99327195\n",
      " 2275.62596509 2045.60898213 2065.17887598 1966.46829604 1475.91002555\n",
      " 1866.20394184  381.63807892  808.29961172  960.55363264 2769.10548807\n",
      " 1029.67932612 2883.48300993  909.77114209 1624.26285094 1829.86549554\n",
      " 1342.5524057   675.62573046 1572.74492786 1956.22250454 1401.46965768\n",
      " 1495.89549636 1246.86273981 2717.5136821  2110.59454159 1307.58189033\n",
      " 1648.66518708 2966.60260533 1775.46676518 1115.91369925 1178.56006185\n",
      " 2162.13018088 1662.60518322 1440.44186289 2056.19581122  905.42483432\n",
      " 2567.66125441 2427.36979189 1983.64684247 2969.4656964   978.32641709\n",
      " 2548.59130887 2398.73888118 2225.04468949  854.04810575 2244.1319633\n",
      " 1465.42735849 2328.04334202  671.3814344  1537.83020623 1799.88348622\n",
      " 1635.71521523 1457.24959303 1629.98903309 1559.90936386  692.17622064\n",
      " 1604.96235995 2045.13723848  975.08232418 3230.00698393  763.0003487\n",
      " 1376.45498677 1463.7275933  1388.12389956  760.89040636 1565.26008678\n",
      " 2123.93830498 2110.98833313 2379.72510232 1528.03990285 2016.34741704\n",
      " 1173.80357694 1751.36100644 2194.01797421 2291.20415993 1088.28166107\n",
      " 2162.99571606 1946.42665854 1315.79016171 3247.18553036 1172.63560812\n",
      " 1589.74684736 2548.64747555]\n"
     ]
    }
   ],
   "source": [
    "#Modelo SVM con kernel lineal\n",
    "\n",
    "svr_lin = SVR(kernel='linear', C=1e4, epsilon=1e1, gamma=0.01).fit(X_train_scaled, y_train)\n",
    "y_lin = svr_lin.predict(X_train_scaled)\n",
    "print(y_lin)"
   ]
  },
  {
   "cell_type": "code",
   "execution_count": 13,
   "metadata": {},
   "outputs": [
    {
     "name": "stdout",
     "output_type": "stream",
     "text": [
      "Coeficientes: \n",
      " [[  460.47348037  1676.49904291   739.47395887 -1014.12586028\n",
      "    885.0244371    538.83755418  -278.53260164 -1549.99072426\n",
      "   1468.66102623]]\n"
     ]
    }
   ],
   "source": [
    "print('Coeficientes: \\n',svr_lin.coef_)"
   ]
  },
  {
   "cell_type": "code",
   "execution_count": 14,
   "metadata": {},
   "outputs": [
    {
     "data": {
      "text/plain": [
       "0.12106389998854328"
      ]
     },
     "execution_count": 14,
     "metadata": {},
     "output_type": "execute_result"
    }
   ],
   "source": [
    "#R^2 predicción GLM con kernel lineal\n",
    "\n",
    "r2_score(y_train,y_lin)"
   ]
  },
  {
   "cell_type": "code",
   "execution_count": 15,
   "metadata": {
    "scrolled": true
   },
   "outputs": [
    {
     "name": "stdout",
     "output_type": "stream",
     "text": [
      "[2181.20012642  605.94184751 1525.17681178 2503.07289923  583.03711894\n",
      "  923.33344871  863.96168494 1733.53205531 1901.82377418  378.23507529\n",
      " 1976.95096309 1653.63490817  623.12039394 2146.78686687 2214.53135536\n",
      "  596.20733787 1634.13318322 2648.79949637 2465.8527153  1261.39143135\n",
      " 2677.48657378  415.99517178 1333.16697972 2340.50736251 1660.11755137\n",
      " 1476.12326172 1466.39905046  679.24063966 1658.6199438  2256.84706707\n",
      " 1510.86135642 2764.24484112 1413.13525815 1422.48099242 2287.96006701\n",
      " 2169.69159544 2205.31142778 2076.09132771 1352.74094278 2268.00838384\n",
      " 1999.79952498 1538.387835   2084.82672194 1510.48035458  504.58842357\n",
      " 2299.50238563 2634.54020771 2065.17887598 1949.28974961 1431.07026563\n",
      " 2245.01370094 2520.25144566 2136.59724205 2415.91742761 1189.81415455\n",
      " 2087.63364632 1256.20516176 2194.54588454 2764.24484112 1744.11888441\n",
      " 2424.50670082 2192.59632401 2299.50238563 2167.710242   2302.42164339\n",
      " 1396.71317277 2129.60832044 1443.33321142 1939.20286883 3149.84043392\n",
      " 2199.58524563 2774.77550353 2895.02532854 2442.65693921  741.47682511\n",
      " 1544.09630094  500.34911884 2442.94798673 1263.31121828 2126.044935\n",
      " 1145.92448434 1687.25085452 2353.81116166 1735.92340274 1668.70682458\n",
      " 1398.60656661 1542.35535821 2726.10295531  909.61223137 1444.41602376\n",
      "  865.34155932 1435.77058386 1330.10561707 1217.50176113  771.01846467\n",
      " 2433.97771167 1084.26078674 1753.6298595  1371.72767716 2099.37705812\n",
      " 1532.64393665  508.59675107 1174.17439322 1137.55508497  836.32964676\n",
      " 2050.7045099  2093.41599516  129.52715389  519.06645036 2136.59724205\n",
      " 1986.50993354 2670.73253299 1176.66666801 1888.13897318  438.16471071\n",
      "  636.4531843  2863.82237426 2267.91842951  684.9668218  1647.63932316\n",
      " 1376.29607605  415.45525922 1501.67784519 2202.21345588 1361.38638268\n",
      " 2229.81650795 1388.12389956  826.39986003 1955.98762371 1838.99468132\n",
      " 2588.58462954 1713.60900859 2568.92399388  270.96019212 2012.27775319\n",
      " 1850.97495594 2117.18625892 1582.81409243 1953.51832419 1637.21282279\n",
      "  863.62004396 2530.44107047 1261.17819517 1015.54660102   81.99618139\n",
      " 2786.2840345   678.48882154 1056.416843   1736.39514638  989.18454336\n",
      " 3247.18553036  839.19273783 2666.26909032 1297.88818498  641.2686376\n",
      "  555.74672173 1482.23044571 1824.28543442 1118.02364159  967.03296352\n",
      " 1623.8690594   981.97647513 1289.28119556 2408.20989203 1310.82044062\n",
      " 1456.08162422  823.87840994 1704.95731128 1953.06836596 2090.40678307\n",
      "  753.83991824 1888.19513987 1065.00611621  935.53896173 1052.38578311\n",
      " 1604.23892965  889.72950459 2618.24253001  422.29251117 1724.48875466\n",
      "  970.52411085 2416.88911957  873.17901441 1076.4584805  1507.99826535\n",
      " 2288.34106885 1835.59167769 2723.23986424 1266.37646698 1727.80587317\n",
      " 2019.36941884 1241.73079568 2800.54332317 1933.94843033 1718.74485631\n",
      " 1547.70053851 3058.22151963 1839.46642496  181.2217039  1476.50426356\n",
      " 1304.87770998 2880.70987318  215.57879676 2498.94706868  499.80920628\n",
      " 1573.25512199  337.38390499  929.81277959  566.20021348 1526.91775451\n",
      " 1218.44506527 2333.91564518  748.1137361  1473.10935857 2270.78152058\n",
      " 2177.58057429 1620.03427637 2663.11495173 1253.18315997  853.88919503\n",
      " 2352.92942403 1327.99898705 1881.40113484 2209.83103713 2096.51396705\n",
      "  908.28792539  622.13772894 1810.3637706   764.75236997 2164.99327195\n",
      " 2275.62596509 2045.60898213 2065.17887598 1966.46829604 1475.91002555\n",
      " 1866.20394184  381.63807892  808.29961172  960.55363264 2769.10548807\n",
      " 1029.67932612 2883.48300993  909.77114209 1624.26285094 1829.86549554\n",
      " 1342.5524057   675.62573046 1572.74492786 1956.22250454 1401.46965768\n",
      " 1495.89549636 1246.86273981 2717.5136821  2110.59454159 1307.58189033\n",
      " 1648.66518708 2966.60260533 1775.46676518 1115.91369925 1178.56006185\n",
      " 2162.13018088 1662.60518322 1440.44186289 2056.19581122  905.42483432\n",
      " 2567.66125441 2427.36979189 1983.64684247 2969.4656964   978.32641709\n",
      " 2548.59130887 2398.73888118 2225.04468949  854.04810575 2244.1319633\n",
      " 1465.42735849 2328.04334202  671.3814344  1537.83020623 1799.88348622\n",
      " 1635.71521523 1457.24959303 1629.98903309 1559.90936386  692.17622064\n",
      " 1604.96235995 2045.13723848  975.08232418 3230.00698393  763.0003487\n",
      " 1376.45498677 1463.7275933  1388.12389956  760.89040636 1565.26008678\n",
      " 2123.93830498 2110.98833313 2379.72510232 1528.03990285 2016.34741704\n",
      " 1173.80357694 1751.36100644 2194.01797421 2291.20415993 1088.28166107\n",
      " 2162.99571606 1946.42665854 1315.79016171 3247.18553036 1172.63560812\n",
      " 1589.74684736 2548.64747555]\n"
     ]
    }
   ],
   "source": [
    "#Modelo SVM con kernel rbf\n",
    "\n",
    "svr_rbf = SVR(kernel='rbf', C=1e4, epsilon=1e1, gamma=0.01)\n",
    "y_rbf = svr_lin.fit(X_train_scaled, y_train).predict(X_train_scaled)\n",
    "print(y_rbf)"
   ]
  },
  {
   "cell_type": "code",
   "execution_count": 16,
   "metadata": {},
   "outputs": [
    {
     "data": {
      "text/plain": [
       "0.12106389998854328"
      ]
     },
     "execution_count": 16,
     "metadata": {},
     "output_type": "execute_result"
    }
   ],
   "source": [
    "#R^2 predicción GLM con kernel rbf\n",
    "\n",
    "r2_score(y_train,y_lin)"
   ]
  },
  {
   "cell_type": "code",
   "execution_count": 17,
   "metadata": {
    "scrolled": true
   },
   "outputs": [
    {
     "name": "stdout",
     "output_type": "stream",
     "text": [
      "GridSearchCV(cv=None, error_score='raise',\n",
      "       estimator=SVR(C=1.0, cache_size=200, coef0=0.0, degree=3, epsilon=0.1, gamma='auto',\n",
      "  kernel='rbf', max_iter=-1, shrinking=True, tol=0.001, verbose=False),\n",
      "       fit_params={}, iid=True, n_jobs=1,\n",
      "       param_grid={'kernel': ('linear', 'rbf'), 'C': [10000.0, 1000000.0, 1000.0]},\n",
      "       pre_dispatch='2*n_jobs', refit=True, scoring=None, verbose=0)\n"
     ]
    }
   ],
   "source": [
    "parameters = {'kernel':('linear', 'rbf'), 'C':[1e4,1e6, 1e3]} \n",
    "svr = svm.SVR () \n",
    "reg = grid_search.GridSearchCV(svr, parameters) \n",
    "print(reg.fit(X_train_scaled, y_train)) "
   ]
  },
  {
   "cell_type": "code",
   "execution_count": 18,
   "metadata": {},
   "outputs": [
    {
     "data": {
      "text/plain": [
       "{'C': 1000000.0, 'kernel': 'linear'}"
      ]
     },
     "execution_count": 18,
     "metadata": {},
     "output_type": "execute_result"
    }
   ],
   "source": [
    "reg.best_params_"
   ]
  },
  {
   "cell_type": "markdown",
   "metadata": {},
   "source": [
    "### Cross Validation"
   ]
  },
  {
   "cell_type": "code",
   "execution_count": 26,
   "metadata": {},
   "outputs": [
    {
     "name": "stdout",
     "output_type": "stream",
     "text": [
      "R^2: 0.0896\n",
      "RMSE: 1735.4922\n",
      "MAE: 922.3365\n"
     ]
    }
   ],
   "source": [
    "rkf=RepeatedKFold(n_splits=10,n_repeats=10) #la función RepeatkFolds permite crear una particion de datos y repetirla\n",
    "R_2=[]\n",
    "RMSE=[]\n",
    "MAE=[]\n",
    "for train_index, test_index in rkf.split(x):\n",
    "     \n",
    "    x2_train, x2_test = x.iloc[train_index], x.iloc[test_index]\n",
    "    y2_train, y2_test = y.iloc[train_index], y.iloc[test_index] # Values toma la transformación de box-cox\n",
    "    \n",
    "    #Escalando particiòn de datos\n",
    "    scaler2= preprocessing.StandardScaler().fit(x2_train)\n",
    "    X2_train_scaled=scaler.transform(x2_train)\n",
    "    X2_test_scaled=scaler.transform(x2_test)\n",
    " \n",
    "       \n",
    "    # Ajuste de los modelos\n",
    "    svr_lin = SVR(kernel='linear', C=1e6, epsilon=1e1, gamma=0.01).fit(X2_train_scaled, y2_train)\n",
    "    y_lin = svr_lin.predict(X2_test_scaled)\n",
    "    \n",
    "    R_2.append(r2_score(y2_test,y_lin))\n",
    "    RMSE.append(np.linalg.norm((y2_test-y_lin),2)/np.sqrt(len(y2_test)))\n",
    "    MAE.append(median_absolute_error(y2_test,y_lin))\n",
    " \n",
    "    \n",
    "print(\"R^2: %.4f\" % np.mean(R_2))\n",
    "print(\"RMSE: %.4f\" % np.mean(RMSE))\n",
    "print(\"MAE: %.4f\" % np.mean(MAE))"
   ]
  },
  {
   "cell_type": "markdown",
   "metadata": {},
   "source": [
    "### Hold Out Validation"
   ]
  },
  {
   "cell_type": "code",
   "execution_count": 27,
   "metadata": {},
   "outputs": [
    {
     "name": "stdout",
     "output_type": "stream",
     "text": [
      "R^2: 0.1534\n",
      "RMSE: 144.1014\n",
      "MAE: 854.4128\n"
     ]
    }
   ],
   "source": [
    "R_2=[]\n",
    "RMSE=[]\n",
    "MAE=[]\n",
    "pred=[0]\n",
    "obs=[0]\n",
    "\n",
    "for i in range(20):\n",
    "    x3_train,x3_test,y3_train,y3_test=train_test_split(x,y,test_size=0.2, random_state=12) #Hacer partición de datos en entrenamiento y prueba\n",
    "\n",
    "    #Escalando particiòn de datos\n",
    "    scaler3= preprocessing.StandardScaler().fit(x3_train)\n",
    "    X3_train_scaled=scaler.transform(x3_train)\n",
    "    X3_test_scaled=scaler.transform(x3_test)\n",
    "    \n",
    "    # Ajuste de los modelos\n",
    "    svr_lin = SVR(kernel='linear', C=1e6, epsilon=1e1, gamma=0.01).fit(X3_train_scaled, y3_train)\n",
    "    y_lin = svr_lin.predict(X3_test_scaled)\n",
    "    \n",
    "    r_2=r2_score(y3_test, y_lin)\n",
    "    R_2.append(r_2)\n",
    "    RMSE.append(np.linalg.norm((y3_test-y_lin,2)/np.sqrt(len(y3_test))))\n",
    "    MAE.append(median_absolute_error(y3_test,y_lin))\n",
    "    \n",
    "    if r_2 >= max(R_2):\n",
    "        pred[0] = y_lin\n",
    "        obs[0] = y3_test\n",
    "    \n",
    "print(\"R^2: %.4f\" % np.mean(R_2))\n",
    "print(\"RMSE: %.4f\" % np.mean(RMSE))\n",
    "print(\"MAE: %.4f\" % np.mean(MAE))"
   ]
  }
 ],
 "metadata": {
  "kernelspec": {
   "display_name": "Python 3",
   "language": "python",
   "name": "python3"
  },
  "language_info": {
   "codemirror_mode": {
    "name": "ipython",
    "version": 3
   },
   "file_extension": ".py",
   "mimetype": "text/x-python",
   "name": "python",
   "nbconvert_exporter": "python",
   "pygments_lexer": "ipython3",
   "version": "3.7.0"
  }
 },
 "nbformat": 4,
 "nbformat_minor": 2
}
