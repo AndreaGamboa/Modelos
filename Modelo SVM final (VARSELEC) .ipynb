{
 "cells": [
  {
   "cell_type": "markdown",
   "metadata": {},
   "source": [
    "## MÁQUINAS DE SOPORTE VECTORIAL"
   ]
  },
  {
   "cell_type": "code",
   "execution_count": 1,
   "metadata": {},
   "outputs": [
    {
     "name": "stderr",
     "output_type": "stream",
     "text": [
      "C:\\Users\\andrea\\A\\lib\\site-packages\\sklearn\\cross_validation.py:41: DeprecationWarning: This module was deprecated in version 0.18 in favor of the model_selection module into which all the refactored classes and functions are moved. Also note that the interface of the new CV iterators are different from that of this module. This module will be removed in 0.20.\n",
      "  \"This module will be removed in 0.20.\", DeprecationWarning)\n",
      "C:\\Users\\andrea\\A\\lib\\site-packages\\sklearn\\grid_search.py:42: DeprecationWarning: This module was deprecated in version 0.18 in favor of the model_selection module into which all the refactored classes and functions are moved. This module will be removed in 0.20.\n",
      "  DeprecationWarning)\n"
     ]
    }
   ],
   "source": [
    "%matplotlib inline\n",
    "import pandas as pd\n",
    "import numpy as np\n",
    "import matplotlib.pyplot as plt\n",
    "from sklearn import svm\n",
    "from sklearn.svm import SVR # \"Support vector regression\"\n",
    "from sklearn.model_selection import GridSearchCV\n",
    "from sklearn import preprocessing\n",
    "\n",
    "from sklearn.preprocessing import MinMaxScaler\n",
    "from statsmodels.graphics.api import abline_plot\n",
    "from scipy import stats\n",
    "from statsmodels import graphics\n",
    "from sklearn import cross_validation \n",
    "from sklearn import grid_search\n",
    "\n",
    "from sklearn.model_selection import train_test_split, cross_val_predict, cross_validate, RepeatedKFold, ShuffleSplit, learning_curve\n",
    "from sklearn.metrics import r2_score, median_absolute_error,mean_squared_error\n",
    "\n",
    "from sklearn.model_selection import train_test_split\n",
    "from statsmodels.tools.eval_measures import rmse\n",
    "pd.set_option(\"display.max_rows\", 10)"
   ]
  },
  {
   "cell_type": "code",
   "execution_count": 2,
   "metadata": {},
   "outputs": [],
   "source": [
    "#Importando conjunto de datos\n",
    "\n",
    "cacao=pd.read_excel(\"TODAS LAS VARIABLES Y TOTAL.xlsx\")"
   ]
  },
  {
   "cell_type": "code",
   "execution_count": 3,
   "metadata": {},
   "outputs": [],
   "source": [
    "#Eliminar valores faltantes del conjunto de datos\n",
    "\n",
    "cacao=cacao.dropna()"
   ]
  },
  {
   "cell_type": "code",
   "execution_count": 4,
   "metadata": {},
   "outputs": [],
   "source": [
    "#Definir variables exógenas\n",
    "\n",
    "x=cacao[[   \"Diametro tronco (cm)\",\n",
    "            \"P\", \"Mg\",\n",
    "            \"%A\", \"%Hum/Grav\",\n",
    "            \"Radiacion\", \"Temperatura\", \"Humedad\", \"Lluvias acumuladas (mms)\" ]]"
   ]
  },
  {
   "cell_type": "code",
   "execution_count": 5,
   "metadata": {},
   "outputs": [],
   "source": [
    "#Definir variable endógena\n",
    "\n",
    "y=cacao[\"Rendimiento\"]"
   ]
  },
  {
   "cell_type": "markdown",
   "metadata": {},
   "source": [
    "### Histograma variable respuesta"
   ]
  },
  {
   "cell_type": "code",
   "execution_count": 6,
   "metadata": {
    "scrolled": false
   },
   "outputs": [
    {
     "data": {
      "image/png": "[encoded data removed]",
      "text/plain": [
       "<Figure size 432x288 with 1 Axes>"
      ]
     },
     "metadata": {},
     "output_type": "display_data"
    }
   ],
   "source": [
    "Respuesta=[\"Rendimiento\"]\n",
    "cacao.hist(Respuesta);"
   ]
  },
  {
   "cell_type": "code",
   "execution_count": 7,
   "metadata": {},
   "outputs": [],
   "source": [
    "#Dividir el conjunto de datos entre entrenamiento y prueba\n",
    "X_train, X_test, y_train, y_test = train_test_split(x, y, test_size=0.2) \n",
    "   \n",
    "# Normalización de los atributos\n",
    "scaler= preprocessing.StandardScaler().fit(X_train)\n",
    "X_train_scaled=scaler.transform(X_train)\n",
    "X_test_scaled=scaler.transform(X_test)"
   ]
  },
  {
   "cell_type": "markdown",
   "metadata": {},
   "source": [
    "#### Búsqueda de parámetros"
   ]
  },
  {
   "cell_type": "code",
   "execution_count": 8,
   "metadata": {},
   "outputs": [],
   "source": [
    "#Búsqueda de los mejores parámetros para el modelo SVM con kernel lineal\n",
    "\n",
    "svr = GridSearchCV(SVR(kernel='linear', gamma=1, epsilon=0.1), cv=5,\n",
    "                   param_grid = {'C':[1e1, 1e2, 1e3, 1e4],\n",
    "                             \"gamma\":np.logspace(-2,2,5),\n",
    "                             \"epsilon\": np.logspace(0,1,5)})\n",
    "svr.fit(X_train_scaled, y_train);"
   ]
  },
  {
   "cell_type": "code",
   "execution_count": 9,
   "metadata": {},
   "outputs": [
    {
     "name": "stdout",
     "output_type": "stream",
     "text": [
      "Los mejores parámetros para el modelo SVM con kernel lineal son:\n"
     ]
    },
    {
     "data": {
      "text/plain": [
       "{'C': 10000.0, 'epsilon': 1.0, 'gamma': 0.01}"
      ]
     },
     "execution_count": 9,
     "metadata": {},
     "output_type": "execute_result"
    }
   ],
   "source": [
    "print(\"Los mejores parámetros para el modelo SVM con kernel lineal son:\")\n",
    "svr.best_params_"
   ]
  },
  {
   "cell_type": "code",
   "execution_count": 10,
   "metadata": {},
   "outputs": [],
   "source": [
    "#Búsqueda de los mejores parámetros para el modelo SVM con kernel rbf\n",
    "\n",
    "svr = GridSearchCV(SVR(kernel='rbf', gamma=1, epsilon=0.1), cv=5,\n",
    "                   param_grid = {'C':[1e1, 1e2, 1e3, 1e4],\n",
    "                             \"gamma\":np.logspace(-2,2,5),\n",
    "                             \"epsilon\": np.logspace(0,1,5)})\n",
    "svr.fit(X_train_scaled, y_train);"
   ]
  },
  {
   "cell_type": "code",
   "execution_count": 11,
   "metadata": {
    "scrolled": true
   },
   "outputs": [
    {
     "name": "stdout",
     "output_type": "stream",
     "text": [
      "Los mejores parámetros para el modelo SVM con kernel rbf son:\n"
     ]
    },
    {
     "data": {
      "text/plain": [
       "{'C': 10000.0, 'epsilon': 1.0, 'gamma': 0.01}"
      ]
     },
     "execution_count": 11,
     "metadata": {},
     "output_type": "execute_result"
    }
   ],
   "source": [
    "print(\"Los mejores parámetros para el modelo SVM con kernel rbf son:\")\n",
    "svr.best_params_"
   ]
  },
  {
   "cell_type": "markdown",
   "metadata": {},
   "source": [
    "#### Predicción modelo SVM"
   ]
  },
  {
   "cell_type": "code",
   "execution_count": 12,
   "metadata": {
    "scrolled": true
   },
   "outputs": [
    {
     "name": "stdout",
     "output_type": "stream",
     "text": [
      "[ 792.58444102 1175.59776462  476.64153008  465.31110665 1918.41507595\n",
      " 1407.57687095 2329.21726241 2470.46262447 1313.40285704 2092.54033054\n",
      " 1949.92976966 2287.57909043 2241.8513365  1635.49552337 1957.71521221\n",
      " 1793.22032321  876.04760952 1899.15434476  269.49367288  399.24580009\n",
      "  415.29640941  579.36542976 2460.98995536 1437.8189359  1343.37443365\n",
      " 2162.38433769 2842.83676082  407.49456671 1120.17596713  462.59790535\n",
      "  786.32329316 2351.90627723 2216.36988446 1116.8067494  2936.0879914\n",
      " 1353.49791191  759.13225421 2265.88691125 1540.66758508  593.55688539\n",
      "  950.53642884 1137.92663428 1435.61763569 1130.99588883   39.7121512\n",
      " 2232.2209709  1213.23515484 1985.24111017 1777.29446338 2210.60044989\n",
      " 1514.00400517 1582.39916933 2288.62597964 1261.38698282 3019.61162516\n",
      " 1486.74943776 2486.73139556 2239.55201195 2788.48285088  770.92660822\n",
      " 1601.65990052  497.28757581 1651.38843621 1412.91663486 1690.49642353\n",
      " 1419.33687859 1870.26324797 1262.96369053 1760.53257962 1292.01248381\n",
      " 1282.51364087 1250.28089956 2283.58292074 2577.26873217 2533.97242622\n",
      " 2206.53999598 2165.65874378 2778.63432352  702.86012467  906.28735828\n",
      " 1194.00877003  744.46695942 1965.98037898 1448.22797537 2119.86670562\n",
      " 1001.24236225 1714.01416579 1799.21173849 2043.02330374 3199.16028784\n",
      " 1431.52344167 2453.71937959 1467.71885434 1204.82869173 2396.84798334\n",
      " 2522.69666046 1383.40596006 1956.35001339 2168.92933092 2047.59862443\n",
      " 2907.91128427 1480.5593418   754.87599889 2190.48938665  947.32630697\n",
      "  813.70432591 1295.22260567 2130.34740326 2432.03457436  713.14441465\n",
      " 1490.1897074  1720.16619419 1510.85434858 1300.56236958 1890.30265304\n",
      " 2332.64554604 1172.19184135 1136.13208382 1479.67526964 1229.16101467\n",
      " 1780.44411997 2620.84523946 1495.60112948 1840.94332274 2717.64200808\n",
      " 2961.61126983  704.20737727 2461.70434502 1052.60431209 1690.06759508\n",
      "  272.57904526 1454.87836688 2262.67678939 1751.61348846  854.35543034\n",
      " 1684.0761798  1081.49540888 1027.04808667 1355.70441939  888.92244335\n",
      "  954.94968797 2319.7445933  2309.95653122 2303.75444925 2227.36544887\n",
      "  977.42054103 1915.2692383  2164.80841173 2572.69341148 2742.82987033\n",
      " 1065.60389542 2421.61816094 1283.73308638 2436.0233701  3372.50686855\n",
      " 1389.66710793 1921.53178554 3057.91492578 2441.57152768 1875.40433121\n",
      "  537.12334379  728.4163501   816.91444778 1470.69882843  890.39444544\n",
      " 2936.0879914  1175.59776462 1648.89554973 2200.31927513 1396.90037191\n",
      " 1164.10072188 1441.02905777 1086.05418272 2788.26468911 2370.2562111\n",
      " 1487.82991758 2310.11422771  815.7113105  2686.41287558 2265.10823738\n",
      " 2248.27158023 2001.87824444 2092.54033054  667.38968829 1799.64056694\n",
      " 1460.44888483 1801.57152831 1940.45710055 1824.04238137 2005.15265052\n",
      " 1621.57455609 1971.70798716 1701.17367833 2184.4263623  2146.33372837\n",
      " 2361.53664282 1899.21862897 1806.06081067 2274.6451907  1391.95509008\n",
      "  234.05758287 1223.7495926   783.11317129 2569.28376673 1844.70702255\n",
      " 1352.1544672  1265.12837161 1214.119227   2309.95653122 1322.37929825\n",
      " 1783.65424183 2726.57973812 1394.22588177  966.0901176  1502.1461227\n",
      " 2136.11683783 1966.56690393 2114.35725921 3061.12504764  197.36092782\n",
      " 2785.05456725 2871.7278576   301.65809539 2087.96500986 2217.08115889\n",
      " 1262.27105498 1953.79070068 2096.9027399  2688.96907306  895.34268708\n",
      " 2498.6610857   662.47579302  800.86383845 1804.78165018 1185.22813022\n",
      " 1161.90755137 2230.84378607 1703.33691099 1684.14046402  808.63505035\n",
      " 2064.80152125 1512.43041268 2167.29527315 2139.12743681  114.18697847\n",
      " 1824.53549404  671.25582658 2033.97946309 1644.04540914 2226.87076779\n",
      " 1843.30311256  725.98490211 1924.24879474  715.12749207 1646.60160663\n",
      " 2130.40786854 2235.63061565 2666.28005824 1378.68577416 1417.636065\n",
      " 1626.29398623 1564.36234062 2297.27374024 2005.15265052 1468.56918639\n",
      " 3372.50686855 1249.12837347 1121.87602496 1896.06897239 1578.92083213\n",
      "  940.37479631 1034.12225478 2126.28694935 3353.24613736 1388.15844327\n",
      "  774.13673008 1057.32078243 1552.16387753 1242.78017601  956.30065614\n",
      " 1996.23667459  878.46630211 2236.21714059 1721.08833391 1664.22892367\n",
      " 3160.63882546 2928.81741562 1864.76514396 1187.42943043 3263.36272514\n",
      "  607.2103931   388.76510245  434.5571406  1040.57684488 1338.42990758\n",
      "  517.32698088 2163.16301157 2977.66187915  227.18326812 2286.99256549\n",
      " 2589.23713348 1149.68664192  973.12993934 2072.4075132  2261.96239973\n",
      " 2000.59908395 2050.80874629 2287.57909043 2078.98545342  316.13543682\n",
      "  885.67797511 1088.92447426]\n"
     ]
    }
   ],
   "source": [
    "#Modelo SVM con kernel lineal\n",
    "\n",
    "svr_lin = SVR(kernel='linear', C=1e4, epsilon=1e1, gamma=0.01).fit(X_train_scaled, y_train)\n",
    "y_lin = svr_lin.predict(X_train_scaled)\n",
    "print(y_lin)"
   ]
  },
  {
   "cell_type": "code",
   "execution_count": 13,
   "metadata": {},
   "outputs": [
    {
     "name": "stdout",
     "output_type": "stream",
     "text": [
      "Coeficientes: \n",
      " [[  502.09608563  1949.81204821  1009.70866727 -1330.99002137\n",
      "   1056.58241061   698.90374679  -281.03554591 -1698.00205152\n",
      "   1597.48227769]]\n"
     ]
    }
   ],
   "source": [
    "print('Coeficientes: \\n',svr_lin.coef_)"
   ]
  },
  {
   "cell_type": "code",
   "execution_count": 14,
   "metadata": {},
   "outputs": [
    {
     "data": {
      "text/plain": [
       "0.15991576255396023"
      ]
     },
     "execution_count": 14,
     "metadata": {},
     "output_type": "execute_result"
    }
   ],
   "source": [
    "#R^2 predicción GLM con kernel lineal\n",
    "\n",
    "r2_score(y_train,y_lin)"
   ]
  },
  {
   "cell_type": "code",
   "execution_count": 15,
   "metadata": {
    "scrolled": true
   },
   "outputs": [
    {
     "name": "stdout",
     "output_type": "stream",
     "text": [
      "[ 792.58444102 1175.59776462  476.64153008  465.31110665 1918.41507595\n",
      " 1407.57687095 2329.21726241 2470.46262447 1313.40285704 2092.54033054\n",
      " 1949.92976966 2287.57909043 2241.8513365  1635.49552337 1957.71521221\n",
      " 1793.22032321  876.04760952 1899.15434476  269.49367288  399.24580009\n",
      "  415.29640941  579.36542976 2460.98995536 1437.8189359  1343.37443365\n",
      " 2162.38433769 2842.83676082  407.49456671 1120.17596713  462.59790535\n",
      "  786.32329316 2351.90627723 2216.36988446 1116.8067494  2936.0879914\n",
      " 1353.49791191  759.13225421 2265.88691125 1540.66758508  593.55688539\n",
      "  950.53642884 1137.92663428 1435.61763569 1130.99588883   39.7121512\n",
      " 2232.2209709  1213.23515484 1985.24111017 1777.29446338 2210.60044989\n",
      " 1514.00400517 1582.39916933 2288.62597964 1261.38698282 3019.61162516\n",
      " 1486.74943776 2486.73139556 2239.55201195 2788.48285088  770.92660822\n",
      " 1601.65990052  497.28757581 1651.38843621 1412.91663486 1690.49642353\n",
      " 1419.33687859 1870.26324797 1262.96369053 1760.53257962 1292.01248381\n",
      " 1282.51364087 1250.28089956 2283.58292074 2577.26873217 2533.97242622\n",
      " 2206.53999598 2165.65874378 2778.63432352  702.86012467  906.28735828\n",
      " 1194.00877003  744.46695942 1965.98037898 1448.22797537 2119.86670562\n",
      " 1001.24236225 1714.01416579 1799.21173849 2043.02330374 3199.16028784\n",
      " 1431.52344167 2453.71937959 1467.71885434 1204.82869173 2396.84798334\n",
      " 2522.69666046 1383.40596006 1956.35001339 2168.92933092 2047.59862443\n",
      " 2907.91128427 1480.5593418   754.87599889 2190.48938665  947.32630697\n",
      "  813.70432591 1295.22260567 2130.34740326 2432.03457436  713.14441465\n",
      " 1490.1897074  1720.16619419 1510.85434858 1300.56236958 1890.30265304\n",
      " 2332.64554604 1172.19184135 1136.13208382 1479.67526964 1229.16101467\n",
      " 1780.44411997 2620.84523946 1495.60112948 1840.94332274 2717.64200808\n",
      " 2961.61126983  704.20737727 2461.70434502 1052.60431209 1690.06759508\n",
      "  272.57904526 1454.87836688 2262.67678939 1751.61348846  854.35543034\n",
      " 1684.0761798  1081.49540888 1027.04808667 1355.70441939  888.92244335\n",
      "  954.94968797 2319.7445933  2309.95653122 2303.75444925 2227.36544887\n",
      "  977.42054103 1915.2692383  2164.80841173 2572.69341148 2742.82987033\n",
      " 1065.60389542 2421.61816094 1283.73308638 2436.0233701  3372.50686855\n",
      " 1389.66710793 1921.53178554 3057.91492578 2441.57152768 1875.40433121\n",
      "  537.12334379  728.4163501   816.91444778 1470.69882843  890.39444544\n",
      " 2936.0879914  1175.59776462 1648.89554973 2200.31927513 1396.90037191\n",
      " 1164.10072188 1441.02905777 1086.05418272 2788.26468911 2370.2562111\n",
      " 1487.82991758 2310.11422771  815.7113105  2686.41287558 2265.10823738\n",
      " 2248.27158023 2001.87824444 2092.54033054  667.38968829 1799.64056694\n",
      " 1460.44888483 1801.57152831 1940.45710055 1824.04238137 2005.15265052\n",
      " 1621.57455609 1971.70798716 1701.17367833 2184.4263623  2146.33372837\n",
      " 2361.53664282 1899.21862897 1806.06081067 2274.6451907  1391.95509008\n",
      "  234.05758287 1223.7495926   783.11317129 2569.28376673 1844.70702255\n",
      " 1352.1544672  1265.12837161 1214.119227   2309.95653122 1322.37929825\n",
      " 1783.65424183 2726.57973812 1394.22588177  966.0901176  1502.1461227\n",
      " 2136.11683783 1966.56690393 2114.35725921 3061.12504764  197.36092782\n",
      " 2785.05456725 2871.7278576   301.65809539 2087.96500986 2217.08115889\n",
      " 1262.27105498 1953.79070068 2096.9027399  2688.96907306  895.34268708\n",
      " 2498.6610857   662.47579302  800.86383845 1804.78165018 1185.22813022\n",
      " 1161.90755137 2230.84378607 1703.33691099 1684.14046402  808.63505035\n",
      " 2064.80152125 1512.43041268 2167.29527315 2139.12743681  114.18697847\n",
      " 1824.53549404  671.25582658 2033.97946309 1644.04540914 2226.87076779\n",
      " 1843.30311256  725.98490211 1924.24879474  715.12749207 1646.60160663\n",
      " 2130.40786854 2235.63061565 2666.28005824 1378.68577416 1417.636065\n",
      " 1626.29398623 1564.36234062 2297.27374024 2005.15265052 1468.56918639\n",
      " 3372.50686855 1249.12837347 1121.87602496 1896.06897239 1578.92083213\n",
      "  940.37479631 1034.12225478 2126.28694935 3353.24613736 1388.15844327\n",
      "  774.13673008 1057.32078243 1552.16387753 1242.78017601  956.30065614\n",
      " 1996.23667459  878.46630211 2236.21714059 1721.08833391 1664.22892367\n",
      " 3160.63882546 2928.81741562 1864.76514396 1187.42943043 3263.36272514\n",
      "  607.2103931   388.76510245  434.5571406  1040.57684488 1338.42990758\n",
      "  517.32698088 2163.16301157 2977.66187915  227.18326812 2286.99256549\n",
      " 2589.23713348 1149.68664192  973.12993934 2072.4075132  2261.96239973\n",
      " 2000.59908395 2050.80874629 2287.57909043 2078.98545342  316.13543682\n",
      "  885.67797511 1088.92447426]\n"
     ]
    }
   ],
   "source": [
    "#Modelo SVM con kernel rbf\n",
    "\n",
    "svr_rbf = SVR(kernel='rbf', C=1e4, epsilon=1e1, gamma=0.01)\n",
    "y_rbf = svr_lin.fit(X_train_scaled, y_train).predict(X_train_scaled)\n",
    "print(y_rbf)"
   ]
  },
  {
   "cell_type": "code",
   "execution_count": 16,
   "metadata": {},
   "outputs": [
    {
     "data": {
      "text/plain": [
       "0.15991576255396023"
      ]
     },
     "execution_count": 16,
     "metadata": {},
     "output_type": "execute_result"
    }
   ],
   "source": [
    "#R^2 predicción GLM con kernel rbf\n",
    "\n",
    "r2_score(y_train,y_lin)"
   ]
  },
  {
   "cell_type": "code",
   "execution_count": 17,
   "metadata": {
    "scrolled": true
   },
   "outputs": [
    {
     "name": "stdout",
     "output_type": "stream",
     "text": [
      "GridSearchCV(cv=None, error_score='raise',\n",
      "       estimator=SVR(C=1.0, cache_size=200, coef0=0.0, degree=3, epsilon=0.1, gamma='auto',\n",
      "  kernel='rbf', max_iter=-1, shrinking=True, tol=0.001, verbose=False),\n",
      "       fit_params={}, iid=True, n_jobs=1,\n",
      "       param_grid={'kernel': ('linear', 'rbf'), 'C': [10000.0, 1000000.0, 1000.0]},\n",
      "       pre_dispatch='2*n_jobs', refit=True, scoring=None, verbose=0)\n"
     ]
    }
   ],
   "source": [
    "parameters = {'kernel':('linear', 'rbf'), 'C':[1e4,1e6, 1e3]} \n",
    "svr = svm.SVR () \n",
    "reg = grid_search.GridSearchCV(svr, parameters) \n",
    "print(reg.fit(X_train_scaled, y_train)) "
   ]
  },
  {
   "cell_type": "code",
   "execution_count": 18,
   "metadata": {},
   "outputs": [
    {
     "data": {
      "text/plain": [
       "{'C': 10000.0, 'kernel': 'linear'}"
      ]
     },
     "execution_count": 18,
     "metadata": {},
     "output_type": "execute_result"
    }
   ],
   "source": [
    "reg.best_params_"
   ]
  },
  {
   "cell_type": "markdown",
   "metadata": {},
   "source": [
    "### Cross Validation"
   ]
  },
  {
   "cell_type": "code",
   "execution_count": 22,
   "metadata": {},
   "outputs": [
    {
     "name": "stdout",
     "output_type": "stream",
     "text": [
      "R^2: 0.0880\n",
      "RMSE: 1731.0386\n",
      "MAE: 926.4207\n"
     ]
    }
   ],
   "source": [
    "rkf=RepeatedKFold(n_splits=10,n_repeats=10) #la función RepeatkFolds permite crear una particion de datos y repetirla\n",
    "R_2=[]\n",
    "RMSE=[]\n",
    "MAE=[]\n",
    "for train_index, test_index in rkf.split(x):\n",
    "     \n",
    "    x2_train, x2_test = x.iloc[train_index], x.iloc[test_index]\n",
    "    y2_train, y2_test = y.iloc[train_index], y.iloc[test_index] # Values toma la transformación de box-cox\n",
    "    \n",
    "    #Escalando particiòn de datos\n",
    "    scaler2= preprocessing.StandardScaler().fit(x2_train)\n",
    "    X2_train_scaled=scaler.transform(x2_train)\n",
    "    X2_test_scaled=scaler.transform(x2_test)\n",
    " \n",
    "       \n",
    "    # Ajuste de los modelos\n",
    "    svr_lin = SVR(kernel='linear', C=1e4, epsilon=1e1, gamma=0.01).fit(X2_train_scaled, y2_train)\n",
    "    y_lin = svr_lin.predict(X2_test_scaled)\n",
    "    \n",
    "    R_2.append(r2_score(y2_test,y_lin))\n",
    "    RMSE.append(np.linalg.norm((y2_test-y_lin),2)/np.sqrt(len(y2_test)))\n",
    "    MAE.append(median_absolute_error(y2_test,y_lin))\n",
    " \n",
    "    \n",
    "print(\"R^2: %.4f\" % np.mean(R_2))\n",
    "print(\"RMSE: %.4f\" % np.mean(RMSE))\n",
    "print(\"MAE: %.4f\" % np.mean(MAE))"
   ]
  },
  {
   "cell_type": "markdown",
   "metadata": {},
   "source": [
    "### Hold Out Validation"
   ]
  },
  {
   "cell_type": "code",
   "execution_count": 23,
   "metadata": {},
   "outputs": [
    {
     "name": "stdout",
     "output_type": "stream",
     "text": [
      "R^2: 0.1583\n",
      "RMSE: 143.5137\n",
      "MAE: 874.1280\n"
     ]
    }
   ],
   "source": [
    "R_2=[]\n",
    "RMSE=[]\n",
    "MAE=[]\n",
    "pred=[0]\n",
    "obs=[0]\n",
    "\n",
    "for i in range(20):\n",
    "    x3_train,x3_test,y3_train,y3_test=train_test_split(x,y,test_size=0.2, random_state=12) #Hacer partición de datos en entrenamiento y prueba\n",
    "\n",
    "    #Escalando particiòn de datos\n",
    "    scaler3= preprocessing.StandardScaler().fit(x3_train)\n",
    "    X3_train_scaled=scaler.transform(x3_train)\n",
    "    X3_test_scaled=scaler.transform(x3_test)\n",
    "    \n",
    "    # Ajuste de los modelos\n",
    "    svr_lin = SVR(kernel='linear', C=1e4, epsilon=1e1, gamma=0.01).fit(X3_train_scaled, y3_train)\n",
    "    y_lin = svr_lin.predict(X3_test_scaled)\n",
    "    \n",
    "    r_2=r2_score(y3_test, y_lin)\n",
    "    R_2.append(r_2)\n",
    "    RMSE.append(np.linalg.norm((y3_test-y_lin,2)/np.sqrt(len(y3_test))))\n",
    "    MAE.append(median_absolute_error(y3_test,y_lin))\n",
    "    \n",
    "    if r_2 >= max(R_2):\n",
    "        pred[0] = y_lin\n",
    "        obs[0] = y3_test\n",
    "    \n",
    "print(\"R^2: %.4f\" % np.mean(R_2))\n",
    "print(\"RMSE: %.4f\" % np.mean(RMSE))\n",
    "print(\"MAE: %.4f\" % np.mean(MAE))"
   ]
  },
  {
   "cell_type": "code",
   "execution_count": 26,
   "metadata": {},
   "outputs": [
    {
     "data": {
      "text/plain": [
       "[154    246.026305\n",
       " 373     28.316072\n",
       " 89      13.301372\n",
       " 1       24.712790\n",
       " 369     75.653937\n",
       "           ...    \n",
       " 412     90.382936\n",
       " 78      38.835184\n",
       " 407    143.787437\n",
       " 44      72.495156\n",
       " 322    110.641352\n",
       " Name: Rendimiento, Length: 78, dtype: float64, 154    246.026305\n",
       " 373     28.316072\n",
       " 89      13.301372\n",
       " 1       24.712790\n",
       " 369     75.653937\n",
       "           ...    \n",
       " 412     90.382936\n",
       " 78      38.835184\n",
       " 407    143.787437\n",
       " 44      72.495156\n",
       " 322    110.641352\n",
       " Name: Rendimiento, Length: 78, dtype: float64, 154    246.026305\n",
       " 373     28.316072\n",
       " 89      13.301372\n",
       " 1       24.712790\n",
       " 369     75.653937\n",
       "           ...    \n",
       " 412     90.382936\n",
       " 78      38.835184\n",
       " 407    143.787437\n",
       " 44      72.495156\n",
       " 322    110.641352\n",
       " Name: Rendimiento, Length: 78, dtype: float64, 154    246.026305\n",
       " 373     28.316072\n",
       " 89      13.301372\n",
       " 1       24.712790\n",
       " 369     75.653937\n",
       "           ...    \n",
       " 412     90.382936\n",
       " 78      38.835184\n",
       " 407    143.787437\n",
       " 44      72.495156\n",
       " 322    110.641352\n",
       " Name: Rendimiento, Length: 78, dtype: float64, 154    246.026305\n",
       " 373     28.316072\n",
       " 89      13.301372\n",
       " 1       24.712790\n",
       " 369     75.653937\n",
       "           ...    \n",
       " 412     90.382936\n",
       " 78      38.835184\n",
       " 407    143.787437\n",
       " 44      72.495156\n",
       " 322    110.641352\n",
       " Name: Rendimiento, Length: 78, dtype: float64, 154    246.026305\n",
       " 373     28.316072\n",
       " 89      13.301372\n",
       " 1       24.712790\n",
       " 369     75.653937\n",
       "           ...    \n",
       " 412     90.382936\n",
       " 78      38.835184\n",
       " 407    143.787437\n",
       " 44      72.495156\n",
       " 322    110.641352\n",
       " Name: Rendimiento, Length: 78, dtype: float64, 154    246.026305\n",
       " 373     28.316072\n",
       " 89      13.301372\n",
       " 1       24.712790\n",
       " 369     75.653937\n",
       "           ...    \n",
       " 412     90.382936\n",
       " 78      38.835184\n",
       " 407    143.787437\n",
       " 44      72.495156\n",
       " 322    110.641352\n",
       " Name: Rendimiento, Length: 78, dtype: float64, 154    246.026305\n",
       " 373     28.316072\n",
       " 89      13.301372\n",
       " 1       24.712790\n",
       " 369     75.653937\n",
       "           ...    \n",
       " 412     90.382936\n",
       " 78      38.835184\n",
       " 407    143.787437\n",
       " 44      72.495156\n",
       " 322    110.641352\n",
       " Name: Rendimiento, Length: 78, dtype: float64, 154    246.026305\n",
       " 373     28.316072\n",
       " 89      13.301372\n",
       " 1       24.712790\n",
       " 369     75.653937\n",
       "           ...    \n",
       " 412     90.382936\n",
       " 78      38.835184\n",
       " 407    143.787437\n",
       " 44      72.495156\n",
       " 322    110.641352\n",
       " Name: Rendimiento, Length: 78, dtype: float64, 154    246.026305\n",
       " 373     28.316072\n",
       " 89      13.301372\n",
       " 1       24.712790\n",
       " 369     75.653937\n",
       "           ...    \n",
       " 412     90.382936\n",
       " 78      38.835184\n",
       " 407    143.787437\n",
       " 44      72.495156\n",
       " 322    110.641352\n",
       " Name: Rendimiento, Length: 78, dtype: float64, 154    246.026305\n",
       " 373     28.316072\n",
       " 89      13.301372\n",
       " 1       24.712790\n",
       " 369     75.653937\n",
       "           ...    \n",
       " 412     90.382936\n",
       " 78      38.835184\n",
       " 407    143.787437\n",
       " 44      72.495156\n",
       " 322    110.641352\n",
       " Name: Rendimiento, Length: 78, dtype: float64, 154    246.026305\n",
       " 373     28.316072\n",
       " 89      13.301372\n",
       " 1       24.712790\n",
       " 369     75.653937\n",
       "           ...    \n",
       " 412     90.382936\n",
       " 78      38.835184\n",
       " 407    143.787437\n",
       " 44      72.495156\n",
       " 322    110.641352\n",
       " Name: Rendimiento, Length: 78, dtype: float64, 154    246.026305\n",
       " 373     28.316072\n",
       " 89      13.301372\n",
       " 1       24.712790\n",
       " 369     75.653937\n",
       "           ...    \n",
       " 412     90.382936\n",
       " 78      38.835184\n",
       " 407    143.787437\n",
       " 44      72.495156\n",
       " 322    110.641352\n",
       " Name: Rendimiento, Length: 78, dtype: float64, 154    246.026305\n",
       " 373     28.316072\n",
       " 89      13.301372\n",
       " 1       24.712790\n",
       " 369     75.653937\n",
       "           ...    \n",
       " 412     90.382936\n",
       " 78      38.835184\n",
       " 407    143.787437\n",
       " 44      72.495156\n",
       " 322    110.641352\n",
       " Name: Rendimiento, Length: 78, dtype: float64, 154    246.026305\n",
       " 373     28.316072\n",
       " 89      13.301372\n",
       " 1       24.712790\n",
       " 369     75.653937\n",
       "           ...    \n",
       " 412     90.382936\n",
       " 78      38.835184\n",
       " 407    143.787437\n",
       " 44      72.495156\n",
       " 322    110.641352\n",
       " Name: Rendimiento, Length: 78, dtype: float64, 154    246.026305\n",
       " 373     28.316072\n",
       " 89      13.301372\n",
       " 1       24.712790\n",
       " 369     75.653937\n",
       "           ...    \n",
       " 412     90.382936\n",
       " 78      38.835184\n",
       " 407    143.787437\n",
       " 44      72.495156\n",
       " 322    110.641352\n",
       " Name: Rendimiento, Length: 78, dtype: float64, 154    246.026305\n",
       " 373     28.316072\n",
       " 89      13.301372\n",
       " 1       24.712790\n",
       " 369     75.653937\n",
       "           ...    \n",
       " 412     90.382936\n",
       " 78      38.835184\n",
       " 407    143.787437\n",
       " 44      72.495156\n",
       " 322    110.641352\n",
       " Name: Rendimiento, Length: 78, dtype: float64, 154    246.026305\n",
       " 373     28.316072\n",
       " 89      13.301372\n",
       " 1       24.712790\n",
       " 369     75.653937\n",
       "           ...    \n",
       " 412     90.382936\n",
       " 78      38.835184\n",
       " 407    143.787437\n",
       " 44      72.495156\n",
       " 322    110.641352\n",
       " Name: Rendimiento, Length: 78, dtype: float64, 154    246.026305\n",
       " 373     28.316072\n",
       " 89      13.301372\n",
       " 1       24.712790\n",
       " 369     75.653937\n",
       "           ...    \n",
       " 412     90.382936\n",
       " 78      38.835184\n",
       " 407    143.787437\n",
       " 44      72.495156\n",
       " 322    110.641352\n",
       " Name: Rendimiento, Length: 78, dtype: float64, 154    246.026305\n",
       " 373     28.316072\n",
       " 89      13.301372\n",
       " 1       24.712790\n",
       " 369     75.653937\n",
       "           ...    \n",
       " 412     90.382936\n",
       " 78      38.835184\n",
       " 407    143.787437\n",
       " 44      72.495156\n",
       " 322    110.641352\n",
       " Name: Rendimiento, Length: 78, dtype: float64]"
      ]
     },
     "execution_count": 26,
     "metadata": {},
     "output_type": "execute_result"
    }
   ],
   "source": [
    "RMSE"
   ]
  },
  {
   "cell_type": "code",
   "execution_count": 30,
   "metadata": {},
   "outputs": [],
   "source": [
    "datos = np.asarray(RMSE)\n",
    "np.savetxt(\"RMSE_SVM.csv\",   # Archivo de salida\n",
    "           datos.T,        # Trasponemos los datos\n",
    "           fmt=\"%d\",       # Usando números enteros\n",
    "           delimiter=\",\")  # Para que sea un archivo CSV"
   ]
  }
 ],
 "metadata": {
  "kernelspec": {
   "display_name": "Python 3",
   "language": "python",
   "name": "python3"
  },
  "language_info": {
   "codemirror_mode": {
    "name": "ipython",
    "version": 3
   },
   "file_extension": ".py",
   "mimetype": "text/x-python",
   "name": "python",
   "nbconvert_exporter": "python",
   "pygments_lexer": "ipython3",
   "version": "3.6.5"
  }
 },
 "nbformat": 4,
 "nbformat_minor": 2
}
