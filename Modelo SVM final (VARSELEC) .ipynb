{
 "cells": [
  {
   "cell_type": "markdown",
   "metadata": {},
   "source": [
    "## MÁQUINAS DE SOPORTE VECTORIAL"
   ]
  },
  {
   "cell_type": "code",
   "execution_count": 1,
   "metadata": {},
   "outputs": [
    {
     "name": "stderr",
     "output_type": "stream",
     "text": [
      "C:\\Users\\andrea\\A\\lib\\site-packages\\sklearn\\cross_validation.py:41: DeprecationWarning: This module was deprecated in version 0.18 in favor of the model_selection module into which all the refactored classes and functions are moved. Also note that the interface of the new CV iterators are different from that of this module. This module will be removed in 0.20.\n",
      "  \"This module will be removed in 0.20.\", DeprecationWarning)\n",
      "C:\\Users\\andrea\\A\\lib\\site-packages\\sklearn\\grid_search.py:42: DeprecationWarning: This module was deprecated in version 0.18 in favor of the model_selection module into which all the refactored classes and functions are moved. This module will be removed in 0.20.\n",
      "  DeprecationWarning)\n"
     ]
    }
   ],
   "source": [
    "%matplotlib inline\n",
    "import pandas as pd\n",
    "import numpy as np\n",
    "import matplotlib.pyplot as plt\n",
    "from sklearn import svm\n",
    "from sklearn.svm import SVR # \"Support vector regression\"\n",
    "from sklearn.model_selection import GridSearchCV\n",
    "from sklearn import preprocessing\n",
    "\n",
    "from sklearn.preprocessing import MinMaxScaler\n",
    "from statsmodels.graphics.api import abline_plot\n",
    "from scipy import stats\n",
    "from statsmodels import graphics\n",
    "from sklearn import cross_validation \n",
    "from sklearn import grid_search\n",
    "\n",
    "from sklearn.model_selection import train_test_split, cross_val_predict, cross_validate, RepeatedKFold, ShuffleSplit, learning_curve\n",
    "from sklearn.metrics import r2_score, median_absolute_error,mean_squared_error\n",
    "\n",
    "from sklearn.model_selection import train_test_split\n",
    "from statsmodels.tools.eval_measures import rmse\n",
    "pd.set_option(\"display.max_rows\", 10)"
   ]
  },
  {
   "cell_type": "code",
   "execution_count": 2,
   "metadata": {},
   "outputs": [],
   "source": [
    "#Importando conjunto de datos\n",
    "\n",
    "cacao=pd.read_excel(\"TODAS LAS VARIABLES Y TOTAL.xlsx\")"
   ]
  },
  {
   "cell_type": "code",
   "execution_count": 3,
   "metadata": {},
   "outputs": [],
   "source": [
    "#Eliminar valores faltantes del conjunto de datos\n",
    "\n",
    "cacao=cacao.dropna()"
   ]
  },
  {
   "cell_type": "code",
   "execution_count": 4,
   "metadata": {},
   "outputs": [],
   "source": [
    "#Definir variables exógenas\n",
    "\n",
    "x=cacao[[   \"Diametro tronco (cm)\",\n",
    "            \"P\", \"Mg\",\n",
    "            \"%A\", \"%Hum/Grav\",\n",
    "            \"Radiacion\", \"Temperatura\", \"Humedad\", \"Lluvias acumuladas (mms)\" ]]"
   ]
  },
  {
   "cell_type": "code",
   "execution_count": 5,
   "metadata": {},
   "outputs": [],
   "source": [
    "#Definir variable endógena\n",
    "\n",
    "y=cacao[\"Rendimiento\"]"
   ]
  },
  {
   "cell_type": "markdown",
   "metadata": {},
   "source": [
    "### Histograma variable respuesta"
   ]
  },
  {
   "cell_type": "code",
   "execution_count": 6,
   "metadata": {
    "scrolled": false
   },
   "outputs": [
    {
     "data": {
      "image/png": "[encoded data removed]",
      "text/plain": [
       "<Figure size 432x288 with 1 Axes>"
      ]
     },
     "metadata": {},
     "output_type": "display_data"
    }
   ],
   "source": [
    "Respuesta=[\"Rendimiento\"]\n",
    "cacao.hist(Respuesta);"
   ]
  },
  {
   "cell_type": "code",
   "execution_count": 7,
   "metadata": {},
   "outputs": [],
   "source": [
    "#Dividir el conjunto de datos entre entrenamiento y prueba\n",
    "X_train, X_test, y_train, y_test = train_test_split(x, y, test_size=0.2) \n",
    "   \n",
    "# Normalización de los atributos\n",
    "scaler= preprocessing.StandardScaler().fit(X_train)\n",
    "X_train_scaled=scaler.transform(X_train)\n",
    "X_test_scaled=scaler.transform(X_test)"
   ]
  },
  {
   "cell_type": "markdown",
   "metadata": {},
   "source": [
    "#### Búsqueda de parámetros"
   ]
  },
  {
   "cell_type": "code",
   "execution_count": 8,
   "metadata": {},
   "outputs": [],
   "source": [
    "#Búsqueda de los mejores parámetros para el modelo SVM con kernel lineal\n",
    "\n",
    "svr = GridSearchCV(SVR(kernel='linear', gamma=1, epsilon=0.1), cv=5,\n",
    "                   param_grid = {'C':[1e1, 1e2, 1e3, 1e4],\n",
    "                             \"gamma\":np.logspace(-2,2,5),\n",
    "                             \"epsilon\": np.logspace(0,1,5)})\n",
    "svr.fit(X_train_scaled, y_train);"
   ]
  },
  {
   "cell_type": "code",
   "execution_count": 9,
   "metadata": {},
   "outputs": [
    {
     "name": "stdout",
     "output_type": "stream",
     "text": [
      "Los mejores parámetros para el modelo SVM con kernel lineal son:\n"
     ]
    },
    {
     "data": {
      "text/plain": [
       "{'C': 10000.0, 'epsilon': 10.0, 'gamma': 0.01}"
      ]
     },
     "execution_count": 9,
     "metadata": {},
     "output_type": "execute_result"
    }
   ],
   "source": [
    "print(\"Los mejores parámetros para el modelo SVM con kernel lineal son:\")\n",
    "svr.best_params_"
   ]
  },
  {
   "cell_type": "code",
   "execution_count": 10,
   "metadata": {},
   "outputs": [],
   "source": [
    "#Búsqueda de los mejores parámetros para el modelo SVM con kernel rbf\n",
    "\n",
    "svr = GridSearchCV(SVR(kernel='rbf', gamma=1, epsilon=0.1), cv=5,\n",
    "                   param_grid = {'C':[1e1, 1e2, 1e3, 1e4],\n",
    "                             \"gamma\":np.logspace(-2,2,5),\n",
    "                             \"epsilon\": np.logspace(0,1,5)})\n",
    "svr.fit(X_train_scaled, y_train);"
   ]
  },
  {
   "cell_type": "code",
   "execution_count": 11,
   "metadata": {
    "scrolled": true
   },
   "outputs": [
    {
     "name": "stdout",
     "output_type": "stream",
     "text": [
      "Los mejores parámetros para el modelo SVM con kernel rbf son:\n"
     ]
    },
    {
     "data": {
      "text/plain": [
       "{'C': 10000.0, 'epsilon': 10.0, 'gamma': 0.01}"
      ]
     },
     "execution_count": 11,
     "metadata": {},
     "output_type": "execute_result"
    }
   ],
   "source": [
    "print(\"Los mejores parámetros para el modelo SVM con kernel rbf son:\")\n",
    "svr.best_params_"
   ]
  },
  {
   "cell_type": "markdown",
   "metadata": {},
   "source": [
    "#### Predicción modelo SVM"
   ]
  },
  {
   "cell_type": "code",
   "execution_count": 12,
   "metadata": {
    "scrolled": true
   },
   "outputs": [
    {
     "name": "stdout",
     "output_type": "stream",
     "text": [
      "[1103.08428043 1603.33954797 1835.58576542 1393.96020937 2064.72509496\n",
      " 1386.84979482 2920.71497547 2689.15676173 1307.55956551 1153.45093\n",
      " 1715.2654359  1723.35113678 2777.70072766  392.71984079 2683.34992771\n",
      " 2585.62531539 1649.87563145 2537.84627341  959.08667942 2161.29114379\n",
      " 2288.57687081 1117.43996511 1707.43939486 2171.3634292  1320.27566649\n",
      "  406.71057678 1309.64270713 2047.93621177 1012.10860989  592.52939646\n",
      "  597.98282456 2090.785561   1646.43205933 1389.0025171   423.49945997\n",
      " 1485.81736565  622.16791104 1974.63248179 2926.99927357 1006.88318029\n",
      " 2545.76325092  767.66002257  440.13393409 1185.59373618 1240.40403276\n",
      " 2173.85283569  144.24436959 1431.62014999 2109.80419084 2568.9792985\n",
      "  522.43285021 2506.58919014 1202.75348416 1082.06228984  609.85501886\n",
      " 2359.40769203 2895.22290998  651.82722683  919.76975235 2915.59614516\n",
      "  722.40488181 2145.87136371  424.86856307  992.5215795  2842.61001605\n",
      " 1127.51225052 1636.91731435  363.61806542 1548.49690739  628.90531004\n",
      " 2329.99717595 1998.44670346 2433.83736299 1853.49495199 2248.03370693\n",
      "  647.19682675 2627.15268179  488.99795013 1010.95596251 2143.38195722\n",
      " 1534.5061714  2654.58225094 2165.21523197 1280.87360721  473.86610954\n",
      " 2503.79104295  947.00283025  384.3253992  1729.25617189  755.35867316\n",
      " 1074.59834249  427.97545098  622.15636826 2275.46327608  911.51817705\n",
      " 1662.3796063  3222.60613217  568.9915715  2149.11435248 2038.81809199\n",
      " 1051.07213104 3239.39501535 1813.3366887  3088.29506665 1098.85117303\n",
      " 1697.65467344 2386.95686433  953.34751873  746.65549086  242.73915097\n",
      "  528.1720109  1647.28802387 1503.21932977 2453.11565267 1156.24907719\n",
      "  237.1647023  1445.61088598 2199.03616047 1428.8220028  1783.54127204\n",
      " 2012.14800607 2168.25654129 3066.69609386  869.40310278  760.27536206\n",
      " 1138.02523381 2918.39429236 2693.13233669  728.63977833  894.37588795\n",
      " 2443.06267459 2649.77216133 1502.60624884 2556.647099   1294.51093728\n",
      "  715.50500688 2721.73778369 3054.71730028 1151.80543018 1648.67830369\n",
      " 2460.69289399 2358.28738864  521.42306913  774.40896434  427.43871177\n",
      " 2106.1454001  1061.61929491 2386.51202275   57.94041532  636.14710425\n",
      "  269.446955   2767.29434365 2313.20829276 2079.30353882 1919.22144066\n",
      " 2327.50776946 2487.83302976 2417.29164193 2333.93493386 2023.19772857\n",
      " 2364.43558587  866.74782188 1282.67292357  442.93208128 1567.53203495\n",
      " 3128.46587184  903.35173396 1569.76178159 2336.45411389  598.12569086\n",
      " 2398.29231941 2282.42867358 1751.64134947 2135.55591617 1381.25350043\n",
      " 1982.20972311 2554.84569622 1922.60729573 2427.93232789  553.35533569\n",
      " 2045.72577245 1232.95169892 2884.81652598 2017.74430046 2763.70999167\n",
      " 2232.37076472 2947.01860364 1402.44135026 2280.49116993 2478.60771816\n",
      " 2881.23217399 2222.00904593 2146.18010441 2029.77822548 2339.38836196\n",
      " 1958.1523393  1934.08931791 2448.51610268 3075.09053545 3125.45718502\n",
      " 1467.99606357  997.90733428  950.54937153 2428.9290723  1678.58078161\n",
      "  496.23974434 1138.39609861 1836.7060688   930.75180152 1388.49529464\n",
      " 3478.02373199  848.80629131  550.55718849 1216.16281573 2610.80864018\n",
      " 1727.57832808 1804.80614624  744.16608437 2546.45125462 1933.79988452\n",
      " 2442.70926867 2057.20779463  346.29244302 2319.94419787 1408.58954749\n",
      " 2423.4756442   420.68976999 2532.89281831 2965.17658993  827.22035519\n",
      " 2104.48686361  330.04029904 2249.40281004 2045.58290615  966.34001641\n",
      " 3089.08127144 2043.21705864 1866.64435176 1883.43323495 1265.88404038\n",
      " 2607.32248928 2730.91843008 2663.97343694 2194.02757395 2767.29434365\n",
      "  397.19687631 2668.57298693 1268.68218758 2314.63733686 2308.85345481\n",
      " 2967.97473713 2221.17817593 2643.69840285 1684.76478388 1942.4837595\n",
      " 3144.25801062 2121.2757468  2244.6836569  2107.00604364 2711.09709773\n",
      " 1582.72009869 1254.69145159  735.77164278 2126.59307403 2623.80263176\n",
      " 1196.78632497 2003.1658566  2252.20095724  963.38746014 1010.74542289\n",
      " 2409.77434159 2277.14111989 3189.81457058 2124.91523021 1458.4489746\n",
      " 2232.84822881 1171.97386498  719.9486539  1569.45304089 1075.31334807\n",
      "  305.82286857 2135.55591617 2443.06267459  908.72002985 2828.85358201\n",
      " 1218.31553801 2098.74770292 2313.51703347 2859.39889924 2104.34399731\n",
      " 1855.74119636  387.11200362  855.41236679  832.17122467 2947.01860364\n",
      " 2104.77629699  690.4645484  2591.01107017  307.65616597  419.04427018\n",
      "  876.644897    663.01981563 1045.68637627  762.06372817 1815.99873503\n",
      " 3142.24606821 1139.46019401 2401.3799     1908.02885186  853.2938251\n",
      " 2504.47904665 2400.50275874]\n"
     ]
    }
   ],
   "source": [
    "#Modelo SVM con kernel lineal\n",
    "\n",
    "svr_lin = SVR(kernel='linear', C=1e4, epsilon=1e1, gamma=0.01).fit(X_train_scaled, y_train)\n",
    "y_lin = svr_lin.predict(X_train_scaled)\n",
    "print(y_lin)"
   ]
  },
  {
   "cell_type": "code",
   "execution_count": 13,
   "metadata": {},
   "outputs": [
    {
     "name": "stdout",
     "output_type": "stream",
     "text": [
      "Coeficientes: \n",
      " [[  439.87306816  2267.7076112    904.00337998 -1494.35760507\n",
      "   1124.02448836   621.29006298  -555.84730059 -1823.33064068\n",
      "   1760.9283604 ]]\n"
     ]
    }
   ],
   "source": [
    "print('Coeficientes: \\n',svr_lin.coef_)"
   ]
  },
  {
   "cell_type": "code",
   "execution_count": 14,
   "metadata": {},
   "outputs": [
    {
     "data": {
      "text/plain": [
       "0.15698625712541936"
      ]
     },
     "execution_count": 14,
     "metadata": {},
     "output_type": "execute_result"
    }
   ],
   "source": [
    "#R^2 predicción GLM con kernel lineal\n",
    "\n",
    "r2_score(y_train,y_lin)"
   ]
  },
  {
   "cell_type": "code",
   "execution_count": 15,
   "metadata": {
    "scrolled": true
   },
   "outputs": [
    {
     "name": "stdout",
     "output_type": "stream",
     "text": [
      "[1103.08428043 1603.33954797 1835.58576542 1393.96020937 2064.72509496\n",
      " 1386.84979482 2920.71497547 2689.15676173 1307.55956551 1153.45093\n",
      " 1715.2654359  1723.35113678 2777.70072766  392.71984079 2683.34992771\n",
      " 2585.62531539 1649.87563145 2537.84627341  959.08667942 2161.29114379\n",
      " 2288.57687081 1117.43996511 1707.43939486 2171.3634292  1320.27566649\n",
      "  406.71057678 1309.64270713 2047.93621177 1012.10860989  592.52939646\n",
      "  597.98282456 2090.785561   1646.43205933 1389.0025171   423.49945997\n",
      " 1485.81736565  622.16791104 1974.63248179 2926.99927357 1006.88318029\n",
      " 2545.76325092  767.66002257  440.13393409 1185.59373618 1240.40403276\n",
      " 2173.85283569  144.24436959 1431.62014999 2109.80419084 2568.9792985\n",
      "  522.43285021 2506.58919014 1202.75348416 1082.06228984  609.85501886\n",
      " 2359.40769203 2895.22290998  651.82722683  919.76975235 2915.59614516\n",
      "  722.40488181 2145.87136371  424.86856307  992.5215795  2842.61001605\n",
      " 1127.51225052 1636.91731435  363.61806542 1548.49690739  628.90531004\n",
      " 2329.99717595 1998.44670346 2433.83736299 1853.49495199 2248.03370693\n",
      "  647.19682675 2627.15268179  488.99795013 1010.95596251 2143.38195722\n",
      " 1534.5061714  2654.58225094 2165.21523197 1280.87360721  473.86610954\n",
      " 2503.79104295  947.00283025  384.3253992  1729.25617189  755.35867316\n",
      " 1074.59834249  427.97545098  622.15636826 2275.46327608  911.51817705\n",
      " 1662.3796063  3222.60613217  568.9915715  2149.11435248 2038.81809199\n",
      " 1051.07213104 3239.39501535 1813.3366887  3088.29506665 1098.85117303\n",
      " 1697.65467344 2386.95686433  953.34751873  746.65549086  242.73915097\n",
      "  528.1720109  1647.28802387 1503.21932977 2453.11565267 1156.24907719\n",
      "  237.1647023  1445.61088598 2199.03616047 1428.8220028  1783.54127204\n",
      " 2012.14800607 2168.25654129 3066.69609386  869.40310278  760.27536206\n",
      " 1138.02523381 2918.39429236 2693.13233669  728.63977833  894.37588795\n",
      " 2443.06267459 2649.77216133 1502.60624884 2556.647099   1294.51093728\n",
      "  715.50500688 2721.73778369 3054.71730028 1151.80543018 1648.67830369\n",
      " 2460.69289399 2358.28738864  521.42306913  774.40896434  427.43871177\n",
      " 2106.1454001  1061.61929491 2386.51202275   57.94041532  636.14710425\n",
      "  269.446955   2767.29434365 2313.20829276 2079.30353882 1919.22144066\n",
      " 2327.50776946 2487.83302976 2417.29164193 2333.93493386 2023.19772857\n",
      " 2364.43558587  866.74782188 1282.67292357  442.93208128 1567.53203495\n",
      " 3128.46587184  903.35173396 1569.76178159 2336.45411389  598.12569086\n",
      " 2398.29231941 2282.42867358 1751.64134947 2135.55591617 1381.25350043\n",
      " 1982.20972311 2554.84569622 1922.60729573 2427.93232789  553.35533569\n",
      " 2045.72577245 1232.95169892 2884.81652598 2017.74430046 2763.70999167\n",
      " 2232.37076472 2947.01860364 1402.44135026 2280.49116993 2478.60771816\n",
      " 2881.23217399 2222.00904593 2146.18010441 2029.77822548 2339.38836196\n",
      " 1958.1523393  1934.08931791 2448.51610268 3075.09053545 3125.45718502\n",
      " 1467.99606357  997.90733428  950.54937153 2428.9290723  1678.58078161\n",
      "  496.23974434 1138.39609861 1836.7060688   930.75180152 1388.49529464\n",
      " 3478.02373199  848.80629131  550.55718849 1216.16281573 2610.80864018\n",
      " 1727.57832808 1804.80614624  744.16608437 2546.45125462 1933.79988452\n",
      " 2442.70926867 2057.20779463  346.29244302 2319.94419787 1408.58954749\n",
      " 2423.4756442   420.68976999 2532.89281831 2965.17658993  827.22035519\n",
      " 2104.48686361  330.04029904 2249.40281004 2045.58290615  966.34001641\n",
      " 3089.08127144 2043.21705864 1866.64435176 1883.43323495 1265.88404038\n",
      " 2607.32248928 2730.91843008 2663.97343694 2194.02757395 2767.29434365\n",
      "  397.19687631 2668.57298693 1268.68218758 2314.63733686 2308.85345481\n",
      " 2967.97473713 2221.17817593 2643.69840285 1684.76478388 1942.4837595\n",
      " 3144.25801062 2121.2757468  2244.6836569  2107.00604364 2711.09709773\n",
      " 1582.72009869 1254.69145159  735.77164278 2126.59307403 2623.80263176\n",
      " 1196.78632497 2003.1658566  2252.20095724  963.38746014 1010.74542289\n",
      " 2409.77434159 2277.14111989 3189.81457058 2124.91523021 1458.4489746\n",
      " 2232.84822881 1171.97386498  719.9486539  1569.45304089 1075.31334807\n",
      "  305.82286857 2135.55591617 2443.06267459  908.72002985 2828.85358201\n",
      " 1218.31553801 2098.74770292 2313.51703347 2859.39889924 2104.34399731\n",
      " 1855.74119636  387.11200362  855.41236679  832.17122467 2947.01860364\n",
      " 2104.77629699  690.4645484  2591.01107017  307.65616597  419.04427018\n",
      "  876.644897    663.01981563 1045.68637627  762.06372817 1815.99873503\n",
      " 3142.24606821 1139.46019401 2401.3799     1908.02885186  853.2938251\n",
      " 2504.47904665 2400.50275874]\n"
     ]
    }
   ],
   "source": [
    "#Modelo SVM con kernel rbf\n",
    "\n",
    "svr_rbf = SVR(kernel='rbf', C=1e4, epsilon=1e1, gamma=0.01)\n",
    "y_rbf = svr_lin.fit(X_train_scaled, y_train).predict(X_train_scaled)\n",
    "print(y_rbf)"
   ]
  },
  {
   "cell_type": "code",
   "execution_count": 16,
   "metadata": {},
   "outputs": [
    {
     "data": {
      "text/plain": [
       "0.15698625712541936"
      ]
     },
     "execution_count": 16,
     "metadata": {},
     "output_type": "execute_result"
    }
   ],
   "source": [
    "#R^2 predicción GLM con kernel rbf\n",
    "\n",
    "r2_score(y_train,y_lin)"
   ]
  },
  {
   "cell_type": "code",
   "execution_count": 17,
   "metadata": {
    "scrolled": true
   },
   "outputs": [
    {
     "name": "stdout",
     "output_type": "stream",
     "text": [
      "GridSearchCV(cv=None, error_score='raise',\n",
      "       estimator=SVR(C=1.0, cache_size=200, coef0=0.0, degree=3, epsilon=0.1, gamma='auto',\n",
      "  kernel='rbf', max_iter=-1, shrinking=True, tol=0.001, verbose=False),\n",
      "       fit_params={}, iid=True, n_jobs=1,\n",
      "       param_grid={'kernel': ('linear', 'rbf'), 'C': [10000.0, 1000000.0, 1000.0]},\n",
      "       pre_dispatch='2*n_jobs', refit=True, scoring=None, verbose=0)\n"
     ]
    }
   ],
   "source": [
    "parameters = {'kernel':('linear', 'rbf'), 'C':[1e4,1e6, 1e3]} \n",
    "svr = svm.SVR () \n",
    "reg = grid_search.GridSearchCV(svr, parameters) \n",
    "print(reg.fit(X_train_scaled, y_train)) "
   ]
  },
  {
   "cell_type": "code",
   "execution_count": 18,
   "metadata": {},
   "outputs": [
    {
     "data": {
      "text/plain": [
       "{'C': 1000000.0, 'kernel': 'linear'}"
      ]
     },
     "execution_count": 18,
     "metadata": {},
     "output_type": "execute_result"
    }
   ],
   "source": [
    "reg.best_params_"
   ]
  },
  {
   "cell_type": "markdown",
   "metadata": {},
   "source": [
    "### Cross Validation"
   ]
  },
  {
   "cell_type": "code",
   "execution_count": 19,
   "metadata": {},
   "outputs": [
    {
     "name": "stdout",
     "output_type": "stream",
     "text": [
      "R^2: 0.0989\n",
      "RMSE: 1727.7491\n",
      "MAE: 921.0856\n"
     ]
    }
   ],
   "source": [
    "rkf=RepeatedKFold(n_splits=10,n_repeats=10) #la función RepeatkFolds permite crear una particion de datos y repetirla\n",
    "R_2=[]\n",
    "RMSE=[]\n",
    "MAE=[]\n",
    "for train_index, test_index in rkf.split(x):\n",
    "     \n",
    "    x2_train, x2_test = x.iloc[train_index], x.iloc[test_index]\n",
    "    y2_train, y2_test = y.iloc[train_index], y.iloc[test_index] # Values toma la transformación de box-cox\n",
    "    \n",
    "    #Escalando particiòn de datos\n",
    "    scaler2= preprocessing.StandardScaler().fit(x2_train)\n",
    "    X2_train_scaled=scaler.transform(x2_train)\n",
    "    X2_test_scaled=scaler.transform(x2_test)\n",
    " \n",
    "       \n",
    "    # Ajuste de los modelos\n",
    "    svr_lin = SVR(kernel='linear', C=1e4, epsilon=1e1, gamma=0.01).fit(X2_train_scaled, y2_train)\n",
    "    y_lin = svr_lin.predict(X2_test_scaled)\n",
    "    \n",
    "    R_2.append(r2_score(y2_test,y_lin))\n",
    "    RMSE.append(np.linalg.norm((y2_test-y_lin),2)/np.sqrt(len(y2_test)))\n",
    "    MAE.append(median_absolute_error(y2_test,y_lin))\n",
    " \n",
    "    \n",
    "print(\"R^2: %.4f\" % np.mean(R_2))\n",
    "print(\"RMSE: %.4f\" % np.mean(RMSE))\n",
    "print(\"MAE: %.4f\" % np.mean(MAE))"
   ]
  },
  {
   "cell_type": "markdown",
   "metadata": {},
   "source": [
    "### Hold Out Validation"
   ]
  },
  {
   "cell_type": "code",
   "execution_count": 20,
   "metadata": {},
   "outputs": [
    {
     "name": "stdout",
     "output_type": "stream",
     "text": [
      "R^2: 0.1058\n",
      "RMSE: 1758.7421\n",
      "MAE: 926.2623\n"
     ]
    }
   ],
   "source": [
    "R_2=[]\n",
    "RMSE=[]\n",
    "MAE=[]\n",
    "pred=[0]\n",
    "obs=[0]\n",
    "\n",
    "for i in range(100):\n",
    "    x3_train,x3_test,y3_train,y3_test=train_test_split(x,y,test_size=0.2) #Hacer partición de datos en entrenamiento y prueba\n",
    "\n",
    "    #Escalando particiòn de datos\n",
    "    scaler3= preprocessing.StandardScaler().fit(x3_train)\n",
    "    X3_train_scaled=scaler.transform(x3_train)\n",
    "    X3_test_scaled=scaler.transform(x3_test)\n",
    "    \n",
    "    # Ajuste de los modelos\n",
    "    svr_lin = SVR(kernel='linear', C=1e4, epsilon=1e1, gamma=0.01).fit(X3_train_scaled, y3_train)\n",
    "    y_lin = svr_lin.predict(X3_test_scaled)\n",
    "    \n",
    "    r_2=r2_score(y3_test, y_lin)\n",
    "    R_2.append(r_2)\n",
    "    RMSE.append(np.linalg.norm((y3_test-y_lin),2)/np.sqrt(len(y3_test)))\n",
    "    MAE.append(median_absolute_error(y3_test,y_lin))\n",
    "    \n",
    "    if r_2 >= max(R_2):\n",
    "        pred[0] = y_lin\n",
    "        obs[0] = y3_test\n",
    "    \n",
    "print(\"R^2: %.4f\" % np.mean(R_2))\n",
    "print(\"RMSE: %.4f\" % np.mean(RMSE))\n",
    "print(\"MAE: %.4f\" % np.mean(MAE))"
   ]
  },
  {
   "cell_type": "code",
   "execution_count": 21,
   "metadata": {
    "scrolled": false
   },
   "outputs": [
    {
     "data": {
      "text/html": [
       "<div>\n",
       "<style scoped>\n",
       "    .dataframe tbody tr th:only-of-type {\n",
       "        vertical-align: middle;\n",
       "    }\n",
       "\n",
       "    .dataframe tbody tr th {\n",
       "        vertical-align: top;\n",
       "    }\n",
       "\n",
       "    .dataframe thead th {\n",
       "        text-align: right;\n",
       "    }\n",
       "</style>\n",
       "<table border=\"1\" class=\"dataframe\">\n",
       "  <thead>\n",
       "    <tr style=\"text-align: right;\">\n",
       "      <th></th>\n",
       "      <th>0</th>\n",
       "    </tr>\n",
       "  </thead>\n",
       "  <tbody>\n",
       "    <tr>\n",
       "      <th>0</th>\n",
       "      <td>2092.472725</td>\n",
       "    </tr>\n",
       "    <tr>\n",
       "      <th>1</th>\n",
       "      <td>1757.730682</td>\n",
       "    </tr>\n",
       "    <tr>\n",
       "      <th>2</th>\n",
       "      <td>1784.312746</td>\n",
       "    </tr>\n",
       "    <tr>\n",
       "      <th>3</th>\n",
       "      <td>1453.993323</td>\n",
       "    </tr>\n",
       "    <tr>\n",
       "      <th>4</th>\n",
       "      <td>1521.288962</td>\n",
       "    </tr>\n",
       "    <tr>\n",
       "      <th>...</th>\n",
       "      <td>...</td>\n",
       "    </tr>\n",
       "    <tr>\n",
       "      <th>95</th>\n",
       "      <td>1846.904713</td>\n",
       "    </tr>\n",
       "    <tr>\n",
       "      <th>96</th>\n",
       "      <td>1961.331559</td>\n",
       "    </tr>\n",
       "    <tr>\n",
       "      <th>97</th>\n",
       "      <td>2080.066807</td>\n",
       "    </tr>\n",
       "    <tr>\n",
       "      <th>98</th>\n",
       "      <td>1969.144690</td>\n",
       "    </tr>\n",
       "    <tr>\n",
       "      <th>99</th>\n",
       "      <td>1566.583342</td>\n",
       "    </tr>\n",
       "  </tbody>\n",
       "</table>\n",
       "<p>100 rows × 1 columns</p>\n",
       "</div>"
      ],
      "text/plain": [
       "              0\n",
       "0   2092.472725\n",
       "1   1757.730682\n",
       "2   1784.312746\n",
       "3   1453.993323\n",
       "4   1521.288962\n",
       "..          ...\n",
       "95  1846.904713\n",
       "96  1961.331559\n",
       "97  2080.066807\n",
       "98  1969.144690\n",
       "99  1566.583342\n",
       "\n",
       "[100 rows x 1 columns]"
      ]
     },
     "execution_count": 21,
     "metadata": {},
     "output_type": "execute_result"
    }
   ],
   "source": [
    "pd.DataFrame(RMSE)"
   ]
  },
  {
   "cell_type": "code",
   "execution_count": 22,
   "metadata": {},
   "outputs": [],
   "source": [
    "df_RMSE = pd.DataFrame(RMSE)\n",
    "df_RMSE.to_csv('RMSE_SVM2.csv', header=False, index=False)"
   ]
  }
 ],
 "metadata": {
  "kernelspec": {
   "display_name": "Python 3",
   "language": "python",
   "name": "python3"
  },
  "language_info": {
   "codemirror_mode": {
    "name": "ipython",
    "version": 3
   },
   "file_extension": ".py",
   "mimetype": "text/x-python",
   "name": "python",
   "nbconvert_exporter": "python",
   "pygments_lexer": "ipython3",
   "version": "3.6.5"
  }
 },
 "nbformat": 4,
 "nbformat_minor": 2
}
