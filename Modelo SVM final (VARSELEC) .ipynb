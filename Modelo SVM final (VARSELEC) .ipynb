{
 "cells": [
  {
   "cell_type": "markdown",
   "metadata": {},
   "source": [
    "## MÁQUINAS DE SOPORTE VECTORIAL"
   ]
  },
  {
   "cell_type": "code",
   "execution_count": 1,
   "metadata": {},
   "outputs": [
    {
     "name": "stderr",
     "output_type": "stream",
     "text": [
      "C:\\Users\\andrea\\A\\lib\\site-packages\\sklearn\\cross_validation.py:41: DeprecationWarning: This module was deprecated in version 0.18 in favor of the model_selection module into which all the refactored classes and functions are moved. Also note that the interface of the new CV iterators are different from that of this module. This module will be removed in 0.20.\n",
      "  \"This module will be removed in 0.20.\", DeprecationWarning)\n",
      "C:\\Users\\andrea\\A\\lib\\site-packages\\sklearn\\grid_search.py:42: DeprecationWarning: This module was deprecated in version 0.18 in favor of the model_selection module into which all the refactored classes and functions are moved. This module will be removed in 0.20.\n",
      "  DeprecationWarning)\n"
     ]
    }
   ],
   "source": [
    "%matplotlib inline\n",
    "import pandas as pd\n",
    "import numpy as np\n",
    "import matplotlib.pyplot as plt\n",
    "from sklearn import svm\n",
    "from sklearn.svm import SVR # \"Support vector regression\"\n",
    "from sklearn.model_selection import GridSearchCV\n",
    "from sklearn import preprocessing\n",
    "\n",
    "from sklearn.preprocessing import MinMaxScaler\n",
    "from statsmodels.graphics.api import abline_plot\n",
    "from scipy import stats\n",
    "from statsmodels import graphics\n",
    "from sklearn import cross_validation \n",
    "from sklearn import grid_search\n",
    "\n",
    "from sklearn.model_selection import train_test_split, cross_val_predict, cross_validate, RepeatedKFold, ShuffleSplit, learning_curve\n",
    "from sklearn.metrics import r2_score, median_absolute_error,mean_squared_error\n",
    "\n",
    "from sklearn.model_selection import train_test_split\n",
    "from statsmodels.tools.eval_measures import rmse\n",
    "pd.set_option(\"display.max_rows\", 10)"
   ]
  },
  {
   "cell_type": "code",
   "execution_count": 2,
   "metadata": {},
   "outputs": [],
   "source": [
    "#Importando conjunto de datos\n",
    "\n",
    "cacao=pd.read_excel(\"TODAS LAS VARIABLES Y TOTAL.xlsx\")"
   ]
  },
  {
   "cell_type": "code",
   "execution_count": 3,
   "metadata": {},
   "outputs": [],
   "source": [
    "#Eliminar valores faltantes del conjunto de datos\n",
    "\n",
    "cacao=cacao.dropna()"
   ]
  },
  {
   "cell_type": "code",
   "execution_count": 4,
   "metadata": {},
   "outputs": [],
   "source": [
    "#Definir variables exógenas\n",
    "\n",
    "x=cacao[[   \"Diametro tronco (cm)\",\n",
    "            \"P\", \"Mg\",\n",
    "            \"%A\", \"%Hum/Grav\",\n",
    "            \"Radiacion\", \"Temperatura\", \"Humedad\", \"Lluvias acumuladas (mms)\" ]]"
   ]
  },
  {
   "cell_type": "code",
   "execution_count": 5,
   "metadata": {},
   "outputs": [],
   "source": [
    "#Definir variable endógena\n",
    "\n",
    "y=cacao[\"Rendimiento\"]"
   ]
  },
  {
   "cell_type": "markdown",
   "metadata": {},
   "source": [
    "### Histograma variable respuesta"
   ]
  },
  {
   "cell_type": "code",
   "execution_count": 6,
   "metadata": {
    "scrolled": false
   },
   "outputs": [
    {
     "data": {
      "image/png": "[encoded data removed]",
      "text/plain": [
       "<Figure size 432x288 with 1 Axes>"
      ]
     },
     "metadata": {},
     "output_type": "display_data"
    }
   ],
   "source": [
    "Respuesta=[\"Rendimiento\"]\n",
    "cacao.hist(Respuesta);"
   ]
  },
  {
   "cell_type": "code",
   "execution_count": 7,
   "metadata": {},
   "outputs": [],
   "source": [
    "#Dividir el conjunto de datos entre entrenamiento y prueba\n",
    "X_train, X_test, y_train, y_test = train_test_split(x, y, test_size=0.2) \n",
    "   \n",
    "# Normalización de los atributos\n",
    "scaler= preprocessing.StandardScaler().fit(X_train)\n",
    "X_train_scaled=scaler.transform(X_train)\n",
    "X_test_scaled=scaler.transform(X_test)"
   ]
  },
  {
   "cell_type": "markdown",
   "metadata": {},
   "source": [
    "#### Búsqueda de parámetros"
   ]
  },
  {
   "cell_type": "code",
   "execution_count": 8,
   "metadata": {},
   "outputs": [],
   "source": [
    "#Búsqueda de los mejores parámetros para el modelo SVM con kernel lineal\n",
    "\n",
    "svr = GridSearchCV(SVR(kernel='linear', gamma=1, epsilon=0.1), cv=5,\n",
    "                   param_grid = {'C':[1e1, 1e2, 1e3, 1e4],\n",
    "                             \"gamma\":np.logspace(-2,2,5),\n",
    "                             \"epsilon\": np.logspace(0,1,5)})\n",
    "svr.fit(X_train_scaled, y_train);"
   ]
  },
  {
   "cell_type": "code",
   "execution_count": 9,
   "metadata": {},
   "outputs": [
    {
     "name": "stdout",
     "output_type": "stream",
     "text": [
      "Los mejores parámetros para el modelo SVM con kernel lineal son:\n"
     ]
    },
    {
     "data": {
      "text/plain": [
       "{'C': 1000.0, 'epsilon': 3.1622776601683795, 'gamma': 0.01}"
      ]
     },
     "execution_count": 9,
     "metadata": {},
     "output_type": "execute_result"
    }
   ],
   "source": [
    "print(\"Los mejores parámetros para el modelo SVM con kernel lineal son:\")\n",
    "svr.best_params_"
   ]
  },
  {
   "cell_type": "code",
   "execution_count": 10,
   "metadata": {},
   "outputs": [],
   "source": [
    "#Búsqueda de los mejores parámetros para el modelo SVM con kernel rbf\n",
    "\n",
    "svr = GridSearchCV(SVR(kernel='rbf', gamma=1, epsilon=0.1), cv=5,\n",
    "                   param_grid = {'C':[1e1, 1e2, 1e3, 1e4],\n",
    "                             \"gamma\":np.logspace(-2,2,5),\n",
    "                             \"epsilon\": np.logspace(0,1,5)})\n",
    "svr.fit(X_train_scaled, y_train);"
   ]
  },
  {
   "cell_type": "code",
   "execution_count": 11,
   "metadata": {
    "scrolled": true
   },
   "outputs": [
    {
     "name": "stdout",
     "output_type": "stream",
     "text": [
      "Los mejores parámetros para el modelo SVM con kernel rbf son:\n"
     ]
    },
    {
     "data": {
      "text/plain": [
       "{'C': 10000.0, 'epsilon': 1.0, 'gamma': 0.01}"
      ]
     },
     "execution_count": 11,
     "metadata": {},
     "output_type": "execute_result"
    }
   ],
   "source": [
    "print(\"Los mejores parámetros para el modelo SVM con kernel rbf son:\")\n",
    "svr.best_params_"
   ]
  },
  {
   "cell_type": "markdown",
   "metadata": {},
   "source": [
    "#### Predicción modelo SVM"
   ]
  },
  {
   "cell_type": "code",
   "execution_count": 12,
   "metadata": {
    "scrolled": true
   },
   "outputs": [
    {
     "name": "stdout",
     "output_type": "stream",
     "text": [
      "[1194.16910919 2614.38396043 1557.9892103  1423.0369491  1960.32037153\n",
      "  463.90256944 1732.29364734 2020.99474355 1248.0307073  2829.66683759\n",
      " 2413.77285568  942.63447528  656.13329113 2256.10655699 2251.37225871\n",
      " 1821.62370424 1802.40389958 1222.67391516 2289.18093421 1946.21562571\n",
      " 1406.36315462 2505.45370355 1529.77971864 1830.61339123 2136.62969436\n",
      " 1346.4180229   857.01438101 2631.37094377  872.94019841 2344.5744453\n",
      " 1728.61753762 1357.73285785 1096.79506006 2626.13791529 1707.26439891\n",
      " 2170.61591344 1281.44368943  770.8829288   783.61014151  776.55776859\n",
      " 1676.70411629 2385.56336403 2451.38551121 1910.54028425  866.4175449\n",
      " 2331.74534496 1071.7841731  1612.40330782  718.31771372 1086.50288271\n",
      " 1408.38640187 2246.1575917  1583.84791098 2216.30641411 1798.94524679\n",
      " 2378.34768748 1209.11497074 2326.08448471 1263.16092535 2734.80574649\n",
      " 2037.48299668 1364.26717483 1249.05617952 1934.46167085  757.7631043\n",
      "  795.56011633 1968.76425711 1215.94908596 1324.30372832 2665.30748958\n",
      " 2300.7388691  2194.95327541  703.69491196 2391.9066319  2638.46917194\n",
      " 1474.73211274  506.41282689 1166.58247557 1690.80886212 2833.53896728\n",
      " 2032.23561333 1129.37243422 2001.30929026  810.9901809  1867.11818494\n",
      " 2639.4487889  1352.49098225  712.11315453 2315.62721192 2420.62920863\n",
      " 2207.69712244 2670.80294374  262.26426534 2479.3989829  1563.53860596\n",
      " 2319.54519687  351.2606228  2425.52681053 1208.56916933 1890.82211462\n",
      "  781.4553705  1021.05169305  653.88918166 1039.85802082  642.13522681\n",
      " 1321.95293735 1906.79587815 1572.09395612 2033.69680017 1391.08305135\n",
      " 1023.40248403 1048.27626339  560.95117742 1077.44843864 3122.68625672\n",
      " 1728.42151765 1378.55627715 2237.26751289 1251.61356471 1420.46790045\n",
      " 1354.80649221 2002.22113212 1002.22312756  797.70431308 3133.11489282\n",
      " 1979.67039825 2415.41454161 2285.27322448 1890.62609466  977.75253426\n",
      " 1210.48084039 1850.85866811 1168.3104085  2440.95687511 1326.10871788\n",
      " 2252.84392416 2540.51954815 2042.34788225  466.25336042 1345.24258937\n",
      " 2355.79695362 2967.53405263 1742.72228344 1966.95926755 1239.65301564\n",
      " 2710.76639025 2355.79695362 1292.90232997 2322.88588002  701.52847748\n",
      " 1283.96932428 1635.49774063 2358.67919112 1244.15857762 1792.45493428\n",
      "  969.33429169 1534.48130059  280.11341726 2288.98491425 1447.50203466\n",
      " 2373.80940917 2357.15785241 2309.62894792  425.31665606  790.61665916\n",
      "  538.15462267 1699.03666856 2458.24186416 2286.83014324 2091.71449264\n",
      "  793.01330539 1457.75301226  773.23371978 2412.21593692 1788.29915375\n",
      " 1852.18398686 1602.65423875 2207.15342349 1215.94908596 1169.15152423\n",
      " 1532.4764148  2445.97482424 1751.09997511 2317.64059913 2507.09538948\n",
      " 1844.71813706 2549.09325978 2408.3621687  1151.3023723   849.44395217\n",
      "  764.3763573  1140.10091685 1568.76375159 3122.68625672  715.43720335\n",
      "  536.34963311 1991.38256269 2373.10030413 2086.84960707 1616.69141286\n",
      " 2451.38551121 2605.51224309  887.57466364  745.57002953 2601.83613336\n",
      " 1017.71598077 1406.0356109  1683.95250917 3133.11489282 2674.71065346\n",
      " 2257.06373283 1634.6081365  2241.96909483 2566.37824883 2325.23667099\n",
      " 2692.49150901 1887.44585143 1636.93668975 1919.94344813 2687.78992707\n",
      " 1439.27422821 2723.05179164  769.70141564  698.23737012 2790.69328326\n",
      " 1064.32310638 1704.91360794  713.61613178 1368.94651905 1962.25768561\n",
      " 1674.35332532 1152.47772975 2083.10520097 2528.25250822 2441.27324229\n",
      " 1251.40697049  779.43827897 1612.90521635 2785.1978291  2462.43036103\n",
      " 2036.93719527  702.8996515   899.32861849 1599.32403421  597.47019836\n",
      " 2063.34169736 1456.90519854 1375.802872    394.75637344  472.87827689\n",
      " 2282.1285613   670.7721749  2074.54985081 1446.32660113 2272.56209379\n",
      " 1193.17748987 1682.58113176 2169.12729106 2462.11399385 2481.74977387\n",
      " 2596.93853146  435.69307779 1485.96250391 2755.96286523 2472.34660999\n",
      " 2074.18381036 2272.56209379  759.67477536 1266.8998237  2318.71574462\n",
      " 1056.31355762 1516.52278654 2995.74354428 1380.17691022  837.87435381\n",
      " 2514.66084747 1251.21095053 1120.74208968 2656.69819791 2892.30874155\n",
      " 3108.58151089 1441.29747546  557.50675185 2897.32669068 2681.56700641\n",
      " 1974.17494409 1664.12070918 1086.87384024 2607.33158752 1105.66850454\n",
      " 1356.99654423  540.64921923 2310.17474932 2272.56209379 2894.65953252\n",
      " 1541.87957869 1207.72135561 1938.7497759  2482.73966605 1337.01485902\n",
      "  517.97076178  962.46627527 1915.24186619 2163.03209399 1476.0574315\n",
      " 2180.88124592 1776.95867579 1155.56483434 1835.4782768  1286.69107278\n",
      " 2082.21559684 2407.51435498]\n"
     ]
    }
   ],
   "source": [
    "#Modelo SVM con kernel lineal\n",
    "\n",
    "svr_lin = SVR(kernel='linear', C=1e4, epsilon=1e1, gamma=0.01).fit(X_train_scaled, y_train)\n",
    "y_lin = svr_lin.predict(X_train_scaled)\n",
    "print(y_lin)"
   ]
  },
  {
   "cell_type": "code",
   "execution_count": 13,
   "metadata": {},
   "outputs": [
    {
     "name": "stdout",
     "output_type": "stream",
     "text": [
      "Coeficientes: \n",
      " [[  376.5249926   1874.23698432  1116.82851493 -1170.21730392\n",
      "    747.40783134   773.17860283  -312.18198785 -1969.23318464\n",
      "   1703.69519616]]\n"
     ]
    }
   ],
   "source": [
    "print('Coeficientes: \\n',svr_lin.coef_)"
   ]
  },
  {
   "cell_type": "code",
   "execution_count": 14,
   "metadata": {},
   "outputs": [
    {
     "data": {
      "text/plain": [
       "0.12977183518966284"
      ]
     },
     "execution_count": 14,
     "metadata": {},
     "output_type": "execute_result"
    }
   ],
   "source": [
    "#R^2 predicción GLM con kernel lineal\n",
    "\n",
    "r2_score(y_train,y_lin)"
   ]
  },
  {
   "cell_type": "code",
   "execution_count": 15,
   "metadata": {
    "scrolled": true
   },
   "outputs": [
    {
     "name": "stdout",
     "output_type": "stream",
     "text": [
      "[1194.16910919 2614.38396043 1557.9892103  1423.0369491  1960.32037153\n",
      "  463.90256944 1732.29364734 2020.99474355 1248.0307073  2829.66683759\n",
      " 2413.77285568  942.63447528  656.13329113 2256.10655699 2251.37225871\n",
      " 1821.62370424 1802.40389958 1222.67391516 2289.18093421 1946.21562571\n",
      " 1406.36315462 2505.45370355 1529.77971864 1830.61339123 2136.62969436\n",
      " 1346.4180229   857.01438101 2631.37094377  872.94019841 2344.5744453\n",
      " 1728.61753762 1357.73285785 1096.79506006 2626.13791529 1707.26439891\n",
      " 2170.61591344 1281.44368943  770.8829288   783.61014151  776.55776859\n",
      " 1676.70411629 2385.56336403 2451.38551121 1910.54028425  866.4175449\n",
      " 2331.74534496 1071.7841731  1612.40330782  718.31771372 1086.50288271\n",
      " 1408.38640187 2246.1575917  1583.84791098 2216.30641411 1798.94524679\n",
      " 2378.34768748 1209.11497074 2326.08448471 1263.16092535 2734.80574649\n",
      " 2037.48299668 1364.26717483 1249.05617952 1934.46167085  757.7631043\n",
      "  795.56011633 1968.76425711 1215.94908596 1324.30372832 2665.30748958\n",
      " 2300.7388691  2194.95327541  703.69491196 2391.9066319  2638.46917194\n",
      " 1474.73211274  506.41282689 1166.58247557 1690.80886212 2833.53896728\n",
      " 2032.23561333 1129.37243422 2001.30929026  810.9901809  1867.11818494\n",
      " 2639.4487889  1352.49098225  712.11315453 2315.62721192 2420.62920863\n",
      " 2207.69712244 2670.80294374  262.26426534 2479.3989829  1563.53860596\n",
      " 2319.54519687  351.2606228  2425.52681053 1208.56916933 1890.82211462\n",
      "  781.4553705  1021.05169305  653.88918166 1039.85802082  642.13522681\n",
      " 1321.95293735 1906.79587815 1572.09395612 2033.69680017 1391.08305135\n",
      " 1023.40248403 1048.27626339  560.95117742 1077.44843864 3122.68625672\n",
      " 1728.42151765 1378.55627715 2237.26751289 1251.61356471 1420.46790045\n",
      " 1354.80649221 2002.22113212 1002.22312756  797.70431308 3133.11489282\n",
      " 1979.67039825 2415.41454161 2285.27322448 1890.62609466  977.75253426\n",
      " 1210.48084039 1850.85866811 1168.3104085  2440.95687511 1326.10871788\n",
      " 2252.84392416 2540.51954815 2042.34788225  466.25336042 1345.24258937\n",
      " 2355.79695362 2967.53405263 1742.72228344 1966.95926755 1239.65301564\n",
      " 2710.76639025 2355.79695362 1292.90232997 2322.88588002  701.52847748\n",
      " 1283.96932428 1635.49774063 2358.67919112 1244.15857762 1792.45493428\n",
      "  969.33429169 1534.48130059  280.11341726 2288.98491425 1447.50203466\n",
      " 2373.80940917 2357.15785241 2309.62894792  425.31665606  790.61665916\n",
      "  538.15462267 1699.03666856 2458.24186416 2286.83014324 2091.71449264\n",
      "  793.01330539 1457.75301226  773.23371978 2412.21593692 1788.29915375\n",
      " 1852.18398686 1602.65423875 2207.15342349 1215.94908596 1169.15152423\n",
      " 1532.4764148  2445.97482424 1751.09997511 2317.64059913 2507.09538948\n",
      " 1844.71813706 2549.09325978 2408.3621687  1151.3023723   849.44395217\n",
      "  764.3763573  1140.10091685 1568.76375159 3122.68625672  715.43720335\n",
      "  536.34963311 1991.38256269 2373.10030413 2086.84960707 1616.69141286\n",
      " 2451.38551121 2605.51224309  887.57466364  745.57002953 2601.83613336\n",
      " 1017.71598077 1406.0356109  1683.95250917 3133.11489282 2674.71065346\n",
      " 2257.06373283 1634.6081365  2241.96909483 2566.37824883 2325.23667099\n",
      " 2692.49150901 1887.44585143 1636.93668975 1919.94344813 2687.78992707\n",
      " 1439.27422821 2723.05179164  769.70141564  698.23737012 2790.69328326\n",
      " 1064.32310638 1704.91360794  713.61613178 1368.94651905 1962.25768561\n",
      " 1674.35332532 1152.47772975 2083.10520097 2528.25250822 2441.27324229\n",
      " 1251.40697049  779.43827897 1612.90521635 2785.1978291  2462.43036103\n",
      " 2036.93719527  702.8996515   899.32861849 1599.32403421  597.47019836\n",
      " 2063.34169736 1456.90519854 1375.802872    394.75637344  472.87827689\n",
      " 2282.1285613   670.7721749  2074.54985081 1446.32660113 2272.56209379\n",
      " 1193.17748987 1682.58113176 2169.12729106 2462.11399385 2481.74977387\n",
      " 2596.93853146  435.69307779 1485.96250391 2755.96286523 2472.34660999\n",
      " 2074.18381036 2272.56209379  759.67477536 1266.8998237  2318.71574462\n",
      " 1056.31355762 1516.52278654 2995.74354428 1380.17691022  837.87435381\n",
      " 2514.66084747 1251.21095053 1120.74208968 2656.69819791 2892.30874155\n",
      " 3108.58151089 1441.29747546  557.50675185 2897.32669068 2681.56700641\n",
      " 1974.17494409 1664.12070918 1086.87384024 2607.33158752 1105.66850454\n",
      " 1356.99654423  540.64921923 2310.17474932 2272.56209379 2894.65953252\n",
      " 1541.87957869 1207.72135561 1938.7497759  2482.73966605 1337.01485902\n",
      "  517.97076178  962.46627527 1915.24186619 2163.03209399 1476.0574315\n",
      " 2180.88124592 1776.95867579 1155.56483434 1835.4782768  1286.69107278\n",
      " 2082.21559684 2407.51435498]\n"
     ]
    }
   ],
   "source": [
    "#Modelo SVM con kernel rbf\n",
    "\n",
    "svr_rbf = SVR(kernel='rbf', C=1e4, epsilon=1e1, gamma=0.01)\n",
    "y_rbf = svr_lin.fit(X_train_scaled, y_train).predict(X_train_scaled)\n",
    "print(y_rbf)"
   ]
  },
  {
   "cell_type": "code",
   "execution_count": 16,
   "metadata": {},
   "outputs": [
    {
     "data": {
      "text/plain": [
       "0.12977183518966284"
      ]
     },
     "execution_count": 16,
     "metadata": {},
     "output_type": "execute_result"
    }
   ],
   "source": [
    "#R^2 predicción GLM con kernel rbf\n",
    "\n",
    "r2_score(y_train,y_lin)"
   ]
  },
  {
   "cell_type": "code",
   "execution_count": 17,
   "metadata": {
    "scrolled": true
   },
   "outputs": [
    {
     "name": "stdout",
     "output_type": "stream",
     "text": [
      "GridSearchCV(cv=None, error_score='raise',\n",
      "       estimator=SVR(C=1.0, cache_size=200, coef0=0.0, degree=3, epsilon=0.1, gamma='auto',\n",
      "  kernel='rbf', max_iter=-1, shrinking=True, tol=0.001, verbose=False),\n",
      "       fit_params={}, iid=True, n_jobs=1,\n",
      "       param_grid={'kernel': ('linear', 'rbf'), 'C': [10000.0, 1000000.0, 1000.0]},\n",
      "       pre_dispatch='2*n_jobs', refit=True, scoring=None, verbose=0)\n"
     ]
    }
   ],
   "source": [
    "parameters = {'kernel':('linear', 'rbf'), 'C':[1e4,1e6, 1e3]} \n",
    "svr = svm.SVR () \n",
    "reg = grid_search.GridSearchCV(svr, parameters) \n",
    "print(reg.fit(X_train_scaled, y_train)) "
   ]
  },
  {
   "cell_type": "code",
   "execution_count": 18,
   "metadata": {},
   "outputs": [
    {
     "data": {
      "text/plain": [
       "{'C': 1000000.0, 'kernel': 'linear'}"
      ]
     },
     "execution_count": 18,
     "metadata": {},
     "output_type": "execute_result"
    }
   ],
   "source": [
    "reg.best_params_"
   ]
  },
  {
   "cell_type": "markdown",
   "metadata": {},
   "source": [
    "### Cross Validation"
   ]
  },
  {
   "cell_type": "code",
   "execution_count": 19,
   "metadata": {},
   "outputs": [
    {
     "name": "stdout",
     "output_type": "stream",
     "text": [
      "R^2: 0.0887\n",
      "RMSE: 1739.0115\n",
      "MAE: 910.3543\n"
     ]
    }
   ],
   "source": [
    "rkf=RepeatedKFold(n_splits=10,n_repeats=10) #la función RepeatkFolds permite crear una particion de datos y repetirla\n",
    "R_2=[]\n",
    "RMSE=[]\n",
    "MAE=[]\n",
    "for train_index, test_index in rkf.split(x):\n",
    "     \n",
    "    x2_train, x2_test = x.iloc[train_index], x.iloc[test_index]\n",
    "    y2_train, y2_test = y.iloc[train_index], y.iloc[test_index] # Values toma la transformación de box-cox\n",
    "    \n",
    "    #Escalando particiòn de datos\n",
    "    scaler2= preprocessing.StandardScaler().fit(x2_train)\n",
    "    X2_train_scaled=scaler.transform(x2_train)\n",
    "    X2_test_scaled=scaler.transform(x2_test)\n",
    " \n",
    "       \n",
    "    # Ajuste de los modelos\n",
    "    svr_lin = SVR(kernel='linear', C=1e4, epsilon=1e1, gamma=0.01).fit(X2_train_scaled, y2_train)\n",
    "    y_lin = svr_lin.predict(X2_test_scaled)\n",
    "    \n",
    "    R_2.append(r2_score(y2_test,y_lin))\n",
    "    RMSE.append(np.linalg.norm((y2_test-y_lin),2)/np.sqrt(len(y2_test)))\n",
    "    MAE.append(median_absolute_error(y2_test,y_lin))\n",
    " \n",
    "    \n",
    "print(\"R^2: %.4f\" % np.mean(R_2))\n",
    "print(\"RMSE: %.4f\" % np.mean(RMSE))\n",
    "print(\"MAE: %.4f\" % np.mean(MAE))"
   ]
  },
  {
   "cell_type": "markdown",
   "metadata": {},
   "source": [
    "### Hold Out Validation"
   ]
  },
  {
   "cell_type": "code",
   "execution_count": 20,
   "metadata": {},
   "outputs": [
    {
     "name": "stdout",
     "output_type": "stream",
     "text": [
      "R^2: 0.1583\n",
      "RMSE: 1965.5935\n",
      "MAE: 874.1191\n"
     ]
    }
   ],
   "source": [
    "R_2=[]\n",
    "RMSE=[]\n",
    "MAE=[]\n",
    "pred=[0]\n",
    "obs=[0]\n",
    "\n",
    "for i in range(100):\n",
    "    x3_train,x3_test,y3_train,y3_test=train_test_split(x,y,test_size=0.2, random_state=12) #Hacer partición de datos en entrenamiento y prueba\n",
    "\n",
    "    #Escalando particiòn de datos\n",
    "    scaler3= preprocessing.StandardScaler().fit(x3_train)\n",
    "    X3_train_scaled=scaler.transform(x3_train)\n",
    "    X3_test_scaled=scaler.transform(x3_test)\n",
    "    \n",
    "    # Ajuste de los modelos\n",
    "    svr_lin = SVR(kernel='linear', C=1e4, epsilon=1e1, gamma=0.01).fit(X3_train_scaled, y3_train)\n",
    "    y_lin = svr_lin.predict(X3_test_scaled)\n",
    "    \n",
    "    r_2=r2_score(y3_test, y_lin)\n",
    "    R_2.append(r_2)\n",
    "    RMSE.append(np.linalg.norm((y3_test-y_lin),2)/np.sqrt(len(y3_test)))\n",
    "    MAE.append(median_absolute_error(y3_test,y_lin))\n",
    "    \n",
    "    if r_2 >= max(R_2):\n",
    "        pred[0] = y_lin\n",
    "        obs[0] = y3_test\n",
    "    \n",
    "print(\"R^2: %.4f\" % np.mean(R_2))\n",
    "print(\"RMSE: %.4f\" % np.mean(RMSE))\n",
    "print(\"MAE: %.4f\" % np.mean(MAE))"
   ]
  },
  {
   "cell_type": "code",
   "execution_count": 21,
   "metadata": {},
   "outputs": [
    {
     "data": {
      "text/plain": [
       "[1965.5934677739087,\n",
       " 1965.5934677739087,\n",
       " 1965.5934677739087,\n",
       " 1965.5934677739087,\n",
       " 1965.5934677739087,\n",
       " 1965.5934677739087,\n",
       " 1965.5934677739087,\n",
       " 1965.5934677739087,\n",
       " 1965.5934677739087,\n",
       " 1965.5934677739087,\n",
       " 1965.5934677739087,\n",
       " 1965.5934677739087,\n",
       " 1965.5934677739087,\n",
       " 1965.5934677739087,\n",
       " 1965.5934677739087,\n",
       " 1965.5934677739087,\n",
       " 1965.5934677739087,\n",
       " 1965.5934677739087,\n",
       " 1965.5934677739087,\n",
       " 1965.5934677739087,\n",
       " 1965.5934677739087,\n",
       " 1965.5934677739087,\n",
       " 1965.5934677739087,\n",
       " 1965.5934677739087,\n",
       " 1965.5934677739087,\n",
       " 1965.5934677739087,\n",
       " 1965.5934677739087,\n",
       " 1965.5934677739087,\n",
       " 1965.5934677739087,\n",
       " 1965.5934677739087,\n",
       " 1965.5934677739087,\n",
       " 1965.5934677739087,\n",
       " 1965.5934677739087,\n",
       " 1965.5934677739087,\n",
       " 1965.5934677739087,\n",
       " 1965.5934677739087,\n",
       " 1965.5934677739087,\n",
       " 1965.5934677739087,\n",
       " 1965.5934677739087,\n",
       " 1965.5934677739087,\n",
       " 1965.5934677739087,\n",
       " 1965.5934677739087,\n",
       " 1965.5934677739087,\n",
       " 1965.5934677739087,\n",
       " 1965.5934677739087,\n",
       " 1965.5934677739087,\n",
       " 1965.5934677739087,\n",
       " 1965.5934677739087,\n",
       " 1965.5934677739087,\n",
       " 1965.5934677739087,\n",
       " 1965.5934677739087,\n",
       " 1965.5934677739087,\n",
       " 1965.5934677739087,\n",
       " 1965.5934677739087,\n",
       " 1965.5934677739087,\n",
       " 1965.5934677739087,\n",
       " 1965.5934677739087,\n",
       " 1965.5934677739087,\n",
       " 1965.5934677739087,\n",
       " 1965.5934677739087,\n",
       " 1965.5934677739087,\n",
       " 1965.5934677739087,\n",
       " 1965.5934677739087,\n",
       " 1965.5934677739087,\n",
       " 1965.5934677739087,\n",
       " 1965.5934677739087,\n",
       " 1965.5934677739087,\n",
       " 1965.5934677739087,\n",
       " 1965.5934677739087,\n",
       " 1965.5934677739087,\n",
       " 1965.5934677739087,\n",
       " 1965.5934677739087,\n",
       " 1965.5934677739087,\n",
       " 1965.5934677739087,\n",
       " 1965.5934677739087,\n",
       " 1965.5934677739087,\n",
       " 1965.5934677739087,\n",
       " 1965.5934677739087,\n",
       " 1965.5934677739087,\n",
       " 1965.5934677739087,\n",
       " 1965.5934677739087,\n",
       " 1965.5934677739087,\n",
       " 1965.5934677739087,\n",
       " 1965.5934677739087,\n",
       " 1965.5934677739087,\n",
       " 1965.5934677739087,\n",
       " 1965.5934677739087,\n",
       " 1965.5934677739087,\n",
       " 1965.5934677739087,\n",
       " 1965.5934677739087,\n",
       " 1965.5934677739087,\n",
       " 1965.5934677739087,\n",
       " 1965.5934677739087,\n",
       " 1965.5934677739087,\n",
       " 1965.5934677739087,\n",
       " 1965.5934677739087,\n",
       " 1965.5934677739087,\n",
       " 1965.5934677739087,\n",
       " 1965.5934677739087,\n",
       " 1965.5934677739087]"
      ]
     },
     "execution_count": 21,
     "metadata": {},
     "output_type": "execute_result"
    }
   ],
   "source": [
    "RMSE"
   ]
  },
  {
   "cell_type": "code",
   "execution_count": 22,
   "metadata": {},
   "outputs": [],
   "source": [
    "datos = np.asarray(RMSE)\n",
    "np.savetxt(\"RMSE_SVM2.csv\",   # Archivo de salida\n",
    "           datos,        \n",
    "           delimiter=\",\")  # Para que sea un archivo CSV"
   ]
  }
 ],
 "metadata": {
  "kernelspec": {
   "display_name": "Python 3",
   "language": "python",
   "name": "python3"
  },
  "language_info": {
   "codemirror_mode": {
    "name": "ipython",
    "version": 3
   },
   "file_extension": ".py",
   "mimetype": "text/x-python",
   "name": "python",
   "nbconvert_exporter": "python",
   "pygments_lexer": "ipython3",
   "version": "3.6.5"
  }
 },
 "nbformat": 4,
 "nbformat_minor": 2
}
