{
 "cells": [
  {
   "cell_type": "markdown",
   "metadata": {},
   "source": [
    "## MODELO LINEAL GENERALIZADO"
   ]
  },
  {
   "cell_type": "code",
   "execution_count": 1,
   "metadata": {},
   "outputs": [],
   "source": [
    "%matplotlib inline\n",
    "import pandas as pd\n",
    "import numpy as np\n",
    "import matplotlib.pyplot as plt\n",
    "from sklearn.metrics import r2_score\n",
    "import statsmodels.api as sm\n",
    "from statsmodels.graphics.api import abline_plot\n",
    "from sklearn.model_selection import train_test_split, cross_val_predict, cross_validate, RepeatedKFold, ShuffleSplit, learning_curve\n",
    "from scipy import stats\n",
    "from sklearn.metrics import r2_score, median_absolute_error,mean_squared_error\n",
    "from statsmodels import graphics\n",
    "\n",
    "from sklearn.model_selection import train_test_split\n",
    "from statsmodels.tools.eval_measures import rmse\n",
    "pd.set_option(\"display.max_rows\", 10)"
   ]
  },
  {
   "cell_type": "code",
   "execution_count": 2,
   "metadata": {},
   "outputs": [],
   "source": [
    "#Importando conjunto de datos\n",
    "\n",
    "cacao=pd.read_excel(\"TODAS LAS VARIABLES Y TOTAL.xlsx\")"
   ]
  },
  {
   "cell_type": "code",
   "execution_count": 3,
   "metadata": {},
   "outputs": [],
   "source": [
    "#Eliminar valores faltantes del conjunto de datos\n",
    "\n",
    "cacao=cacao.dropna()"
   ]
  },
  {
   "cell_type": "code",
   "execution_count": 4,
   "metadata": {},
   "outputs": [],
   "source": [
    "#Definir variables exógenas\n",
    "\n",
    "x=cacao[[   \"Uso eficiente del agua\", \"Transpiracion\",\n",
    "            \"Diametro tronco (cm)\",\n",
    "            \"P\", \"MO\", \"Na\", \"Mg\",\n",
    "            \"%A\", \"%Hum/Grav\",\n",
    "            \"Radiacion\", \"Temperatura\", \"Humedad\", \"Lluvias acumuladas (mms)\" ]]"
   ]
  },
  {
   "cell_type": "code",
   "execution_count": 5,
   "metadata": {},
   "outputs": [],
   "source": [
    "#Definir variable endógena\n",
    "\n",
    "y=cacao[[\"Rendimiento\"]]"
   ]
  },
  {
   "cell_type": "markdown",
   "metadata": {},
   "source": [
    "### Histograma variable respuesta"
   ]
  },
  {
   "cell_type": "code",
   "execution_count": 6,
   "metadata": {
    "scrolled": true
   },
   "outputs": [
    {
     "data": {
      "image/png": "[encoded data removed]",
      "text/plain": [
       "<Figure size 432x288 with 1 Axes>"
      ]
     },
     "metadata": {},
     "output_type": "display_data"
    }
   ],
   "source": [
    "Respuesta=[\"Rendimiento\"]\n",
    "cacao.hist(Respuesta);"
   ]
  },
  {
   "cell_type": "markdown",
   "metadata": {},
   "source": [
    "### Resultados predicción modelo lineal generalizado"
   ]
  },
  {
   "cell_type": "code",
   "execution_count": 7,
   "metadata": {
    "scrolled": false
   },
   "outputs": [
    {
     "name": "stdout",
     "output_type": "stream",
     "text": [
      "                 Generalized Linear Model Regression Results                  \n",
      "==============================================================================\n",
      "Dep. Variable:            Rendimiento   No. Observations:                  390\n",
      "Model:                            GLM   Df Residuals:                      377\n",
      "Model Family:                   Gamma   Df Model:                           12\n",
      "Link Function:                    log   Scale:                         0.65833\n",
      "Method:                          IRLS   Log-Likelihood:                -3308.5\n",
      "Date:                Tue, 11 Dec 2018   Deviance:                       266.94\n",
      "Time:                        10:12:49   Pearson chi2:                     248.\n",
      "No. Iterations:                    15   Covariance Type:             nonrobust\n",
      "============================================================================================\n",
      "                               coef    std err          z      P>|z|      [0.025      0.975]\n",
      "--------------------------------------------------------------------------------------------\n",
      "Uso eficiente del agua       0.0190      0.049      0.384      0.701      -0.078       0.116\n",
      "Transpiracion                0.1403      0.072      1.954      0.051      -0.000       0.281\n",
      "Diametro tronco (cm)         0.0607      0.015      3.998      0.000       0.031       0.091\n",
      "P                            0.9526      0.151      6.295      0.000       0.656       1.249\n",
      "MO                          -0.5472      0.473     -1.157      0.247      -1.474       0.379\n",
      "Na                          -2.1315      7.464     -0.286      0.775     -16.761      12.498\n",
      "Mg                           2.9475      0.407      7.245      0.000       2.150       3.745\n",
      "%A                          -0.2185      0.046     -4.777      0.000      -0.308      -0.129\n",
      "%Hum/Grav                    0.4094      0.084      4.847      0.000       0.244       0.575\n",
      "Radiacion                 6.091e-07   1.09e-07      5.587      0.000    3.95e-07    8.23e-07\n",
      "Temperatura                 -0.2819      0.075     -3.774      0.000      -0.428      -0.135\n",
      "Humedad                    -35.3668      4.657     -7.595      0.000     -44.494     -26.240\n",
      "Lluvias acumuladas (mms)     0.0090      0.001      6.983      0.000       0.006       0.012\n",
      "============================================================================================\n"
     ]
    }
   ],
   "source": [
    "glm_gamma = sm.GLM(y, x, family=sm.families.Gamma(link=sm.genmod.families.links.log))\n",
    "glm_results = glm_gamma.fit()\n",
    "print(glm_results.summary())"
   ]
  },
  {
   "cell_type": "code",
   "execution_count": 8,
   "metadata": {},
   "outputs": [
    {
     "data": {
      "text/html": [
       "<table class=\"simpletable\">\n",
       "<caption>Generalized Linear Model Regression Results</caption>\n",
       "<tr>\n",
       "  <th>Dep. Variable:</th>     <td>Rendimiento</td>   <th>  No. Observations:  </th>  <td>   390</td>  \n",
       "</tr>\n",
       "<tr>\n",
       "  <th>Model:</th>                 <td>GLM</td>       <th>  Df Residuals:      </th>  <td>   377</td>  \n",
       "</tr>\n",
       "<tr>\n",
       "  <th>Model Family:</th>         <td>Gamma</td>      <th>  Df Model:          </th>  <td>    12</td>  \n",
       "</tr>\n",
       "<tr>\n",
       "  <th>Link Function:</th>         <td>log</td>       <th>  Scale:             </th> <td> 0.65833</td> \n",
       "</tr>\n",
       "<tr>\n",
       "  <th>Method:</th>               <td>IRLS</td>       <th>  Log-Likelihood:    </th> <td> -3308.5</td> \n",
       "</tr>\n",
       "<tr>\n",
       "  <th>Date:</th>           <td>Tue, 11 Dec 2018</td> <th>  Deviance:          </th> <td>  266.94</td> \n",
       "</tr>\n",
       "<tr>\n",
       "  <th>Time:</th>               <td>10:12:50</td>     <th>  Pearson chi2:      </th>  <td>  248.</td>  \n",
       "</tr>\n",
       "<tr>\n",
       "  <th>No. Iterations:</th>        <td>15</td>        <th>  Covariance Type:   </th> <td>nonrobust</td>\n",
       "</tr>\n",
       "</table>\n",
       "<table class=\"simpletable\">\n",
       "<tr>\n",
       "              <td></td>                <th>coef</th>     <th>std err</th>      <th>z</th>      <th>P>|z|</th>  <th>[0.025</th>    <th>0.975]</th>  \n",
       "</tr>\n",
       "<tr>\n",
       "  <th>Uso eficiente del agua</th>   <td>    0.0190</td> <td>    0.049</td> <td>    0.384</td> <td> 0.701</td> <td>   -0.078</td> <td>    0.116</td>\n",
       "</tr>\n",
       "<tr>\n",
       "  <th>Transpiracion</th>            <td>    0.1403</td> <td>    0.072</td> <td>    1.954</td> <td> 0.051</td> <td>   -0.000</td> <td>    0.281</td>\n",
       "</tr>\n",
       "<tr>\n",
       "  <th>Diametro tronco (cm)</th>     <td>    0.0607</td> <td>    0.015</td> <td>    3.998</td> <td> 0.000</td> <td>    0.031</td> <td>    0.091</td>\n",
       "</tr>\n",
       "<tr>\n",
       "  <th>P</th>                        <td>    0.9526</td> <td>    0.151</td> <td>    6.295</td> <td> 0.000</td> <td>    0.656</td> <td>    1.249</td>\n",
       "</tr>\n",
       "<tr>\n",
       "  <th>MO</th>                       <td>   -0.5472</td> <td>    0.473</td> <td>   -1.157</td> <td> 0.247</td> <td>   -1.474</td> <td>    0.379</td>\n",
       "</tr>\n",
       "<tr>\n",
       "  <th>Na</th>                       <td>   -2.1315</td> <td>    7.464</td> <td>   -0.286</td> <td> 0.775</td> <td>  -16.761</td> <td>   12.498</td>\n",
       "</tr>\n",
       "<tr>\n",
       "  <th>Mg</th>                       <td>    2.9475</td> <td>    0.407</td> <td>    7.245</td> <td> 0.000</td> <td>    2.150</td> <td>    3.745</td>\n",
       "</tr>\n",
       "<tr>\n",
       "  <th>%A</th>                       <td>   -0.2185</td> <td>    0.046</td> <td>   -4.777</td> <td> 0.000</td> <td>   -0.308</td> <td>   -0.129</td>\n",
       "</tr>\n",
       "<tr>\n",
       "  <th>%Hum/Grav</th>                <td>    0.4094</td> <td>    0.084</td> <td>    4.847</td> <td> 0.000</td> <td>    0.244</td> <td>    0.575</td>\n",
       "</tr>\n",
       "<tr>\n",
       "  <th>Radiacion</th>                <td> 6.091e-07</td> <td> 1.09e-07</td> <td>    5.587</td> <td> 0.000</td> <td> 3.95e-07</td> <td> 8.23e-07</td>\n",
       "</tr>\n",
       "<tr>\n",
       "  <th>Temperatura</th>              <td>   -0.2819</td> <td>    0.075</td> <td>   -3.774</td> <td> 0.000</td> <td>   -0.428</td> <td>   -0.135</td>\n",
       "</tr>\n",
       "<tr>\n",
       "  <th>Humedad</th>                  <td>  -35.3668</td> <td>    4.657</td> <td>   -7.595</td> <td> 0.000</td> <td>  -44.494</td> <td>  -26.240</td>\n",
       "</tr>\n",
       "<tr>\n",
       "  <th>Lluvias acumuladas (mms)</th> <td>    0.0090</td> <td>    0.001</td> <td>    6.983</td> <td> 0.000</td> <td>    0.006</td> <td>    0.012</td>\n",
       "</tr>\n",
       "</table>"
      ],
      "text/plain": [
       "<class 'statsmodels.iolib.summary.Summary'>\n",
       "\"\"\"\n",
       "                 Generalized Linear Model Regression Results                  \n",
       "==============================================================================\n",
       "Dep. Variable:            Rendimiento   No. Observations:                  390\n",
       "Model:                            GLM   Df Residuals:                      377\n",
       "Model Family:                   Gamma   Df Model:                           12\n",
       "Link Function:                    log   Scale:                         0.65833\n",
       "Method:                          IRLS   Log-Likelihood:                -3308.5\n",
       "Date:                Tue, 11 Dec 2018   Deviance:                       266.94\n",
       "Time:                        10:12:50   Pearson chi2:                     248.\n",
       "No. Iterations:                    15   Covariance Type:             nonrobust\n",
       "============================================================================================\n",
       "                               coef    std err          z      P>|z|      [0.025      0.975]\n",
       "--------------------------------------------------------------------------------------------\n",
       "Uso eficiente del agua       0.0190      0.049      0.384      0.701      -0.078       0.116\n",
       "Transpiracion                0.1403      0.072      1.954      0.051      -0.000       0.281\n",
       "Diametro tronco (cm)         0.0607      0.015      3.998      0.000       0.031       0.091\n",
       "P                            0.9526      0.151      6.295      0.000       0.656       1.249\n",
       "MO                          -0.5472      0.473     -1.157      0.247      -1.474       0.379\n",
       "Na                          -2.1315      7.464     -0.286      0.775     -16.761      12.498\n",
       "Mg                           2.9475      0.407      7.245      0.000       2.150       3.745\n",
       "%A                          -0.2185      0.046     -4.777      0.000      -0.308      -0.129\n",
       "%Hum/Grav                    0.4094      0.084      4.847      0.000       0.244       0.575\n",
       "Radiacion                 6.091e-07   1.09e-07      5.587      0.000    3.95e-07    8.23e-07\n",
       "Temperatura                 -0.2819      0.075     -3.774      0.000      -0.428      -0.135\n",
       "Humedad                    -35.3668      4.657     -7.595      0.000     -44.494     -26.240\n",
       "Lluvias acumuladas (mms)     0.0090      0.001      6.983      0.000       0.006       0.012\n",
       "============================================================================================\n",
       "\"\"\""
      ]
     },
     "execution_count": 8,
     "metadata": {},
     "output_type": "execute_result"
    }
   ],
   "source": [
    "glm_results.summary()"
   ]
  },
  {
   "cell_type": "code",
   "execution_count": 9,
   "metadata": {},
   "outputs": [
    {
     "data": {
      "text/plain": [
       "0.22842323295022904"
      ]
     },
     "execution_count": 9,
     "metadata": {},
     "output_type": "execute_result"
    }
   ],
   "source": [
    "#R^2 predicción GLM\n",
    "\n",
    "r2_score(y,glm_results.mu)"
   ]
  },
  {
   "cell_type": "code",
   "execution_count": 10,
   "metadata": {},
   "outputs": [],
   "source": [
    "# Las variables cuyo valor p sea menor a 0.05 serán significativas por lo que se almacenan en la lista varSelec\n",
    "\n",
    "varSelec=[]\n",
    "for i in range(len(glm_results.pvalues)):\n",
    "    if glm_results.pvalues[i] < 0.05:\n",
    "        varSelec.append(glm_results.pvalues.index[i])"
   ]
  },
  {
   "cell_type": "code",
   "execution_count": 11,
   "metadata": {
    "scrolled": true
   },
   "outputs": [
    {
     "name": "stdout",
     "output_type": "stream",
     "text": [
      "Las variables seleccionadas son:\n",
      "['Diametro tronco (cm)', 'P', 'Mg', '%A', '%Hum/Grav', 'Radiacion', 'Temperatura', 'Humedad', 'Lluvias acumuladas (mms)']\n"
     ]
    }
   ],
   "source": [
    "print(\"Las variables seleccionadas son:\")\n",
    "print(varSelec)"
   ]
  },
  {
   "cell_type": "markdown",
   "metadata": {},
   "source": [
    "### Cross validation"
   ]
  },
  {
   "cell_type": "code",
   "execution_count": 12,
   "metadata": {
    "scrolled": true
   },
   "outputs": [
    {
     "name": "stdout",
     "output_type": "stream",
     "text": [
      "R^2: 0.1162\n",
      "RMSE: 1691.5313\n",
      "MAE: 1022.9539\n"
     ]
    }
   ],
   "source": [
    "x=cacao[varSelec]\n",
    "y=cacao.Rendimiento\n",
    "\n",
    "rkf=RepeatedKFold(n_splits=10,n_repeats=10) #la función RepeatkFolds permite crear una particion de datos y repetirla\n",
    "R_2=[]\n",
    "RMSE=[]\n",
    "MAE=[]\n",
    "for train_index, test_index in rkf.split(x):\n",
    "    x2_train, x2_test = x.iloc[train_index], x.iloc[test_index]\n",
    "    y2_train, y2_test = y.iloc[train_index], y.iloc[test_index] # Values toma la transformación de box-cox\n",
    "    \n",
    "    # Ajuste de los modelos\n",
    "    glm_gamma=sm.GLM(y2_train,x2_train,family=sm.families.Gamma(link = sm.genmod.families.links.log))\n",
    "    res=glm_gamma.fit()\n",
    "    R_2.append(r2_score(y2_test,res.predict(x2_test)))\n",
    "    RMSE.append(np.linalg.norm((y2_test-res.predict(x2_test)),2)/np.sqrt(len(y2_test)))\n",
    "    MAE.append(median_absolute_error(y2_test,res.predict(x2_test)))\n",
    "\n",
    "print(\"R^2: %.4f\" % np.mean(R_2))\n",
    "print(\"RMSE: %.4f\" % np.mean(RMSE))\n",
    "print(\"MAE: %.4f\" % np.mean(MAE))"
   ]
  },
  {
   "cell_type": "markdown",
   "metadata": {},
   "source": [
    "### Hold out validation"
   ]
  },
  {
   "cell_type": "code",
   "execution_count": 13,
   "metadata": {},
   "outputs": [
    {
     "name": "stdout",
     "output_type": "stream",
     "text": [
      "R^2: 0.1319\n",
      "RMSE: 1708.2904\n",
      "MAE: 1028.7805\n"
     ]
    }
   ],
   "source": [
    "x=cacao[varSelec]\n",
    "y=cacao.Rendimiento\n",
    "\n",
    "R_2=[]\n",
    "RMSE=[]\n",
    "MAE=[]\n",
    "pred=[0]\n",
    "obs=[0]\n",
    "\n",
    "for i in range(100):\n",
    "    X1_train,X1_test,y1_train,y1_test=train_test_split(x,y,test_size=0.2) #Hacer partición de datos en entrenamiento y prueba\n",
    "\n",
    "    glm_gamma=sm.GLM(y1_train,X1_train,family=sm.families.Gamma(link = sm.genmod.families.links.log))\n",
    "    res=glm_gamma.fit()\n",
    "    \n",
    "    r_2=r2_score(y1_test,res.predict(X1_test))\n",
    "    R_2.append(r_2)\n",
    "    RMSE.append(np.linalg.norm((y1_test-res.predict(X1_test)),2)/np.sqrt(len(y1_test)))\n",
    "    MAE.append(median_absolute_error(y1_test,res.predict(X1_test)))\n",
    "    \n",
    "    if r_2 >= max(R_2):\n",
    "        pred[0] = res.predict(X1_test)\n",
    "        obs[0] = y1_test\n",
    "    \n",
    "print(\"R^2: %.4f\" % np.mean(R_2))\n",
    "print(\"RMSE: %.4f\" % np.mean(RMSE))\n",
    "print(\"MAE: %.4f\" % np.mean(MAE))"
   ]
  },
  {
   "cell_type": "code",
   "execution_count": 14,
   "metadata": {
    "scrolled": true
   },
   "outputs": [
    {
     "data": {
      "text/html": [
       "<div>\n",
       "<style scoped>\n",
       "    .dataframe tbody tr th:only-of-type {\n",
       "        vertical-align: middle;\n",
       "    }\n",
       "\n",
       "    .dataframe tbody tr th {\n",
       "        vertical-align: top;\n",
       "    }\n",
       "\n",
       "    .dataframe thead th {\n",
       "        text-align: right;\n",
       "    }\n",
       "</style>\n",
       "<table border=\"1\" class=\"dataframe\">\n",
       "  <thead>\n",
       "    <tr style=\"text-align: right;\">\n",
       "      <th></th>\n",
       "      <th>0</th>\n",
       "    </tr>\n",
       "  </thead>\n",
       "  <tbody>\n",
       "    <tr>\n",
       "      <th>0</th>\n",
       "      <td>1287.278338</td>\n",
       "    </tr>\n",
       "    <tr>\n",
       "      <th>1</th>\n",
       "      <td>1908.129050</td>\n",
       "    </tr>\n",
       "    <tr>\n",
       "      <th>2</th>\n",
       "      <td>1477.325789</td>\n",
       "    </tr>\n",
       "    <tr>\n",
       "      <th>3</th>\n",
       "      <td>1548.162579</td>\n",
       "    </tr>\n",
       "    <tr>\n",
       "      <th>4</th>\n",
       "      <td>1794.415126</td>\n",
       "    </tr>\n",
       "    <tr>\n",
       "      <th>...</th>\n",
       "      <td>...</td>\n",
       "    </tr>\n",
       "    <tr>\n",
       "      <th>95</th>\n",
       "      <td>1667.576301</td>\n",
       "    </tr>\n",
       "    <tr>\n",
       "      <th>96</th>\n",
       "      <td>1805.611886</td>\n",
       "    </tr>\n",
       "    <tr>\n",
       "      <th>97</th>\n",
       "      <td>1550.538594</td>\n",
       "    </tr>\n",
       "    <tr>\n",
       "      <th>98</th>\n",
       "      <td>1839.309788</td>\n",
       "    </tr>\n",
       "    <tr>\n",
       "      <th>99</th>\n",
       "      <td>1451.836182</td>\n",
       "    </tr>\n",
       "  </tbody>\n",
       "</table>\n",
       "<p>100 rows × 1 columns</p>\n",
       "</div>"
      ],
      "text/plain": [
       "              0\n",
       "0   1287.278338\n",
       "1   1908.129050\n",
       "2   1477.325789\n",
       "3   1548.162579\n",
       "4   1794.415126\n",
       "..          ...\n",
       "95  1667.576301\n",
       "96  1805.611886\n",
       "97  1550.538594\n",
       "98  1839.309788\n",
       "99  1451.836182\n",
       "\n",
       "[100 rows x 1 columns]"
      ]
     },
     "execution_count": 14,
     "metadata": {},
     "output_type": "execute_result"
    }
   ],
   "source": [
    "pd.DataFrame(RMSE)"
   ]
  },
  {
   "cell_type": "code",
   "execution_count": 15,
   "metadata": {},
   "outputs": [],
   "source": [
    "df_RMSE = pd.DataFrame(RMSE)\n",
    "df_RMSE.to_csv('RMSE_GLM2.csv', header=False, index=False)"
   ]
  },
  {
   "cell_type": "markdown",
   "metadata": {},
   "source": [
    "### Resultados GLM variables seleccionadas"
   ]
  },
  {
   "cell_type": "code",
   "execution_count": 16,
   "metadata": {
    "scrolled": false
   },
   "outputs": [
    {
     "data": {
      "text/html": [
       "<table class=\"simpletable\">\n",
       "<caption>Generalized Linear Model Regression Results</caption>\n",
       "<tr>\n",
       "  <th>Dep. Variable:</th>     <td>Rendimiento</td>   <th>  No. Observations:  </th>  <td>   312</td>  \n",
       "</tr>\n",
       "<tr>\n",
       "  <th>Model:</th>                 <td>GLM</td>       <th>  Df Residuals:      </th>  <td>   303</td>  \n",
       "</tr>\n",
       "<tr>\n",
       "  <th>Model Family:</th>         <td>Gamma</td>      <th>  Df Model:          </th>  <td>     8</td>  \n",
       "</tr>\n",
       "<tr>\n",
       "  <th>Link Function:</th>         <td>log</td>       <th>  Scale:             </th> <td> 0.69773</td> \n",
       "</tr>\n",
       "<tr>\n",
       "  <th>Method:</th>               <td>IRLS</td>       <th>  Log-Likelihood:    </th> <td> -2653.5</td> \n",
       "</tr>\n",
       "<tr>\n",
       "  <th>Date:</th>           <td>Tue, 11 Dec 2018</td> <th>  Deviance:          </th> <td>  227.93</td> \n",
       "</tr>\n",
       "<tr>\n",
       "  <th>Time:</th>               <td>10:12:58</td>     <th>  Pearson chi2:      </th>  <td>  211.</td>  \n",
       "</tr>\n",
       "<tr>\n",
       "  <th>No. Iterations:</th>        <td>15</td>        <th>  Covariance Type:   </th> <td>nonrobust</td>\n",
       "</tr>\n",
       "</table>\n",
       "<table class=\"simpletable\">\n",
       "<tr>\n",
       "              <td></td>                <th>coef</th>     <th>std err</th>      <th>z</th>      <th>P>|z|</th>  <th>[0.025</th>    <th>0.975]</th>  \n",
       "</tr>\n",
       "<tr>\n",
       "  <th>Diametro tronco (cm)</th>     <td>    0.0610</td> <td>    0.017</td> <td>    3.583</td> <td> 0.000</td> <td>    0.028</td> <td>    0.094</td>\n",
       "</tr>\n",
       "<tr>\n",
       "  <th>P</th>                        <td>    0.9988</td> <td>    0.174</td> <td>    5.757</td> <td> 0.000</td> <td>    0.659</td> <td>    1.339</td>\n",
       "</tr>\n",
       "<tr>\n",
       "  <th>Mg</th>                       <td>    2.6765</td> <td>    0.394</td> <td>    6.798</td> <td> 0.000</td> <td>    1.905</td> <td>    3.448</td>\n",
       "</tr>\n",
       "<tr>\n",
       "  <th>%A</th>                       <td>   -0.2225</td> <td>    0.047</td> <td>   -4.707</td> <td> 0.000</td> <td>   -0.315</td> <td>   -0.130</td>\n",
       "</tr>\n",
       "<tr>\n",
       "  <th>%Hum/Grav</th>                <td>    0.3952</td> <td>    0.086</td> <td>    4.586</td> <td> 0.000</td> <td>    0.226</td> <td>    0.564</td>\n",
       "</tr>\n",
       "<tr>\n",
       "  <th>Radiacion</th>                <td> 5.073e-07</td> <td> 8.64e-08</td> <td>    5.869</td> <td> 0.000</td> <td> 3.38e-07</td> <td> 6.77e-07</td>\n",
       "</tr>\n",
       "<tr>\n",
       "  <th>Temperatura</th>              <td>   -0.2980</td> <td>    0.059</td> <td>   -5.024</td> <td> 0.000</td> <td>   -0.414</td> <td>   -0.182</td>\n",
       "</tr>\n",
       "<tr>\n",
       "  <th>Humedad</th>                  <td>  -35.4404</td> <td>    4.997</td> <td>   -7.092</td> <td> 0.000</td> <td>  -45.235</td> <td>  -25.646</td>\n",
       "</tr>\n",
       "<tr>\n",
       "  <th>Lluvias acumuladas (mms)</th> <td>    0.0088</td> <td>    0.001</td> <td>    7.019</td> <td> 0.000</td> <td>    0.006</td> <td>    0.011</td>\n",
       "</tr>\n",
       "</table>"
      ],
      "text/plain": [
       "<class 'statsmodels.iolib.summary.Summary'>\n",
       "\"\"\"\n",
       "                 Generalized Linear Model Regression Results                  \n",
       "==============================================================================\n",
       "Dep. Variable:            Rendimiento   No. Observations:                  312\n",
       "Model:                            GLM   Df Residuals:                      303\n",
       "Model Family:                   Gamma   Df Model:                            8\n",
       "Link Function:                    log   Scale:                         0.69773\n",
       "Method:                          IRLS   Log-Likelihood:                -2653.5\n",
       "Date:                Tue, 11 Dec 2018   Deviance:                       227.93\n",
       "Time:                        10:12:58   Pearson chi2:                     211.\n",
       "No. Iterations:                    15   Covariance Type:             nonrobust\n",
       "============================================================================================\n",
       "                               coef    std err          z      P>|z|      [0.025      0.975]\n",
       "--------------------------------------------------------------------------------------------\n",
       "Diametro tronco (cm)         0.0610      0.017      3.583      0.000       0.028       0.094\n",
       "P                            0.9988      0.174      5.757      0.000       0.659       1.339\n",
       "Mg                           2.6765      0.394      6.798      0.000       1.905       3.448\n",
       "%A                          -0.2225      0.047     -4.707      0.000      -0.315      -0.130\n",
       "%Hum/Grav                    0.3952      0.086      4.586      0.000       0.226       0.564\n",
       "Radiacion                 5.073e-07   8.64e-08      5.869      0.000    3.38e-07    6.77e-07\n",
       "Temperatura                 -0.2980      0.059     -5.024      0.000      -0.414      -0.182\n",
       "Humedad                    -35.4404      4.997     -7.092      0.000     -45.235     -25.646\n",
       "Lluvias acumuladas (mms)     0.0088      0.001      7.019      0.000       0.006       0.011\n",
       "============================================================================================\n",
       "\"\"\""
      ]
     },
     "execution_count": 16,
     "metadata": {},
     "output_type": "execute_result"
    }
   ],
   "source": [
    "res.summary()"
   ]
  },
  {
   "cell_type": "code",
   "execution_count": 17,
   "metadata": {},
   "outputs": [
    {
     "data": {
      "text/plain": [
       "0.20537327445885845"
      ]
     },
     "execution_count": 17,
     "metadata": {},
     "output_type": "execute_result"
    }
   ],
   "source": [
    "#R^2 predicción GLM variables seleccionadas\n",
    "\n",
    "r2_score(y1_train,res.predict(X1_train))"
   ]
  },
  {
   "cell_type": "code",
   "execution_count": 18,
   "metadata": {},
   "outputs": [
    {
     "data": {
      "text/plain": [
       "<Figure size 432x288 with 0 Axes>"
      ]
     },
     "metadata": {},
     "output_type": "display_data"
    },
    {
     "data": {
      "image/png": "[encoded data removed]",
      "text/plain": [
       "<Figure size 432x288 with 1 Axes>"
      ]
     },
     "metadata": {},
     "output_type": "display_data"
    }
   ],
   "source": [
    "obs,pred = y1_train, np.array(res.predict(X1_train)).flatten() \n",
    "\n",
    "plt.figure(\"Diagrama de dispersión\")\n",
    "fig,ax=plt.subplots()\n",
    "ax.scatter(pred,obs,s=100,alpha=0.3,c=\"b\")\n",
    "line_fit=sm.OLS(obs,sm.add_constant(pred,prepend=True)).fit()\n",
    "abline_plot(model_results=line_fit,ax=ax,c=\"b\",label=round(r2_score(obs,pred),4))\n",
    "plt.xlabel(\"Valor pronosticado\")\n",
    "plt.ylabel(\"Valor observado\")\n",
    "plt.title(\"Gráfico de dispersión de los pronósticos\")\n",
    "\n",
    "plt.savefig(\"Dispersión pronósticos.jpg\",dpi=110,bbox_inches=\"tight\")\n",
    "\n",
    "plt.legend()\n",
    "plt.show()"
   ]
  },
  {
   "cell_type": "code",
   "execution_count": 19,
   "metadata": {},
   "outputs": [
    {
     "data": {
      "image/png": "[encoded data removed]",
      "text/plain": [
       "<Figure size 432x288 with 1 Axes>"
      ]
     },
     "metadata": {},
     "output_type": "display_data"
    }
   ],
   "source": [
    "plt.hist(obs-pred)\n",
    "plt.title(\"Histograma de errores\")\n",
    "plt.xlabel(\"Bin boundaries\")\n",
    "plt.ylabel(\"Counts\");"
   ]
  },
  {
   "cell_type": "markdown",
   "metadata": {},
   "source": [
    "### Evaluación residuales"
   ]
  },
  {
   "cell_type": "code",
   "execution_count": 20,
   "metadata": {
    "scrolled": true
   },
   "outputs": [
    {
     "data": {
      "image/png": "[encoded data removed]",
      "text/plain": [
       "<Figure size 432x288 with 1 Axes>"
      ]
     },
     "metadata": {},
     "output_type": "display_data"
    }
   ],
   "source": [
    "yhat=res.predict(X1_train)\n",
    "y=y1_train\n",
    "\n",
    "fig, ax = plt.subplots()\n",
    "ax.scatter(yhat, y, label=round(r2_score(y,yhat),4))\n",
    "line_fit = sm.OLS(y, sm.add_constant(yhat, prepend=True)).fit()\n",
    "abline_plot(model_results=line_fit, ax=ax)\n",
    "plt.legend()\n",
    "\n",
    "ax.set_title('Ajuste del modelo')\n",
    "ax.set_ylabel('Valores observados')\n",
    "ax.set_xlabel('Valores ajustados');"
   ]
  },
  {
   "cell_type": "code",
   "execution_count": 21,
   "metadata": {},
   "outputs": [
    {
     "data": {
      "image/png": "[encoded data removed]",
      "text/plain": [
       "<Figure size 432x288 with 1 Axes>"
      ]
     },
     "metadata": {},
     "output_type": "display_data"
    }
   ],
   "source": [
    "fig, ax = plt.subplots()\n",
    "\n",
    "ax.scatter(yhat, res.resid_deviance)\n",
    "ax.hlines(0, 0, 5000)\n",
    "#ax.set_xlim(0, 1)\n",
    "ax.set_title('Gráfico de residuales')\n",
    "ax.set_ylabel('Residuales de desviación (Deviance)')\n",
    "ax.set_xlabel('Valores ajustados');"
   ]
  },
  {
   "cell_type": "code",
   "execution_count": 22,
   "metadata": {
    "scrolled": false
   },
   "outputs": [
    {
     "data": {
      "image/png": "[encoded data removed]",
      "text/plain": [
       "<Figure size 432x288 with 1 Axes>"
      ]
     },
     "execution_count": 22,
     "metadata": {},
     "output_type": "execute_result"
    },
    {
     "data": {
      "image/png": "[encoded data removed]",
      "text/plain": [
       "<Figure size 432x288 with 1 Axes>"
      ]
     },
     "metadata": {},
     "output_type": "display_data"
    }
   ],
   "source": [
    "graphics.gofplots.qqplot(res.resid_deviance.copy(),line=\"r\")"
   ]
  },
  {
   "cell_type": "code",
   "execution_count": 23,
   "metadata": {},
   "outputs": [
    {
     "data": {
      "text/plain": [
       "5324.957991719906"
      ]
     },
     "execution_count": 23,
     "metadata": {},
     "output_type": "execute_result"
    }
   ],
   "source": [
    "res.aic"
   ]
  }
 ],
 "metadata": {
  "kernelspec": {
   "display_name": "Python 3",
   "language": "python",
   "name": "python3"
  },
  "language_info": {
   "codemirror_mode": {
    "name": "ipython",
    "version": 3
   },
   "file_extension": ".py",
   "mimetype": "text/x-python",
   "name": "python",
   "nbconvert_exporter": "python",
   "pygments_lexer": "ipython3",
   "version": "3.6.5"
  }
 },
 "nbformat": 4,
 "nbformat_minor": 2
}
