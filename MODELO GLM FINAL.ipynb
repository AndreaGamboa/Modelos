{
 "cells": [
  {
   "cell_type": "markdown",
   "metadata": {},
   "source": [
    "## MODELO LINEAL GENERALIZADO"
   ]
  },
  {
   "cell_type": "code",
   "execution_count": 1,
   "metadata": {},
   "outputs": [],
   "source": [
    "%matplotlib inline\n",
    "import pandas as pd\n",
    "import numpy as np\n",
    "import matplotlib.pyplot as plt\n",
    "from sklearn.metrics import r2_score\n",
    "import statsmodels.api as sm\n",
    "from statsmodels.graphics.api import abline_plot\n",
    "from sklearn.model_selection import train_test_split, cross_val_predict, cross_validate, RepeatedKFold, ShuffleSplit, learning_curve\n",
    "from scipy import stats\n",
    "from sklearn.metrics import r2_score, median_absolute_error,mean_squared_error\n",
    "from statsmodels import graphics\n",
    "\n",
    "from sklearn.model_selection import train_test_split\n",
    "from statsmodels.tools.eval_measures import rmse\n",
    "pd.set_option(\"display.max_rows\", 10)"
   ]
  },
  {
   "cell_type": "code",
   "execution_count": 2,
   "metadata": {},
   "outputs": [],
   "source": [
    "#Importando conjunto de datos\n",
    "\n",
    "cacao=pd.read_excel(\"TODAS LAS VARIABLES Y TOTAL.xlsx\")"
   ]
  },
  {
   "cell_type": "code",
   "execution_count": 3,
   "metadata": {},
   "outputs": [],
   "source": [
    "#Eliminar valores faltantes del conjunto de datos\n",
    "\n",
    "cacao=cacao.dropna()"
   ]
  },
  {
   "cell_type": "code",
   "execution_count": 4,
   "metadata": {},
   "outputs": [],
   "source": [
    "#Definir variables exógenas\n",
    "\n",
    "x=cacao[[   \"Uso eficiente del agua\", \"Transpiracion\",\n",
    "            \"Diametro tronco (cm)\",\n",
    "            \"P\", \"MO\", \"Na\", \"Mg\",\n",
    "            \"%A\", \"%Hum/Grav\",\n",
    "            \"Radiacion\", \"Temperatura\", \"Humedad\", \"Lluvias acumuladas (mms)\" ]]"
   ]
  },
  {
   "cell_type": "code",
   "execution_count": 5,
   "metadata": {},
   "outputs": [],
   "source": [
    "#Definir variable endógena\n",
    "\n",
    "y=cacao[[\"Rendimiento\"]]"
   ]
  },
  {
   "cell_type": "markdown",
   "metadata": {},
   "source": [
    "### Histograma variable respuesta"
   ]
  },
  {
   "cell_type": "code",
   "execution_count": 6,
   "metadata": {
    "scrolled": true
   },
   "outputs": [
    {
     "data": {
      "image/png": "[encoded data removed]",
      "text/plain": [
       "<Figure size 432x288 with 1 Axes>"
      ]
     },
     "metadata": {},
     "output_type": "display_data"
    }
   ],
   "source": [
    "Respuesta=[\"Rendimiento\"]\n",
    "cacao.hist(Respuesta);"
   ]
  },
  {
   "cell_type": "markdown",
   "metadata": {},
   "source": [
    "### Resultados predicción modelo lineal generalizado"
   ]
  },
  {
   "cell_type": "code",
   "execution_count": 7,
   "metadata": {
    "scrolled": false
   },
   "outputs": [
    {
     "name": "stdout",
     "output_type": "stream",
     "text": [
      "                 Generalized Linear Model Regression Results                  \n",
      "==============================================================================\n",
      "Dep. Variable:            Rendimiento   No. Observations:                  390\n",
      "Model:                            GLM   Df Residuals:                      377\n",
      "Model Family:                   Gamma   Df Model:                           12\n",
      "Link Function:                    log   Scale:                         0.65833\n",
      "Method:                          IRLS   Log-Likelihood:                -3308.5\n",
      "Date:                Mon, 10 Dec 2018   Deviance:                       266.94\n",
      "Time:                        23:00:04   Pearson chi2:                     248.\n",
      "No. Iterations:                    15   Covariance Type:             nonrobust\n",
      "============================================================================================\n",
      "                               coef    std err          z      P>|z|      [0.025      0.975]\n",
      "--------------------------------------------------------------------------------------------\n",
      "Uso eficiente del agua       0.0190      0.049      0.384      0.701      -0.078       0.116\n",
      "Transpiracion                0.1403      0.072      1.954      0.051      -0.000       0.281\n",
      "Diametro tronco (cm)         0.0607      0.015      3.998      0.000       0.031       0.091\n",
      "P                            0.9526      0.151      6.295      0.000       0.656       1.249\n",
      "MO                          -0.5472      0.473     -1.157      0.247      -1.474       0.379\n",
      "Na                          -2.1315      7.464     -0.286      0.775     -16.761      12.498\n",
      "Mg                           2.9475      0.407      7.245      0.000       2.150       3.745\n",
      "%A                          -0.2185      0.046     -4.777      0.000      -0.308      -0.129\n",
      "%Hum/Grav                    0.4094      0.084      4.847      0.000       0.244       0.575\n",
      "Radiacion                 6.091e-07   1.09e-07      5.587      0.000    3.95e-07    8.23e-07\n",
      "Temperatura                 -0.2819      0.075     -3.774      0.000      -0.428      -0.135\n",
      "Humedad                    -35.3668      4.657     -7.595      0.000     -44.494     -26.240\n",
      "Lluvias acumuladas (mms)     0.0090      0.001      6.983      0.000       0.006       0.012\n",
      "============================================================================================\n"
     ]
    }
   ],
   "source": [
    "glm_gamma = sm.GLM(y, x, family=sm.families.Gamma(link=sm.genmod.families.links.log))\n",
    "glm_results = glm_gamma.fit()\n",
    "print(glm_results.summary())"
   ]
  },
  {
   "cell_type": "code",
   "execution_count": 8,
   "metadata": {},
   "outputs": [
    {
     "data": {
      "text/html": [
       "<table class=\"simpletable\">\n",
       "<caption>Generalized Linear Model Regression Results</caption>\n",
       "<tr>\n",
       "  <th>Dep. Variable:</th>     <td>Rendimiento</td>   <th>  No. Observations:  </th>  <td>   390</td>  \n",
       "</tr>\n",
       "<tr>\n",
       "  <th>Model:</th>                 <td>GLM</td>       <th>  Df Residuals:      </th>  <td>   377</td>  \n",
       "</tr>\n",
       "<tr>\n",
       "  <th>Model Family:</th>         <td>Gamma</td>      <th>  Df Model:          </th>  <td>    12</td>  \n",
       "</tr>\n",
       "<tr>\n",
       "  <th>Link Function:</th>         <td>log</td>       <th>  Scale:             </th> <td> 0.65833</td> \n",
       "</tr>\n",
       "<tr>\n",
       "  <th>Method:</th>               <td>IRLS</td>       <th>  Log-Likelihood:    </th> <td> -3308.5</td> \n",
       "</tr>\n",
       "<tr>\n",
       "  <th>Date:</th>           <td>Mon, 10 Dec 2018</td> <th>  Deviance:          </th> <td>  266.94</td> \n",
       "</tr>\n",
       "<tr>\n",
       "  <th>Time:</th>               <td>23:00:04</td>     <th>  Pearson chi2:      </th>  <td>  248.</td>  \n",
       "</tr>\n",
       "<tr>\n",
       "  <th>No. Iterations:</th>        <td>15</td>        <th>  Covariance Type:   </th> <td>nonrobust</td>\n",
       "</tr>\n",
       "</table>\n",
       "<table class=\"simpletable\">\n",
       "<tr>\n",
       "              <td></td>                <th>coef</th>     <th>std err</th>      <th>z</th>      <th>P>|z|</th>  <th>[0.025</th>    <th>0.975]</th>  \n",
       "</tr>\n",
       "<tr>\n",
       "  <th>Uso eficiente del agua</th>   <td>    0.0190</td> <td>    0.049</td> <td>    0.384</td> <td> 0.701</td> <td>   -0.078</td> <td>    0.116</td>\n",
       "</tr>\n",
       "<tr>\n",
       "  <th>Transpiracion</th>            <td>    0.1403</td> <td>    0.072</td> <td>    1.954</td> <td> 0.051</td> <td>   -0.000</td> <td>    0.281</td>\n",
       "</tr>\n",
       "<tr>\n",
       "  <th>Diametro tronco (cm)</th>     <td>    0.0607</td> <td>    0.015</td> <td>    3.998</td> <td> 0.000</td> <td>    0.031</td> <td>    0.091</td>\n",
       "</tr>\n",
       "<tr>\n",
       "  <th>P</th>                        <td>    0.9526</td> <td>    0.151</td> <td>    6.295</td> <td> 0.000</td> <td>    0.656</td> <td>    1.249</td>\n",
       "</tr>\n",
       "<tr>\n",
       "  <th>MO</th>                       <td>   -0.5472</td> <td>    0.473</td> <td>   -1.157</td> <td> 0.247</td> <td>   -1.474</td> <td>    0.379</td>\n",
       "</tr>\n",
       "<tr>\n",
       "  <th>Na</th>                       <td>   -2.1315</td> <td>    7.464</td> <td>   -0.286</td> <td> 0.775</td> <td>  -16.761</td> <td>   12.498</td>\n",
       "</tr>\n",
       "<tr>\n",
       "  <th>Mg</th>                       <td>    2.9475</td> <td>    0.407</td> <td>    7.245</td> <td> 0.000</td> <td>    2.150</td> <td>    3.745</td>\n",
       "</tr>\n",
       "<tr>\n",
       "  <th>%A</th>                       <td>   -0.2185</td> <td>    0.046</td> <td>   -4.777</td> <td> 0.000</td> <td>   -0.308</td> <td>   -0.129</td>\n",
       "</tr>\n",
       "<tr>\n",
       "  <th>%Hum/Grav</th>                <td>    0.4094</td> <td>    0.084</td> <td>    4.847</td> <td> 0.000</td> <td>    0.244</td> <td>    0.575</td>\n",
       "</tr>\n",
       "<tr>\n",
       "  <th>Radiacion</th>                <td> 6.091e-07</td> <td> 1.09e-07</td> <td>    5.587</td> <td> 0.000</td> <td> 3.95e-07</td> <td> 8.23e-07</td>\n",
       "</tr>\n",
       "<tr>\n",
       "  <th>Temperatura</th>              <td>   -0.2819</td> <td>    0.075</td> <td>   -3.774</td> <td> 0.000</td> <td>   -0.428</td> <td>   -0.135</td>\n",
       "</tr>\n",
       "<tr>\n",
       "  <th>Humedad</th>                  <td>  -35.3668</td> <td>    4.657</td> <td>   -7.595</td> <td> 0.000</td> <td>  -44.494</td> <td>  -26.240</td>\n",
       "</tr>\n",
       "<tr>\n",
       "  <th>Lluvias acumuladas (mms)</th> <td>    0.0090</td> <td>    0.001</td> <td>    6.983</td> <td> 0.000</td> <td>    0.006</td> <td>    0.012</td>\n",
       "</tr>\n",
       "</table>"
      ],
      "text/plain": [
       "<class 'statsmodels.iolib.summary.Summary'>\n",
       "\"\"\"\n",
       "                 Generalized Linear Model Regression Results                  \n",
       "==============================================================================\n",
       "Dep. Variable:            Rendimiento   No. Observations:                  390\n",
       "Model:                            GLM   Df Residuals:                      377\n",
       "Model Family:                   Gamma   Df Model:                           12\n",
       "Link Function:                    log   Scale:                         0.65833\n",
       "Method:                          IRLS   Log-Likelihood:                -3308.5\n",
       "Date:                Mon, 10 Dec 2018   Deviance:                       266.94\n",
       "Time:                        23:00:04   Pearson chi2:                     248.\n",
       "No. Iterations:                    15   Covariance Type:             nonrobust\n",
       "============================================================================================\n",
       "                               coef    std err          z      P>|z|      [0.025      0.975]\n",
       "--------------------------------------------------------------------------------------------\n",
       "Uso eficiente del agua       0.0190      0.049      0.384      0.701      -0.078       0.116\n",
       "Transpiracion                0.1403      0.072      1.954      0.051      -0.000       0.281\n",
       "Diametro tronco (cm)         0.0607      0.015      3.998      0.000       0.031       0.091\n",
       "P                            0.9526      0.151      6.295      0.000       0.656       1.249\n",
       "MO                          -0.5472      0.473     -1.157      0.247      -1.474       0.379\n",
       "Na                          -2.1315      7.464     -0.286      0.775     -16.761      12.498\n",
       "Mg                           2.9475      0.407      7.245      0.000       2.150       3.745\n",
       "%A                          -0.2185      0.046     -4.777      0.000      -0.308      -0.129\n",
       "%Hum/Grav                    0.4094      0.084      4.847      0.000       0.244       0.575\n",
       "Radiacion                 6.091e-07   1.09e-07      5.587      0.000    3.95e-07    8.23e-07\n",
       "Temperatura                 -0.2819      0.075     -3.774      0.000      -0.428      -0.135\n",
       "Humedad                    -35.3668      4.657     -7.595      0.000     -44.494     -26.240\n",
       "Lluvias acumuladas (mms)     0.0090      0.001      6.983      0.000       0.006       0.012\n",
       "============================================================================================\n",
       "\"\"\""
      ]
     },
     "execution_count": 8,
     "metadata": {},
     "output_type": "execute_result"
    }
   ],
   "source": [
    "glm_results.summary()"
   ]
  },
  {
   "cell_type": "code",
   "execution_count": 9,
   "metadata": {},
   "outputs": [
    {
     "data": {
      "text/plain": [
       "0.22842323295104616"
      ]
     },
     "execution_count": 9,
     "metadata": {},
     "output_type": "execute_result"
    }
   ],
   "source": [
    "#R^2 predicción GLM\n",
    "\n",
    "r2_score(y,glm_results.mu)"
   ]
  },
  {
   "cell_type": "code",
   "execution_count": 10,
   "metadata": {},
   "outputs": [],
   "source": [
    "# Las variables cuyo valor p sea menor a 0.05 serán significativas por lo que se almacenan en la lista varSelec\n",
    "\n",
    "varSelec=[]\n",
    "for i in range(len(glm_results.pvalues)):\n",
    "    if glm_results.pvalues[i] < 0.05:\n",
    "        varSelec.append(glm_results.pvalues.index[i])"
   ]
  },
  {
   "cell_type": "code",
   "execution_count": 11,
   "metadata": {
    "scrolled": true
   },
   "outputs": [
    {
     "name": "stdout",
     "output_type": "stream",
     "text": [
      "Las variables seleccionadas son:\n",
      "['Diametro tronco (cm)', 'P', 'Mg', '%A', '%Hum/Grav', 'Radiacion', 'Temperatura', 'Humedad', 'Lluvias acumuladas (mms)']\n"
     ]
    }
   ],
   "source": [
    "print(\"Las variables seleccionadas son:\")\n",
    "print(varSelec)"
   ]
  },
  {
   "cell_type": "markdown",
   "metadata": {},
   "source": [
    "### Cross validation"
   ]
  },
  {
   "cell_type": "code",
   "execution_count": 12,
   "metadata": {
    "scrolled": true
   },
   "outputs": [
    {
     "name": "stdout",
     "output_type": "stream",
     "text": [
      "R^2: 0.1158\n",
      "RMSE: 1690.2019\n",
      "MAE: 1043.5362\n"
     ]
    }
   ],
   "source": [
    "x=cacao[varSelec]\n",
    "y=cacao.Rendimiento\n",
    "\n",
    "rkf=RepeatedKFold(n_splits=10,n_repeats=10) #la función RepeatkFolds permite crear una particion de datos y repetirla\n",
    "R_2=[]\n",
    "RMSE=[]\n",
    "MAE=[]\n",
    "for train_index, test_index in rkf.split(x):\n",
    "    x2_train, x2_test = x.iloc[train_index], x.iloc[test_index]\n",
    "    y2_train, y2_test = y.iloc[train_index], y.iloc[test_index] # Values toma la transformación de box-cox\n",
    "    \n",
    "    # Ajuste de los modelos\n",
    "    glm_gamma=sm.GLM(y2_train,x2_train,family=sm.families.Gamma(link = sm.genmod.families.links.log))\n",
    "    res=glm_gamma.fit()\n",
    "    R_2.append(r2_score(y2_test,res.predict(x2_test)))\n",
    "    RMSE.append(np.linalg.norm((y2_test-res.predict(x2_test)),2)/np.sqrt(len(y2_test)))\n",
    "    MAE.append(median_absolute_error(y2_test,res.predict(x2_test)))\n",
    "\n",
    "print(\"R^2: %.4f\" % np.mean(R_2))\n",
    "print(\"RMSE: %.4f\" % np.mean(RMSE))\n",
    "print(\"MAE: %.4f\" % np.mean(MAE))"
   ]
  },
  {
   "cell_type": "markdown",
   "metadata": {},
   "source": [
    "### Hold out validation"
   ]
  },
  {
   "cell_type": "code",
   "execution_count": 13,
   "metadata": {},
   "outputs": [
    {
     "name": "stdout",
     "output_type": "stream",
     "text": [
      "R^2: 0.1295\n",
      "RMSE: 1718.7083\n",
      "MAE: 1048.7157\n"
     ]
    }
   ],
   "source": [
    "x=cacao[varSelec]\n",
    "y=cacao.Rendimiento\n",
    "\n",
    "R_2=[]\n",
    "RMSE=[]\n",
    "MAE=[]\n",
    "pred=[0]\n",
    "obs=[0]\n",
    "\n",
    "for i in range(100):\n",
    "    X1_train,X1_test,y1_train,y1_test=train_test_split(x,y,test_size=0.2) #Hacer partición de datos en entrenamiento y prueba\n",
    "\n",
    "    glm_gamma=sm.GLM(y1_train,X1_train,family=sm.families.Gamma(link = sm.genmod.families.links.log))\n",
    "    res=glm_gamma.fit()\n",
    "    \n",
    "    r_2=r2_score(y1_test,res.predict(X1_test))\n",
    "    R_2.append(r_2)\n",
    "    RMSE.append(np.linalg.norm((y1_test-res.predict(X1_test)),2)/np.sqrt(len(y1_test)))\n",
    "    MAE.append(median_absolute_error(y1_test,res.predict(X1_test)))\n",
    "    \n",
    "    if r_2 >= max(R_2):\n",
    "        pred[0] = res.predict(X1_test)\n",
    "        obs[0] = y1_test\n",
    "    \n",
    "print(\"R^2: %.4f\" % np.mean(R_2))\n",
    "print(\"RMSE: %.4f\" % np.mean(RMSE))\n",
    "print(\"MAE: %.4f\" % np.mean(MAE))"
   ]
  },
  {
   "cell_type": "code",
   "execution_count": 14,
   "metadata": {
    "scrolled": true
   },
   "outputs": [
    {
     "data": {
      "text/plain": [
       "[1970.8706949134803,\n",
       " 1707.140906060253,\n",
       " 1788.3936254136252,\n",
       " 1834.5854617841562,\n",
       " 1719.5341737323236,\n",
       " 1607.1556292798487,\n",
       " 1656.577467013176,\n",
       " 1959.250557440703,\n",
       " 1682.5564576528054,\n",
       " 1805.4398419176187,\n",
       " 1748.48854294707,\n",
       " 1711.980907609723,\n",
       " 1697.73786623264,\n",
       " 1491.8802877327958,\n",
       " 1780.0556921563102,\n",
       " 1865.3057703419881,\n",
       " 1610.3587104339565,\n",
       " 1692.0476393798056,\n",
       " 1652.4870767919276,\n",
       " 2092.183759435906,\n",
       " 1950.5600485289526,\n",
       " 1693.5014583768352,\n",
       " 1837.837986143723,\n",
       " 1625.236138697713,\n",
       " 1889.736797272488,\n",
       " 1753.999573173072,\n",
       " 1683.0960156809736,\n",
       " 1652.585735074624,\n",
       " 1574.838963921917,\n",
       " 1586.3709709024074,\n",
       " 1775.833740003959,\n",
       " 1959.694797949165,\n",
       " 1472.582808393615,\n",
       " 2010.450652885264,\n",
       " 1729.6283176510067,\n",
       " 1862.1993359551182,\n",
       " 1557.0549525549523,\n",
       " 2010.209942949835,\n",
       " 1908.492023488041,\n",
       " 1782.0239632772627,\n",
       " 1560.0185976964492,\n",
       " 1677.9375188758877,\n",
       " 1569.26339816668,\n",
       " 1448.4694043594075,\n",
       " 1888.7013992289517,\n",
       " 1743.6077336418161,\n",
       " 1717.34195637138,\n",
       " 1777.591061953294,\n",
       " 1644.888379283562,\n",
       " 1651.3698173398748,\n",
       " 1593.8467805532484,\n",
       " 1816.7018671220628,\n",
       " 1408.245466669971,\n",
       " 1616.5146445050907,\n",
       " 1764.6458999509466,\n",
       " 1629.4190867611217,\n",
       " 1793.3750597989806,\n",
       " 1489.7103439209168,\n",
       " 1802.9900807620586,\n",
       " 1995.158294305592,\n",
       " 1694.9818467531452,\n",
       " 1521.195828525226,\n",
       " 1531.8291038403634,\n",
       " 1760.0337735271528,\n",
       " 1606.0586926356639,\n",
       " 1800.438822895923,\n",
       " 1664.2872743642542,\n",
       " 1969.313225534432,\n",
       " 1728.8464633379647,\n",
       " 1756.6705871606457,\n",
       " 1916.9320198446437,\n",
       " 2012.149599331754,\n",
       " 1713.2995152833407,\n",
       " 1761.111552099583,\n",
       " 1645.3862467684967,\n",
       " 1677.9592102750305,\n",
       " 1978.1856106586508,\n",
       " 1881.070820658531,\n",
       " 1694.3772475956791,\n",
       " 1570.009210182752,\n",
       " 1417.4098886038328,\n",
       " 1535.2083233378462,\n",
       " 1838.805774066172,\n",
       " 1662.3909770319808,\n",
       " 1632.659736958974,\n",
       " 1562.4257880923885,\n",
       " 1616.4012802842105,\n",
       " 1653.345138746654,\n",
       " 1732.1193979141892,\n",
       " 1994.227105076745,\n",
       " 1590.581239471646,\n",
       " 1565.7092584004886,\n",
       " 1688.7292977247887,\n",
       " 1431.8860996169863,\n",
       " 1806.5848650327355,\n",
       " 1395.9958560858165,\n",
       " 1533.2370268297454,\n",
       " 1963.4969588390168,\n",
       " 1816.329522531306,\n",
       " 1569.387577461052]"
      ]
     },
     "execution_count": 14,
     "metadata": {},
     "output_type": "execute_result"
    }
   ],
   "source": [
    "RMSE"
   ]
  },
  {
   "cell_type": "code",
   "execution_count": 15,
   "metadata": {},
   "outputs": [],
   "source": [
    "datos = np.asarray(RMSE)\n",
    "np.savetxt(\"RMSE_GLM2.csv\",   # Archivo de salida\n",
    "           datos,        \n",
    "           delimiter=\",\")  # Para que sea un archivo CSV"
   ]
  },
  {
   "cell_type": "markdown",
   "metadata": {},
   "source": [
    "### Resultados GLM variables seleccionadas"
   ]
  },
  {
   "cell_type": "code",
   "execution_count": 16,
   "metadata": {
    "scrolled": false
   },
   "outputs": [
    {
     "data": {
      "text/html": [
       "<table class=\"simpletable\">\n",
       "<caption>Generalized Linear Model Regression Results</caption>\n",
       "<tr>\n",
       "  <th>Dep. Variable:</th>     <td>Rendimiento</td>   <th>  No. Observations:  </th>  <td>   312</td>  \n",
       "</tr>\n",
       "<tr>\n",
       "  <th>Model:</th>                 <td>GLM</td>       <th>  Df Residuals:      </th>  <td>   303</td>  \n",
       "</tr>\n",
       "<tr>\n",
       "  <th>Model Family:</th>         <td>Gamma</td>      <th>  Df Model:          </th>  <td>     8</td>  \n",
       "</tr>\n",
       "<tr>\n",
       "  <th>Link Function:</th>         <td>log</td>       <th>  Scale:             </th> <td> 0.65821</td> \n",
       "</tr>\n",
       "<tr>\n",
       "  <th>Method:</th>               <td>IRLS</td>       <th>  Log-Likelihood:    </th> <td> -2646.2</td> \n",
       "</tr>\n",
       "<tr>\n",
       "  <th>Date:</th>           <td>Mon, 10 Dec 2018</td> <th>  Deviance:          </th> <td>  222.37</td> \n",
       "</tr>\n",
       "<tr>\n",
       "  <th>Time:</th>               <td>23:00:11</td>     <th>  Pearson chi2:      </th>  <td>  199.</td>  \n",
       "</tr>\n",
       "<tr>\n",
       "  <th>No. Iterations:</th>        <td>100</td>       <th>  Covariance Type:   </th> <td>nonrobust</td>\n",
       "</tr>\n",
       "</table>\n",
       "<table class=\"simpletable\">\n",
       "<tr>\n",
       "              <td></td>                <th>coef</th>     <th>std err</th>      <th>z</th>      <th>P>|z|</th>  <th>[0.025</th>    <th>0.975]</th>  \n",
       "</tr>\n",
       "<tr>\n",
       "  <th>Diametro tronco (cm)</th>     <td>    0.0687</td> <td>    0.016</td> <td>    4.222</td> <td> 0.000</td> <td>    0.037</td> <td>    0.101</td>\n",
       "</tr>\n",
       "<tr>\n",
       "  <th>P</th>                        <td>    1.0055</td> <td>    0.168</td> <td>    5.980</td> <td> 0.000</td> <td>    0.676</td> <td>    1.335</td>\n",
       "</tr>\n",
       "<tr>\n",
       "  <th>Mg</th>                       <td>    2.6582</td> <td>    0.383</td> <td>    6.937</td> <td> 0.000</td> <td>    1.907</td> <td>    3.409</td>\n",
       "</tr>\n",
       "<tr>\n",
       "  <th>%A</th>                       <td>   -0.2300</td> <td>    0.046</td> <td>   -5.001</td> <td> 0.000</td> <td>   -0.320</td> <td>   -0.140</td>\n",
       "</tr>\n",
       "<tr>\n",
       "  <th>%Hum/Grav</th>                <td>    0.4192</td> <td>    0.083</td> <td>    5.035</td> <td> 0.000</td> <td>    0.256</td> <td>    0.582</td>\n",
       "</tr>\n",
       "<tr>\n",
       "  <th>Radiacion</th>                <td> 5.206e-07</td> <td> 8.29e-08</td> <td>    6.280</td> <td> 0.000</td> <td> 3.58e-07</td> <td> 6.83e-07</td>\n",
       "</tr>\n",
       "<tr>\n",
       "  <th>Temperatura</th>              <td>   -0.3121</td> <td>    0.059</td> <td>   -5.326</td> <td> 0.000</td> <td>   -0.427</td> <td>   -0.197</td>\n",
       "</tr>\n",
       "<tr>\n",
       "  <th>Humedad</th>                  <td>  -34.4176</td> <td>    4.872</td> <td>   -7.065</td> <td> 0.000</td> <td>  -43.966</td> <td>  -24.869</td>\n",
       "</tr>\n",
       "<tr>\n",
       "  <th>Lluvias acumuladas (mms)</th> <td>    0.0087</td> <td>    0.001</td> <td>    6.981</td> <td> 0.000</td> <td>    0.006</td> <td>    0.011</td>\n",
       "</tr>\n",
       "</table>"
      ],
      "text/plain": [
       "<class 'statsmodels.iolib.summary.Summary'>\n",
       "\"\"\"\n",
       "                 Generalized Linear Model Regression Results                  \n",
       "==============================================================================\n",
       "Dep. Variable:            Rendimiento   No. Observations:                  312\n",
       "Model:                            GLM   Df Residuals:                      303\n",
       "Model Family:                   Gamma   Df Model:                            8\n",
       "Link Function:                    log   Scale:                         0.65821\n",
       "Method:                          IRLS   Log-Likelihood:                -2646.2\n",
       "Date:                Mon, 10 Dec 2018   Deviance:                       222.37\n",
       "Time:                        23:00:11   Pearson chi2:                     199.\n",
       "No. Iterations:                   100   Covariance Type:             nonrobust\n",
       "============================================================================================\n",
       "                               coef    std err          z      P>|z|      [0.025      0.975]\n",
       "--------------------------------------------------------------------------------------------\n",
       "Diametro tronco (cm)         0.0687      0.016      4.222      0.000       0.037       0.101\n",
       "P                            1.0055      0.168      5.980      0.000       0.676       1.335\n",
       "Mg                           2.6582      0.383      6.937      0.000       1.907       3.409\n",
       "%A                          -0.2300      0.046     -5.001      0.000      -0.320      -0.140\n",
       "%Hum/Grav                    0.4192      0.083      5.035      0.000       0.256       0.582\n",
       "Radiacion                 5.206e-07   8.29e-08      6.280      0.000    3.58e-07    6.83e-07\n",
       "Temperatura                 -0.3121      0.059     -5.326      0.000      -0.427      -0.197\n",
       "Humedad                    -34.4176      4.872     -7.065      0.000     -43.966     -24.869\n",
       "Lluvias acumuladas (mms)     0.0087      0.001      6.981      0.000       0.006       0.011\n",
       "============================================================================================\n",
       "\"\"\""
      ]
     },
     "execution_count": 16,
     "metadata": {},
     "output_type": "execute_result"
    }
   ],
   "source": [
    "res.summary()"
   ]
  },
  {
   "cell_type": "code",
   "execution_count": 17,
   "metadata": {},
   "outputs": [
    {
     "data": {
      "text/plain": [
       "0.1637770140725997"
      ]
     },
     "execution_count": 17,
     "metadata": {},
     "output_type": "execute_result"
    }
   ],
   "source": [
    "#R^2 predicción GLM variables seleccionadas\n",
    "\n",
    "r2_score(y1_train,res.predict(X1_train))"
   ]
  },
  {
   "cell_type": "code",
   "execution_count": 18,
   "metadata": {},
   "outputs": [
    {
     "data": {
      "text/plain": [
       "<Figure size 432x288 with 0 Axes>"
      ]
     },
     "metadata": {},
     "output_type": "display_data"
    },
    {
     "data": {
      "image/png": "[encoded data removed]",
      "text/plain": [
       "<Figure size 432x288 with 1 Axes>"
      ]
     },
     "metadata": {},
     "output_type": "display_data"
    }
   ],
   "source": [
    "obs,pred = y1_train, np.array(res.predict(X1_train)).flatten() \n",
    "\n",
    "plt.figure(\"Diagrama de dispersión\")\n",
    "fig,ax=plt.subplots()\n",
    "ax.scatter(pred,obs,s=100,alpha=0.3,c=\"b\")\n",
    "line_fit=sm.OLS(obs,sm.add_constant(pred,prepend=True)).fit()\n",
    "abline_plot(model_results=line_fit,ax=ax,c=\"b\",label=round(r2_score(obs,pred),4))\n",
    "plt.xlabel(\"Valor pronosticado\")\n",
    "plt.ylabel(\"Valor observado\")\n",
    "plt.title(\"Gráfico de dispersión de los pronósticos\")\n",
    "\n",
    "plt.savefig(\"Dispersión pronósticos.jpg\",dpi=110,bbox_inches=\"tight\")\n",
    "\n",
    "plt.legend()\n",
    "plt.show()"
   ]
  },
  {
   "cell_type": "code",
   "execution_count": 19,
   "metadata": {},
   "outputs": [
    {
     "data": {
      "image/png": "[encoded data removed]",
      "text/plain": [
       "<Figure size 432x288 with 1 Axes>"
      ]
     },
     "metadata": {},
     "output_type": "display_data"
    }
   ],
   "source": [
    "plt.hist(obs-pred)\n",
    "plt.title(\"Histograma de errores\")\n",
    "plt.xlabel(\"Bin boundaries\")\n",
    "plt.ylabel(\"Counts\");"
   ]
  },
  {
   "cell_type": "markdown",
   "metadata": {},
   "source": [
    "### Evaluación residuales"
   ]
  },
  {
   "cell_type": "code",
   "execution_count": 20,
   "metadata": {
    "scrolled": true
   },
   "outputs": [
    {
     "data": {
      "image/png": "[encoded data removed]",
      "text/plain": [
       "<Figure size 432x288 with 1 Axes>"
      ]
     },
     "metadata": {},
     "output_type": "display_data"
    }
   ],
   "source": [
    "yhat=res.predict(X1_train)\n",
    "y=y1_train\n",
    "\n",
    "fig, ax = plt.subplots()\n",
    "ax.scatter(yhat, y, label=round(r2_score(y,yhat),4))\n",
    "line_fit = sm.OLS(y, sm.add_constant(yhat, prepend=True)).fit()\n",
    "abline_plot(model_results=line_fit, ax=ax)\n",
    "plt.legend()\n",
    "\n",
    "ax.set_title('Ajuste del modelo')\n",
    "ax.set_ylabel('Valores observados')\n",
    "ax.set_xlabel('Valores ajustados');"
   ]
  },
  {
   "cell_type": "code",
   "execution_count": 21,
   "metadata": {},
   "outputs": [
    {
     "data": {
      "image/png": "[encoded data removed]",
      "text/plain": [
       "<Figure size 432x288 with 1 Axes>"
      ]
     },
     "metadata": {},
     "output_type": "display_data"
    }
   ],
   "source": [
    "fig, ax = plt.subplots()\n",
    "\n",
    "ax.scatter(yhat, res.resid_deviance)\n",
    "ax.hlines(0, 0, 5000)\n",
    "#ax.set_xlim(0, 1)\n",
    "ax.set_title('Gráfico de residuales')\n",
    "ax.set_ylabel('Residuales de desviación (Deviance)')\n",
    "ax.set_xlabel('Valores ajustados');"
   ]
  },
  {
   "cell_type": "code",
   "execution_count": 22,
   "metadata": {
    "scrolled": false
   },
   "outputs": [
    {
     "data": {
      "image/png": "[encoded data removed]",
      "text/plain": [
       "<Figure size 432x288 with 1 Axes>"
      ]
     },
     "execution_count": 22,
     "metadata": {},
     "output_type": "execute_result"
    },
    {
     "data": {
      "image/png": "[encoded data removed]",
      "text/plain": [
       "<Figure size 432x288 with 1 Axes>"
      ]
     },
     "metadata": {},
     "output_type": "display_data"
    }
   ],
   "source": [
    "graphics.gofplots.qqplot(res.resid_deviance.copy(),line=\"r\")"
   ]
  },
  {
   "cell_type": "code",
   "execution_count": 23,
   "metadata": {},
   "outputs": [
    {
     "data": {
      "text/plain": [
       "5310.366691741281"
      ]
     },
     "execution_count": 23,
     "metadata": {},
     "output_type": "execute_result"
    }
   ],
   "source": [
    "res.aic"
   ]
  },
  {
   "cell_type": "code",
   "execution_count": 24,
   "metadata": {},
   "outputs": [
    {
     "ename": "IndentationError",
     "evalue": "unexpected indent (<ipython-input-24-d7b46cd52e14>, line 3)",
     "output_type": "error",
     "traceback": [
      "\u001b[1;36m  File \u001b[1;32m\"<ipython-input-24-d7b46cd52e14>\"\u001b[1;36m, line \u001b[1;32m3\u001b[0m\n\u001b[1;33m    datos,\u001b[0m\n\u001b[1;37m    ^\u001b[0m\n\u001b[1;31mIndentationError\u001b[0m\u001b[1;31m:\u001b[0m unexpected indent\n"
     ]
    }
   ],
   "source": [
    "#datos = np.asarray(RMSE)\n",
    "#p.savetxt(\"RMSE_GLM.csv\",   # Archivo de salida\n",
    "           datos,        \n",
    "           delimiter=\",\")  # Para que sea un archivo CSV"
   ]
  }
 ],
 "metadata": {
  "kernelspec": {
   "display_name": "Python 3",
   "language": "python",
   "name": "python3"
  },
  "language_info": {
   "codemirror_mode": {
    "name": "ipython",
    "version": 3
   },
   "file_extension": ".py",
   "mimetype": "text/x-python",
   "name": "python",
   "nbconvert_exporter": "python",
   "pygments_lexer": "ipython3",
   "version": "3.6.5"
  }
 },
 "nbformat": 4,
 "nbformat_minor": 2
}
