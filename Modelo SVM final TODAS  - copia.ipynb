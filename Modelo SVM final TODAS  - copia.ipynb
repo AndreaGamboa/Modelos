{
 "cells": [
  {
   "cell_type": "markdown",
   "metadata": {},
   "source": [
    "## MÁQUINAS DE SOPORTE VECTORIAL"
   ]
  },
  {
   "cell_type": "code",
   "execution_count": 1,
   "metadata": {},
   "outputs": [
    {
     "name": "stderr",
     "output_type": "stream",
     "text": [
      "C:\\Users\\andrea\\A\\lib\\site-packages\\sklearn\\cross_validation.py:41: DeprecationWarning: This module was deprecated in version 0.18 in favor of the model_selection module into which all the refactored classes and functions are moved. Also note that the interface of the new CV iterators are different from that of this module. This module will be removed in 0.20.\n",
      "  \"This module will be removed in 0.20.\", DeprecationWarning)\n",
      "C:\\Users\\andrea\\A\\lib\\site-packages\\sklearn\\grid_search.py:42: DeprecationWarning: This module was deprecated in version 0.18 in favor of the model_selection module into which all the refactored classes and functions are moved. This module will be removed in 0.20.\n",
      "  DeprecationWarning)\n"
     ]
    }
   ],
   "source": [
    "%matplotlib inline\n",
    "import pandas as pd\n",
    "import numpy as np\n",
    "import matplotlib.pyplot as plt\n",
    "from sklearn import svm\n",
    "from sklearn.svm import SVR # \"Support vector regression\"\n",
    "from sklearn.model_selection import GridSearchCV\n",
    "from sklearn import preprocessing\n",
    "\n",
    "from sklearn.preprocessing import MinMaxScaler\n",
    "from statsmodels.graphics.api import abline_plot\n",
    "from scipy import stats\n",
    "from statsmodels import graphics\n",
    "from sklearn import cross_validation \n",
    "from sklearn import grid_search\n",
    "\n",
    "from sklearn.model_selection import train_test_split, cross_val_predict, cross_validate, RepeatedKFold, ShuffleSplit, learning_curve\n",
    "from sklearn.metrics import r2_score, median_absolute_error,mean_squared_error\n",
    "\n",
    "from sklearn.model_selection import train_test_split\n",
    "from statsmodels.tools.eval_measures import rmse\n",
    "pd.set_option(\"display.max_rows\", 10)"
   ]
  },
  {
   "cell_type": "code",
   "execution_count": 2,
   "metadata": {},
   "outputs": [],
   "source": [
    "#Importando conjunto de datos\n",
    "\n",
    "cacao=pd.read_excel(\"TODAS LAS VARIABLES Y TOTAL.xlsx\")"
   ]
  },
  {
   "cell_type": "code",
   "execution_count": 3,
   "metadata": {},
   "outputs": [],
   "source": [
    "#Eliminar valores faltantes del conjunto de datos\n",
    "\n",
    "cacao=cacao.dropna()"
   ]
  },
  {
   "cell_type": "code",
   "execution_count": 4,
   "metadata": {},
   "outputs": [],
   "source": [
    "#Definir variables exógenas\n",
    "\n",
    "x=cacao[[   \"Uso eficiente del agua\", \"Transpiracion\",\n",
    "            \"Diametro tronco (cm)\",\n",
    "            \"P\", \"MO\", \"Na\", \"Mg\",\n",
    "            \"%A\", \"%Hum/Grav\",\n",
    "            \"Radiacion\", \"Temperatura\", \"Humedad\", \"Lluvias acumuladas (mms)\" ]]"
   ]
  },
  {
   "cell_type": "code",
   "execution_count": 5,
   "metadata": {},
   "outputs": [],
   "source": [
    "#Definir variable endógena\n",
    "\n",
    "y=cacao[\"Rendimiento\"]"
   ]
  },
  {
   "cell_type": "markdown",
   "metadata": {},
   "source": [
    "### Histograma variable respuesta"
   ]
  },
  {
   "cell_type": "code",
   "execution_count": 6,
   "metadata": {
    "scrolled": false
   },
   "outputs": [
    {
     "data": {
      "image/png": "[encoded data removed]",
      "text/plain": [
       "<Figure size 432x288 with 1 Axes>"
      ]
     },
     "metadata": {},
     "output_type": "display_data"
    }
   ],
   "source": [
    "Respuesta=[\"Rendimiento\"]\n",
    "cacao.hist(Respuesta);"
   ]
  },
  {
   "cell_type": "code",
   "execution_count": 7,
   "metadata": {},
   "outputs": [],
   "source": [
    "#Dividir el conjunto de datos entre entrenamiento y prueba\n",
    "X_train, X_test, y_train, y_test = train_test_split(x, y, test_size=0.2) \n",
    "   \n",
    "# Normalización de los atributos\n",
    "scaler= preprocessing.StandardScaler().fit(X_train)\n",
    "X_train_scaled=scaler.transform(X_train)\n",
    "X_test_scaled=scaler.transform(X_test)"
   ]
  },
  {
   "cell_type": "markdown",
   "metadata": {},
   "source": [
    "#### Búsqueda de parámetros"
   ]
  },
  {
   "cell_type": "code",
   "execution_count": 8,
   "metadata": {},
   "outputs": [],
   "source": [
    "#Búsqueda de los mejores parámetros para el modelo SVM con kernel lineal\n",
    "\n",
    "svr = GridSearchCV(SVR(kernel='linear', gamma=1, epsilon=0.1), cv=5,\n",
    "                   param_grid = {'C':[1e1, 1e2, 1e3, 1e4],\n",
    "                             \"gamma\":np.logspace(-2,2,5),\n",
    "                             \"epsilon\": np.logspace(0,1,5)})\n",
    "svr.fit(X_train_scaled, y_train);"
   ]
  },
  {
   "cell_type": "code",
   "execution_count": 9,
   "metadata": {},
   "outputs": [
    {
     "name": "stdout",
     "output_type": "stream",
     "text": [
      "Los mejores parámetros para el modelo SVM con kernel lineal son:\n"
     ]
    },
    {
     "data": {
      "text/plain": [
       "{'C': 10000.0, 'epsilon': 5.623413251903491, 'gamma': 0.01}"
      ]
     },
     "execution_count": 9,
     "metadata": {},
     "output_type": "execute_result"
    }
   ],
   "source": [
    "print(\"Los mejores parámetros para el modelo SVM con kernel lineal son:\")\n",
    "svr.best_params_"
   ]
  },
  {
   "cell_type": "code",
   "execution_count": 10,
   "metadata": {},
   "outputs": [],
   "source": [
    "#Búsqueda de los mejores parámetros para el modelo SVM con kernel rbf\n",
    "\n",
    "svr = GridSearchCV(SVR(kernel='rbf', gamma=1, epsilon=0.1), cv=5,\n",
    "                   param_grid = {'C':[1e1, 1e2, 1e3, 1e4],\n",
    "                             \"gamma\":np.logspace(-2,2,5),\n",
    "                             \"epsilon\": np.logspace(0,1,5)})\n",
    "svr.fit(X_train_scaled, y_train);"
   ]
  },
  {
   "cell_type": "code",
   "execution_count": 11,
   "metadata": {
    "scrolled": true
   },
   "outputs": [
    {
     "name": "stdout",
     "output_type": "stream",
     "text": [
      "Los mejores parámetros para el modelo SVM con kernel rbf son:\n"
     ]
    },
    {
     "data": {
      "text/plain": [
       "{'C': 1000.0, 'epsilon': 1.0, 'gamma': 0.1}"
      ]
     },
     "execution_count": 11,
     "metadata": {},
     "output_type": "execute_result"
    }
   ],
   "source": [
    "print(\"Los mejores parámetros para el modelo SVM con kernel rbf son:\")\n",
    "svr.best_params_"
   ]
  },
  {
   "cell_type": "markdown",
   "metadata": {},
   "source": [
    "#### Predicción modelo SVM"
   ]
  },
  {
   "cell_type": "code",
   "execution_count": 12,
   "metadata": {
    "scrolled": true
   },
   "outputs": [
    {
     "name": "stdout",
     "output_type": "stream",
     "text": [
      "[  60.79366631 2769.63232016  565.48343308 1480.53269929  828.73954599\n",
      " 1590.17401243 1005.85001742 3102.99125699 3001.24078063 2523.31127079\n",
      " 1414.92826023 1398.51419633 2766.85280457 2191.76342123 1439.41011523\n",
      " 1327.5473009  1008.45447392 2120.91593809 2051.58379242  295.3547701\n",
      " 1717.43246771 1189.04242744 1457.51832506 2198.93532686 1697.70861977\n",
      " 1891.14216225 2385.08260101  476.67476104 1184.79209509 1210.86933767\n",
      " 1274.40510373 1777.89301554 2499.9842858  1215.57609108 1712.81682238\n",
      " 2991.41479688 2407.7695749   114.10657694 2373.48529582  934.24316258\n",
      " 1968.21876973 1412.12073774 1186.99722572 2667.81431354 1783.01061481\n",
      "  618.86727523 1006.64091182 2868.43447371 2411.77346868  790.86608441\n",
      " 1420.66935015  715.13459261 2027.46476091 1603.58432006  205.35435501\n",
      "  787.79866131 3372.04225987 2623.54016402 1866.90834312  714.95575178\n",
      " 1750.49811775  650.404763   1757.59496206 1284.75406802  320.79696955\n",
      " 2862.5009583   674.67306664 1435.42705361 2641.14399972 -460.20519002\n",
      "  632.6724677  1605.27790057 1103.69176547 1934.01009753  819.53116468\n",
      " 1712.78802049 1341.07931779 1645.63232148  988.38959638 1102.42758073\n",
      " 1311.90853029 1244.58802105 2955.97612203 2143.83996095 1227.52858442\n",
      " 1871.4075632  1576.93933781    8.48006491 1099.71612634 1816.45250504\n",
      " 1403.12916406 2320.78338513 3279.69588819 2349.68446674 -280.09195965\n",
      " 2467.07295605 2731.77031408  201.28402872  892.72685649 1303.34972425\n",
      " 1799.07298724 1353.44843417  956.05069522 1865.72272652 2449.2051082\n",
      "  969.00609238 1031.47279252 2449.87271199 2803.87880534 2839.95559587\n",
      " 1820.27155207 2134.84696237 2266.46720295 1614.01519818 2992.4429881\n",
      " 2403.05502806 3379.21678697 2365.35519903 1997.15300876  154.13520597\n",
      "  773.17298966 2573.21718797 1094.82285765 2706.61103411 2945.07669807\n",
      " 1475.57591971  850.38102768 -207.1959724  2312.14253414  663.18488134\n",
      " 3070.64149407  788.14617451 2097.57682599 1119.50492619 2825.14685419\n",
      " 1055.11254768 2235.15862704 1513.1398805  1526.14358866 2528.40482306\n",
      "  935.60094458  696.97720381 2346.34440473  944.25761542 2231.935903\n",
      "  384.63942397 2775.18693616 2779.31856326 2787.47294516 2595.65817524\n",
      " 1208.877315   3002.7268017  1853.56397791 1783.35039632 2099.44185297\n",
      " 2842.52784112 1450.78314346 2944.48822656 2440.8978981   596.24848322\n",
      " 1972.70169851 2455.10552103  788.61351779 1308.95060535 1533.90476672\n",
      " 2055.18334902  248.2466007   141.09644206 2323.28389429  844.55070813\n",
      " 3171.89426015 1390.79607316 1643.62408593  853.01720477 1896.40049252\n",
      " 1229.68360873 1610.8222706  1184.82097384  435.99694792 2973.38838798\n",
      " 1179.49042997  546.13432837 1461.02885267 1873.01158395  415.36888702\n",
      " 3007.07510797 2397.68878785 1265.38563534 1148.82921693 1070.60338177\n",
      " 2432.05014033 2404.68159028 1266.18586783 2389.22048223 2869.89382212\n",
      " 2492.95398062 1631.26123714 1582.04600971 2053.04951184 1233.67833628\n",
      " 2309.90427153 1814.55904689 1194.97549015 1517.58916863 1179.55944052\n",
      "  738.90575298  228.69269228 1373.06222993 1697.08936948 1253.50694662\n",
      " 1009.35073295 1067.38963819 1737.23306944 1317.92670736 2504.54301178\n",
      " 2720.46209453 1855.58292635 1113.80922332 2718.82408109 2254.5575719\n",
      " 3152.29614243 -112.61643395 2067.28505449  512.43760011 1745.90310443\n",
      " 1677.05036593  244.42371098 1321.31892675 3123.00036558 1299.86220632\n",
      " 1330.15836461 2395.32161954 1027.24366776 2535.02264375  311.45056839\n",
      " 2461.2832701   361.7369447   871.26800351  595.89138737  938.91066503\n",
      "  792.4063484  1950.12594123  957.492611   1566.74020746 1423.36913831\n",
      " 3215.44874672  251.00325248 1114.67138137 1379.09064184 1113.8168984\n",
      " 2788.7396087  2206.32538248 1107.11846149 1924.29815948 2374.51262803\n",
      " 2523.75069766 1210.5838557  2881.08148079  787.60043776 2879.04758997\n",
      " 1061.42296048 3076.37886596 1106.39279096 1246.16957635 1853.29054662\n",
      " 3080.64358115 1022.09668923 1245.56498319 3358.61996138 2568.68297009\n",
      " 1237.33892657 1607.07382786 1638.12441669 1644.32209007 1178.73111079\n",
      " 2661.53513621 3366.94288511 2692.08194885 1303.68741625 1043.23968547\n",
      "  936.4455118  1260.85251734 1915.74167746 2843.89363602 1014.0314324\n",
      " 2412.57613884  510.44718401  615.36421806 1740.17826351 1376.50330928\n",
      " 1407.47711326  723.70327612 1666.18411265 1432.38385209 2937.21470498\n",
      " 2750.16154814 2471.80781857 2481.37236345 2606.63401969  528.75434876\n",
      " 2712.09132664 2864.92208129 2111.77339328 2209.41154462  794.76084184\n",
      " 1261.37409189 2775.44066629 1175.52748168 2828.30611155   42.80637986\n",
      " 2805.41268702 2492.82781342]\n"
     ]
    }
   ],
   "source": [
    "#Modelo SVM con kernel lineal\n",
    "\n",
    "svr_lin = SVR(kernel='linear', C=1e4, epsilon=1e1, gamma=0.01).fit(X_train_scaled, y_train)\n",
    "y_lin = svr_lin.predict(X_train_scaled)\n",
    "print(y_lin)"
   ]
  },
  {
   "cell_type": "code",
   "execution_count": 13,
   "metadata": {},
   "outputs": [
    {
     "name": "stdout",
     "output_type": "stream",
     "text": [
      "Coeficientes: \n",
      " [[   18.13370138   158.7093141    533.08672747  1746.26901189\n",
      "  -1416.64177847 -1349.47476499  1722.5045268  -2278.76032857\n",
      "   1578.49518165   760.10449208  -408.97786085 -2611.44522866\n",
      "   2530.62496538]]\n"
     ]
    }
   ],
   "source": [
    "print('Coeficientes: \\n',svr_lin.coef_)"
   ]
  },
  {
   "cell_type": "code",
   "execution_count": 14,
   "metadata": {},
   "outputs": [
    {
     "data": {
      "text/plain": [
       "0.16053234972700614"
      ]
     },
     "execution_count": 14,
     "metadata": {},
     "output_type": "execute_result"
    }
   ],
   "source": [
    "#R^2 predicción GLM con kernel lineal\n",
    "\n",
    "r2_score(y_train,y_lin)"
   ]
  },
  {
   "cell_type": "code",
   "execution_count": 15,
   "metadata": {
    "scrolled": true
   },
   "outputs": [
    {
     "name": "stdout",
     "output_type": "stream",
     "text": [
      "[  60.79366631 2769.63232016  565.48343308 1480.53269929  828.73954599\n",
      " 1590.17401243 1005.85001742 3102.99125699 3001.24078063 2523.31127079\n",
      " 1414.92826023 1398.51419633 2766.85280457 2191.76342123 1439.41011523\n",
      " 1327.5473009  1008.45447392 2120.91593809 2051.58379242  295.3547701\n",
      " 1717.43246771 1189.04242744 1457.51832506 2198.93532686 1697.70861977\n",
      " 1891.14216225 2385.08260101  476.67476104 1184.79209509 1210.86933767\n",
      " 1274.40510373 1777.89301554 2499.9842858  1215.57609108 1712.81682238\n",
      " 2991.41479688 2407.7695749   114.10657694 2373.48529582  934.24316258\n",
      " 1968.21876973 1412.12073774 1186.99722572 2667.81431354 1783.01061481\n",
      "  618.86727523 1006.64091182 2868.43447371 2411.77346868  790.86608441\n",
      " 1420.66935015  715.13459261 2027.46476091 1603.58432006  205.35435501\n",
      "  787.79866131 3372.04225987 2623.54016402 1866.90834312  714.95575178\n",
      " 1750.49811775  650.404763   1757.59496206 1284.75406802  320.79696955\n",
      " 2862.5009583   674.67306664 1435.42705361 2641.14399972 -460.20519002\n",
      "  632.6724677  1605.27790057 1103.69176547 1934.01009753  819.53116468\n",
      " 1712.78802049 1341.07931779 1645.63232148  988.38959638 1102.42758073\n",
      " 1311.90853029 1244.58802105 2955.97612203 2143.83996095 1227.52858442\n",
      " 1871.4075632  1576.93933781    8.48006491 1099.71612634 1816.45250504\n",
      " 1403.12916406 2320.78338513 3279.69588819 2349.68446674 -280.09195965\n",
      " 2467.07295605 2731.77031408  201.28402872  892.72685649 1303.34972425\n",
      " 1799.07298724 1353.44843417  956.05069522 1865.72272652 2449.2051082\n",
      "  969.00609238 1031.47279252 2449.87271199 2803.87880534 2839.95559587\n",
      " 1820.27155207 2134.84696237 2266.46720295 1614.01519818 2992.4429881\n",
      " 2403.05502806 3379.21678697 2365.35519903 1997.15300876  154.13520597\n",
      "  773.17298966 2573.21718797 1094.82285765 2706.61103411 2945.07669807\n",
      " 1475.57591971  850.38102768 -207.1959724  2312.14253414  663.18488134\n",
      " 3070.64149407  788.14617451 2097.57682599 1119.50492619 2825.14685419\n",
      " 1055.11254768 2235.15862704 1513.1398805  1526.14358866 2528.40482306\n",
      "  935.60094458  696.97720381 2346.34440473  944.25761542 2231.935903\n",
      "  384.63942397 2775.18693616 2779.31856326 2787.47294516 2595.65817524\n",
      " 1208.877315   3002.7268017  1853.56397791 1783.35039632 2099.44185297\n",
      " 2842.52784112 1450.78314346 2944.48822656 2440.8978981   596.24848322\n",
      " 1972.70169851 2455.10552103  788.61351779 1308.95060535 1533.90476672\n",
      " 2055.18334902  248.2466007   141.09644206 2323.28389429  844.55070813\n",
      " 3171.89426015 1390.79607316 1643.62408593  853.01720477 1896.40049252\n",
      " 1229.68360873 1610.8222706  1184.82097384  435.99694792 2973.38838798\n",
      " 1179.49042997  546.13432837 1461.02885267 1873.01158395  415.36888702\n",
      " 3007.07510797 2397.68878785 1265.38563534 1148.82921693 1070.60338177\n",
      " 2432.05014033 2404.68159028 1266.18586783 2389.22048223 2869.89382212\n",
      " 2492.95398062 1631.26123714 1582.04600971 2053.04951184 1233.67833628\n",
      " 2309.90427153 1814.55904689 1194.97549015 1517.58916863 1179.55944052\n",
      "  738.90575298  228.69269228 1373.06222993 1697.08936948 1253.50694662\n",
      " 1009.35073295 1067.38963819 1737.23306944 1317.92670736 2504.54301178\n",
      " 2720.46209453 1855.58292635 1113.80922332 2718.82408109 2254.5575719\n",
      " 3152.29614243 -112.61643395 2067.28505449  512.43760011 1745.90310443\n",
      " 1677.05036593  244.42371098 1321.31892675 3123.00036558 1299.86220632\n",
      " 1330.15836461 2395.32161954 1027.24366776 2535.02264375  311.45056839\n",
      " 2461.2832701   361.7369447   871.26800351  595.89138737  938.91066503\n",
      "  792.4063484  1950.12594123  957.492611   1566.74020746 1423.36913831\n",
      " 3215.44874672  251.00325248 1114.67138137 1379.09064184 1113.8168984\n",
      " 2788.7396087  2206.32538248 1107.11846149 1924.29815948 2374.51262803\n",
      " 2523.75069766 1210.5838557  2881.08148079  787.60043776 2879.04758997\n",
      " 1061.42296048 3076.37886596 1106.39279096 1246.16957635 1853.29054662\n",
      " 3080.64358115 1022.09668923 1245.56498319 3358.61996138 2568.68297009\n",
      " 1237.33892657 1607.07382786 1638.12441669 1644.32209007 1178.73111079\n",
      " 2661.53513621 3366.94288511 2692.08194885 1303.68741625 1043.23968547\n",
      "  936.4455118  1260.85251734 1915.74167746 2843.89363602 1014.0314324\n",
      " 2412.57613884  510.44718401  615.36421806 1740.17826351 1376.50330928\n",
      " 1407.47711326  723.70327612 1666.18411265 1432.38385209 2937.21470498\n",
      " 2750.16154814 2471.80781857 2481.37236345 2606.63401969  528.75434876\n",
      " 2712.09132664 2864.92208129 2111.77339328 2209.41154462  794.76084184\n",
      " 1261.37409189 2775.44066629 1175.52748168 2828.30611155   42.80637986\n",
      " 2805.41268702 2492.82781342]\n"
     ]
    }
   ],
   "source": [
    "#Modelo SVM con kernel rbf\n",
    "\n",
    "svr_rbf = SVR(kernel='rbf', C=1e4, epsilon=1e1, gamma=0.01)\n",
    "y_rbf = svr_lin.fit(X_train_scaled, y_train).predict(X_train_scaled)\n",
    "print(y_rbf)"
   ]
  },
  {
   "cell_type": "code",
   "execution_count": 16,
   "metadata": {},
   "outputs": [
    {
     "data": {
      "text/plain": [
       "0.16053234972700614"
      ]
     },
     "execution_count": 16,
     "metadata": {},
     "output_type": "execute_result"
    }
   ],
   "source": [
    "#R^2 predicción GLM con kernel rbf\n",
    "\n",
    "r2_score(y_train,y_lin)"
   ]
  },
  {
   "cell_type": "code",
   "execution_count": 17,
   "metadata": {
    "scrolled": true
   },
   "outputs": [
    {
     "name": "stdout",
     "output_type": "stream",
     "text": [
      "GridSearchCV(cv=None, error_score='raise',\n",
      "       estimator=SVR(C=1.0, cache_size=200, coef0=0.0, degree=3, epsilon=0.1, gamma='auto',\n",
      "  kernel='rbf', max_iter=-1, shrinking=True, tol=0.001, verbose=False),\n",
      "       fit_params={}, iid=True, n_jobs=1,\n",
      "       param_grid={'kernel': ('linear', 'rbf'), 'C': [10000.0, 1000000.0, 1000.0]},\n",
      "       pre_dispatch='2*n_jobs', refit=True, scoring=None, verbose=0)\n"
     ]
    }
   ],
   "source": [
    "parameters = {'kernel':('linear', 'rbf'), 'C':[1e4,1e6, 1e3]} \n",
    "svr = svm.SVR () \n",
    "reg = grid_search.GridSearchCV(svr, parameters) \n",
    "print(reg.fit(X_train_scaled, y_train)) "
   ]
  },
  {
   "cell_type": "code",
   "execution_count": 18,
   "metadata": {},
   "outputs": [
    {
     "data": {
      "text/plain": [
       "{'C': 1000000.0, 'kernel': 'linear'}"
      ]
     },
     "execution_count": 18,
     "metadata": {},
     "output_type": "execute_result"
    }
   ],
   "source": [
    "reg.best_params_"
   ]
  },
  {
   "cell_type": "markdown",
   "metadata": {},
   "source": [
    "### Cross Validation"
   ]
  },
  {
   "cell_type": "code",
   "execution_count": 19,
   "metadata": {},
   "outputs": [
    {
     "name": "stdout",
     "output_type": "stream",
     "text": [
      "R^2: 0.0839\n",
      "RMSE: 1736.0989\n",
      "MAE: 915.5412\n"
     ]
    }
   ],
   "source": [
    "rkf=RepeatedKFold(n_splits=10,n_repeats=10) #la función RepeatkFolds permite crear una particion de datos y repetirla\n",
    "R_2=[]\n",
    "RMSE=[]\n",
    "MAE=[]\n",
    "for train_index, test_index in rkf.split(x):\n",
    "     \n",
    "    x2_train, x2_test = x.iloc[train_index], x.iloc[test_index]\n",
    "    y2_train, y2_test = y.iloc[train_index], y.iloc[test_index] # Values toma la transformación de box-cox\n",
    "    \n",
    "    #Escalando particiòn de datos\n",
    "    scaler2= preprocessing.StandardScaler().fit(x2_train)\n",
    "    X2_train_scaled=scaler.transform(x2_train)\n",
    "    X2_test_scaled=scaler.transform(x2_test)\n",
    " \n",
    "       \n",
    "    # Ajuste de los modelos\n",
    "    svr_lin = SVR(kernel='linear', C=1e4, epsilon=1e1, gamma=0.01).fit(X2_train_scaled, y2_train)\n",
    "    y_lin = svr_lin.predict(X2_test_scaled)\n",
    "    \n",
    "    R_2.append(r2_score(y2_test,y_lin))\n",
    "    RMSE.append(np.linalg.norm((y2_test-y_lin),2)/np.sqrt(len(y2_test)))\n",
    "    MAE.append(median_absolute_error(y2_test,y_lin))\n",
    " \n",
    "    \n",
    "print(\"R^2: %.4f\" % np.mean(R_2))\n",
    "print(\"RMSE: %.4f\" % np.mean(RMSE))\n",
    "print(\"MAE: %.4f\" % np.mean(MAE))"
   ]
  },
  {
   "cell_type": "markdown",
   "metadata": {},
   "source": [
    "### Hold Out Validation"
   ]
  },
  {
   "cell_type": "code",
   "execution_count": 20,
   "metadata": {},
   "outputs": [
    {
     "name": "stdout",
     "output_type": "stream",
     "text": [
      "R^2: 0.0836\n",
      "RMSE: 1797.9413\n",
      "MAE: 924.7951\n"
     ]
    }
   ],
   "source": [
    "R_2=[]\n",
    "RMSE=[]\n",
    "MAE=[]\n",
    "pred=[0]\n",
    "obs=[0]\n",
    "\n",
    "for i in range(100):\n",
    "    x3_train,x3_test,y3_train,y3_test=train_test_split(x,y,test_size=0.2) #Hacer partición de datos en entrenamiento y prueba\n",
    "\n",
    "    #Escalando particiòn de datos\n",
    "    scaler3= preprocessing.StandardScaler().fit(x3_train)\n",
    "    X3_train_scaled=scaler.transform(x3_train)\n",
    "    X3_test_scaled=scaler.transform(x3_test)\n",
    "    \n",
    "    # Ajuste de los modelos\n",
    "    svr_lin = SVR(kernel='linear', C=1e4, epsilon=1e1, gamma=0.01).fit(X3_train_scaled, y3_train)\n",
    "    y_lin = svr_lin.predict(X3_test_scaled)\n",
    "    \n",
    "    r_2=r2_score(y3_test, y_lin)\n",
    "    R_2.append(r_2)\n",
    "    RMSE.append(np.linalg.norm((y3_test-y_lin),2)/np.sqrt(len(y3_test)))\n",
    "    MAE.append(median_absolute_error(y3_test,y_lin))\n",
    "    \n",
    "    if r_2 >= max(R_2):\n",
    "        pred[0] = y_lin\n",
    "        obs[0] = y3_test\n",
    "    \n",
    "print(\"R^2: %.4f\" % np.mean(R_2))\n",
    "print(\"RMSE: %.4f\" % np.mean(RMSE))\n",
    "print(\"MAE: %.4f\" % np.mean(MAE))"
   ]
  },
  {
   "cell_type": "code",
   "execution_count": 21,
   "metadata": {
    "scrolled": false
   },
   "outputs": [
    {
     "data": {
      "text/html": [
       "<div>\n",
       "<style scoped>\n",
       "    .dataframe tbody tr th:only-of-type {\n",
       "        vertical-align: middle;\n",
       "    }\n",
       "\n",
       "    .dataframe tbody tr th {\n",
       "        vertical-align: top;\n",
       "    }\n",
       "\n",
       "    .dataframe thead th {\n",
       "        text-align: right;\n",
       "    }\n",
       "</style>\n",
       "<table border=\"1\" class=\"dataframe\">\n",
       "  <thead>\n",
       "    <tr style=\"text-align: right;\">\n",
       "      <th></th>\n",
       "      <th>0</th>\n",
       "    </tr>\n",
       "  </thead>\n",
       "  <tbody>\n",
       "    <tr>\n",
       "      <th>0</th>\n",
       "      <td>1905.265917</td>\n",
       "    </tr>\n",
       "    <tr>\n",
       "      <th>1</th>\n",
       "      <td>1993.442647</td>\n",
       "    </tr>\n",
       "    <tr>\n",
       "      <th>2</th>\n",
       "      <td>1558.196750</td>\n",
       "    </tr>\n",
       "    <tr>\n",
       "      <th>3</th>\n",
       "      <td>1752.414777</td>\n",
       "    </tr>\n",
       "    <tr>\n",
       "      <th>4</th>\n",
       "      <td>2209.201143</td>\n",
       "    </tr>\n",
       "    <tr>\n",
       "      <th>...</th>\n",
       "      <td>...</td>\n",
       "    </tr>\n",
       "    <tr>\n",
       "      <th>95</th>\n",
       "      <td>1338.650290</td>\n",
       "    </tr>\n",
       "    <tr>\n",
       "      <th>96</th>\n",
       "      <td>1863.451977</td>\n",
       "    </tr>\n",
       "    <tr>\n",
       "      <th>97</th>\n",
       "      <td>1645.010019</td>\n",
       "    </tr>\n",
       "    <tr>\n",
       "      <th>98</th>\n",
       "      <td>1889.358340</td>\n",
       "    </tr>\n",
       "    <tr>\n",
       "      <th>99</th>\n",
       "      <td>1560.439756</td>\n",
       "    </tr>\n",
       "  </tbody>\n",
       "</table>\n",
       "<p>100 rows × 1 columns</p>\n",
       "</div>"
      ],
      "text/plain": [
       "              0\n",
       "0   1905.265917\n",
       "1   1993.442647\n",
       "2   1558.196750\n",
       "3   1752.414777\n",
       "4   2209.201143\n",
       "..          ...\n",
       "95  1338.650290\n",
       "96  1863.451977\n",
       "97  1645.010019\n",
       "98  1889.358340\n",
       "99  1560.439756\n",
       "\n",
       "[100 rows x 1 columns]"
      ]
     },
     "execution_count": 21,
     "metadata": {},
     "output_type": "execute_result"
    }
   ],
   "source": [
    "pd.DataFrame(RMSE)"
   ]
  },
  {
   "cell_type": "code",
   "execution_count": 22,
   "metadata": {},
   "outputs": [],
   "source": [
    "df_RMSE = pd.DataFrame(RMSE)\n",
    "df_RMSE.to_csv('RMSE_SVM_todas.csv', header=False, index=False)"
   ]
  }
 ],
 "metadata": {
  "kernelspec": {
   "display_name": "Python 3",
   "language": "python",
   "name": "python3"
  },
  "language_info": {
   "codemirror_mode": {
    "name": "ipython",
    "version": 3
   },
   "file_extension": ".py",
   "mimetype": "text/x-python",
   "name": "python",
   "nbconvert_exporter": "python",
   "pygments_lexer": "ipython3",
   "version": "3.6.5"
  }
 },
 "nbformat": 4,
 "nbformat_minor": 2
}
